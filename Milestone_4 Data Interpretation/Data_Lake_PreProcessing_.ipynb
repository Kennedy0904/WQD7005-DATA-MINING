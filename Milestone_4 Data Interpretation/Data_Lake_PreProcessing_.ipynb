{
 "cells": [
  {
   "cell_type": "code",
   "execution_count": 60,
   "metadata": {},
   "outputs": [],
   "source": [
    "# Import library\n",
    "import pandas as pd\n",
    "import numpy as np\n",
    "import pymongo\n",
    "import json\n",
    "import datetime\n",
    "import nltk\n",
    "from nltk.corpus import stopwords, wordnet\n",
    "from nltk.tokenize import word_tokenize\n",
    "from nltk.stem import WordNetLemmatizer\n",
    "from nltk.stem.snowball import SnowballStemmer\n",
    "from nltk.sentiment.vader import SentimentIntensityAnalyzer\n",
    "import string\n",
    "import re\n",
    "import matplotlib.pyplot as plt\n",
    "import seaborn as sns\n",
    "%matplotlib inline\n",
    "from sklearn.model_selection import train_test_split\n",
    "from sklearn.feature_extraction.text import TfidfVectorizer\n",
    "from sklearn.linear_model import LogisticRegression\n",
    "from sklearn.metrics import accuracy_score, precision_score, recall_score, f1_score, confusion_matrix\n",
    "from sklearn.linear_model import LogisticRegression\n",
    "from sklearn.tree import DecisionTreeClassifier\n",
    "from sklearn.ensemble import RandomForestClassifier\n",
    "from sklearn.naive_bayes import MultinomialNB\n",
    "from xgboost import XGBClassifier\n",
    "from sklearn.svm import SVC\n",
    "import time"
   ]
  },
  {
   "cell_type": "code",
   "execution_count": 4,
   "metadata": {},
   "outputs": [],
   "source": [
    "# Load json data into dataframe (read directly from Mongodb)\n",
    "# Declare MONGODB Instance (localhost)\n",
    "mongo_client = pymongo.MongoClient('mongodb://127.0.0.1:27017/')\n",
    "mongo_db = mongo_client['myDB']\n",
    "mongo_collection = mongo_db['DataMining_Trump']\n",
    "\n",
    "# Read all data into pandas dataframe\n",
    "df = pd.DataFrame(list(mongo_collection.find()))"
   ]
  },
  {
   "cell_type": "code",
   "execution_count": 5,
   "metadata": {},
   "outputs": [
    {
     "data": {
      "text/plain": [
       "(13258, 9)"
      ]
     },
     "execution_count": 5,
     "metadata": {},
     "output_type": "execute_result"
    }
   ],
   "source": [
    "df.shape"
   ]
  },
  {
   "cell_type": "code",
   "execution_count": 6,
   "metadata": {},
   "outputs": [
    {
     "data": {
      "text/html": [
       "<div>\n",
       "<style scoped>\n",
       "    .dataframe tbody tr th:only-of-type {\n",
       "        vertical-align: middle;\n",
       "    }\n",
       "\n",
       "    .dataframe tbody tr th {\n",
       "        vertical-align: top;\n",
       "    }\n",
       "\n",
       "    .dataframe thead th {\n",
       "        text-align: right;\n",
       "    }\n",
       "</style>\n",
       "<table border=\"1\" class=\"dataframe\">\n",
       "  <thead>\n",
       "    <tr style=\"text-align: right;\">\n",
       "      <th></th>\n",
       "      <th>_id</th>\n",
       "      <th>created_at</th>\n",
       "      <th>id</th>\n",
       "      <th>screen_name:</th>\n",
       "      <th>lang</th>\n",
       "      <th>is_quote_status</th>\n",
       "      <th>is_retweet_status</th>\n",
       "      <th>full_text</th>\n",
       "      <th>quote_text</th>\n",
       "    </tr>\n",
       "  </thead>\n",
       "  <tbody>\n",
       "    <tr>\n",
       "      <th>0</th>\n",
       "      <td>5ebe3bd2403dbfa81a78369a</td>\n",
       "      <td>2020-05-15 06:50:51</td>\n",
       "      <td>1261187267852451840</td>\n",
       "      <td>FalconhunterNRA</td>\n",
       "      <td>en</td>\n",
       "      <td>False</td>\n",
       "      <td>True</td>\n",
       "      <td>ICYMI: #FLYNNATTORNEY: Entrapment Plan Orchest...</td>\n",
       "      <td></td>\n",
       "    </tr>\n",
       "    <tr>\n",
       "      <th>1</th>\n",
       "      <td>5ebe3bd6403dbfa81a78369b</td>\n",
       "      <td>2020-05-15 06:50:54</td>\n",
       "      <td>1261187283530788867</td>\n",
       "      <td>RafaelGarciaLAF</td>\n",
       "      <td>es</td>\n",
       "      <td>False</td>\n",
       "      <td>True</td>\n",
       "      <td>#Trump dice que los médicos y enfermeras \"corr...</td>\n",
       "      <td></td>\n",
       "    </tr>\n",
       "    <tr>\n",
       "      <th>2</th>\n",
       "      <td>5ebe3bdc403dbfa81a78369c</td>\n",
       "      <td>2020-05-15 06:51:00</td>\n",
       "      <td>1261187309204103168</td>\n",
       "      <td>ZA1194</td>\n",
       "      <td>en</td>\n",
       "      <td>False</td>\n",
       "      <td>False</td>\n",
       "      <td>@Neganwillclocku @AngelaBelcamino @realDonaldT...</td>\n",
       "      <td></td>\n",
       "    </tr>\n",
       "    <tr>\n",
       "      <th>3</th>\n",
       "      <td>5ebe3bdd403dbfa81a78369d</td>\n",
       "      <td>2020-05-15 06:51:01</td>\n",
       "      <td>1261187312005926913</td>\n",
       "      <td>gary_burch</td>\n",
       "      <td>en</td>\n",
       "      <td>False</td>\n",
       "      <td>True</td>\n",
       "      <td>When this pandemic is all over, the four count...</td>\n",
       "      <td></td>\n",
       "    </tr>\n",
       "    <tr>\n",
       "      <th>4</th>\n",
       "      <td>5ebe3bdd403dbfa81a78369e</td>\n",
       "      <td>2020-05-15 06:51:01</td>\n",
       "      <td>1261187312429314048</td>\n",
       "      <td>Praveenkumarur3</td>\n",
       "      <td>hi</td>\n",
       "      <td>False</td>\n",
       "      <td>False</td>\n",
       "      <td>500 अरब डॉलर की बचत होगी.'' ट्रंप ने चीन से सा...</td>\n",
       "      <td></td>\n",
       "    </tr>\n",
       "  </tbody>\n",
       "</table>\n",
       "</div>"
      ],
      "text/plain": [
       "                        _id          created_at                   id  \\\n",
       "0  5ebe3bd2403dbfa81a78369a 2020-05-15 06:50:51  1261187267852451840   \n",
       "1  5ebe3bd6403dbfa81a78369b 2020-05-15 06:50:54  1261187283530788867   \n",
       "2  5ebe3bdc403dbfa81a78369c 2020-05-15 06:51:00  1261187309204103168   \n",
       "3  5ebe3bdd403dbfa81a78369d 2020-05-15 06:51:01  1261187312005926913   \n",
       "4  5ebe3bdd403dbfa81a78369e 2020-05-15 06:51:01  1261187312429314048   \n",
       "\n",
       "      screen_name: lang  is_quote_status  is_retweet_status  \\\n",
       "0  FalconhunterNRA   en            False               True   \n",
       "1  RafaelGarciaLAF   es            False               True   \n",
       "2           ZA1194   en            False              False   \n",
       "3       gary_burch   en            False               True   \n",
       "4  Praveenkumarur3   hi            False              False   \n",
       "\n",
       "                                           full_text quote_text  \n",
       "0  ICYMI: #FLYNNATTORNEY: Entrapment Plan Orchest...             \n",
       "1  #Trump dice que los médicos y enfermeras \"corr...             \n",
       "2  @Neganwillclocku @AngelaBelcamino @realDonaldT...             \n",
       "3  When this pandemic is all over, the four count...             \n",
       "4  500 अरब डॉलर की बचत होगी.'' ट्रंप ने चीन से सा...             "
      ]
     },
     "execution_count": 6,
     "metadata": {},
     "output_type": "execute_result"
    }
   ],
   "source": [
    "df.head()"
   ]
  },
  {
   "cell_type": "markdown",
   "metadata": {},
   "source": [
    "### Things to clean:\n",
    "- Checking any missing/ duplicated value\n",
    "- Extract data from json object inside cell for columns `_id`, `created_at`, `id`\n",
    "- Rename columns\n",
    "\n",
    "### Text cleaning:\n",
    "- For `full_text`, `quote_text` column, text preprocessing is required for sentiment analysis\n",
    "- Convert to lowercase, remove noise and stopword, tokenization"
   ]
  },
  {
   "cell_type": "markdown",
   "metadata": {},
   "source": [
    "Before data cleaning, create another copy of dataframe."
   ]
  },
  {
   "cell_type": "code",
   "execution_count": 7,
   "metadata": {},
   "outputs": [],
   "source": [
    "df_clean = df.copy()"
   ]
  },
  {
   "cell_type": "markdown",
   "metadata": {},
   "source": [
    "#### Checking missing value"
   ]
  },
  {
   "cell_type": "code",
   "execution_count": 8,
   "metadata": {},
   "outputs": [
    {
     "data": {
      "text/plain": [
       "_id                  0\n",
       "created_at           0\n",
       "id                   0\n",
       "screen_name:         0\n",
       "lang                 0\n",
       "is_quote_status      0\n",
       "is_retweet_status    0\n",
       "full_text            0\n",
       "quote_text           0\n",
       "dtype: int64"
      ]
     },
     "execution_count": 8,
     "metadata": {},
     "output_type": "execute_result"
    }
   ],
   "source": [
    "# Checking missing value\n",
    "df_clean.isnull().sum()"
   ]
  },
  {
   "cell_type": "markdown",
   "metadata": {},
   "source": [
    "No missing value is found."
   ]
  },
  {
   "cell_type": "markdown",
   "metadata": {},
   "source": [
    "#### Checking duplicated value"
   ]
  },
  {
   "cell_type": "code",
   "execution_count": 9,
   "metadata": {
    "scrolled": true
   },
   "outputs": [
    {
     "data": {
      "text/plain": [
       "0"
      ]
     },
     "execution_count": 9,
     "metadata": {},
     "output_type": "execute_result"
    }
   ],
   "source": [
    "# Checking duplicated value\n",
    "df_clean.duplicated().sum()"
   ]
  },
  {
   "cell_type": "markdown",
   "metadata": {},
   "source": [
    "No duplicate row is found."
   ]
  },
  {
   "cell_type": "code",
   "execution_count": 10,
   "metadata": {
    "scrolled": true
   },
   "outputs": [
    {
     "name": "stdout",
     "output_type": "stream",
     "text": [
      "<class 'pandas.core.frame.DataFrame'>\n",
      "RangeIndex: 13258 entries, 0 to 13257\n",
      "Data columns (total 9 columns):\n",
      " #   Column             Non-Null Count  Dtype         \n",
      "---  ------             --------------  -----         \n",
      " 0   _id                13258 non-null  object        \n",
      " 1   created_at         13258 non-null  datetime64[ns]\n",
      " 2   id                 13258 non-null  int64         \n",
      " 3   screen_name:       13258 non-null  object        \n",
      " 4   lang               13258 non-null  object        \n",
      " 5   is_quote_status    13258 non-null  bool          \n",
      " 6   is_retweet_status  13258 non-null  bool          \n",
      " 7   full_text          13258 non-null  object        \n",
      " 8   quote_text         13258 non-null  object        \n",
      "dtypes: bool(2), datetime64[ns](1), int64(1), object(5)\n",
      "memory usage: 751.1+ KB\n"
     ]
    }
   ],
   "source": [
    "# Dataset info\n",
    "df_clean.info()"
   ]
  },
  {
   "cell_type": "markdown",
   "metadata": {},
   "source": [
    "#### Drop Columns\n",
    "`_id` is id from mongo database, thus, it is not required in this project and could be dropped."
   ]
  },
  {
   "cell_type": "code",
   "execution_count": 11,
   "metadata": {},
   "outputs": [],
   "source": [
    "df_clean.drop('_id', axis =1, inplace =True)"
   ]
  },
  {
   "cell_type": "markdown",
   "metadata": {},
   "source": [
    "#### Rename Columns\n",
    "- Change `id` to `user_id`  \n",
    "- Change `screen_name:` to `username`\n",
    "- Change `lang` to `language`"
   ]
  },
  {
   "cell_type": "code",
   "execution_count": 12,
   "metadata": {},
   "outputs": [],
   "source": [
    "df_clean.rename(columns = {'id':'user_id', 'screen_name:':'username', 'lang':'language'}, inplace = True)"
   ]
  },
  {
   "cell_type": "code",
   "execution_count": 13,
   "metadata": {},
   "outputs": [
    {
     "data": {
      "text/html": [
       "<div>\n",
       "<style scoped>\n",
       "    .dataframe tbody tr th:only-of-type {\n",
       "        vertical-align: middle;\n",
       "    }\n",
       "\n",
       "    .dataframe tbody tr th {\n",
       "        vertical-align: top;\n",
       "    }\n",
       "\n",
       "    .dataframe thead th {\n",
       "        text-align: right;\n",
       "    }\n",
       "</style>\n",
       "<table border=\"1\" class=\"dataframe\">\n",
       "  <thead>\n",
       "    <tr style=\"text-align: right;\">\n",
       "      <th></th>\n",
       "      <th>created_at</th>\n",
       "      <th>user_id</th>\n",
       "      <th>username</th>\n",
       "      <th>language</th>\n",
       "      <th>is_quote_status</th>\n",
       "      <th>is_retweet_status</th>\n",
       "      <th>full_text</th>\n",
       "      <th>quote_text</th>\n",
       "    </tr>\n",
       "  </thead>\n",
       "  <tbody>\n",
       "    <tr>\n",
       "      <th>3548</th>\n",
       "      <td>2020-05-27 12:49:19</td>\n",
       "      <td>1265626137113354240</td>\n",
       "      <td>exotic_don</td>\n",
       "      <td>und</td>\n",
       "      <td>True</td>\n",
       "      <td>False</td>\n",
       "      <td>#TrumpIsAnIdiot #trump #TrumpDeathToll100K #Trump</td>\n",
       "      <td>It’s hard to wrap our brains around so many lo...</td>\n",
       "    </tr>\n",
       "    <tr>\n",
       "      <th>5197</th>\n",
       "      <td>2020-05-27 13:10:05</td>\n",
       "      <td>1265631360301105157</td>\n",
       "      <td>R24966786</td>\n",
       "      <td>en</td>\n",
       "      <td>False</td>\n",
       "      <td>True</td>\n",
       "      <td>Well played @narendramodi @DrSJaishankar 👌🏼🔥 #...</td>\n",
       "      <td></td>\n",
       "    </tr>\n",
       "    <tr>\n",
       "      <th>2326</th>\n",
       "      <td>2020-05-15 14:26:31</td>\n",
       "      <td>1261301942657171457</td>\n",
       "      <td>freddie1999</td>\n",
       "      <td>en</td>\n",
       "      <td>False</td>\n",
       "      <td>True</td>\n",
       "      <td>US-China tensions rise as #Trump administratio...</td>\n",
       "      <td></td>\n",
       "    </tr>\n",
       "    <tr>\n",
       "      <th>10849</th>\n",
       "      <td>2020-05-27 14:19:18</td>\n",
       "      <td>1265648780893990912</td>\n",
       "      <td>HinduRastraRSS</td>\n",
       "      <td>und</td>\n",
       "      <td>True</td>\n",
       "      <td>False</td>\n",
       "      <td>@ANI https://t.co/2HauSRTyXQ</td>\n",
       "      <td>@FarhanGondal @ANI @WHO #China is now divertin...</td>\n",
       "    </tr>\n",
       "    <tr>\n",
       "      <th>7707</th>\n",
       "      <td>2020-05-27 13:39:12</td>\n",
       "      <td>1265638687641042945</td>\n",
       "      <td>lebemitliebe</td>\n",
       "      <td>de</td>\n",
       "      <td>False</td>\n",
       "      <td>True</td>\n",
       "      <td>+ #Trump droht sozialen Medien mit Schließung ...</td>\n",
       "      <td></td>\n",
       "    </tr>\n",
       "    <tr>\n",
       "      <th>12622</th>\n",
       "      <td>2020-05-27 14:41:14</td>\n",
       "      <td>1265654301881520129</td>\n",
       "      <td>timbgood</td>\n",
       "      <td>en</td>\n",
       "      <td>True</td>\n",
       "      <td>False</td>\n",
       "      <td>We have known for years that White Power adher...</td>\n",
       "      <td>Yes, #Trump's Aide Really Did Throw \"White Pow...</td>\n",
       "    </tr>\n",
       "    <tr>\n",
       "      <th>8951</th>\n",
       "      <td>2020-05-27 13:54:38</td>\n",
       "      <td>1265642573735112704</td>\n",
       "      <td>suryakant_shaha</td>\n",
       "      <td>en</td>\n",
       "      <td>False</td>\n",
       "      <td>True</td>\n",
       "      <td>Well played @narendramodi @DrSJaishankar 👌🏼🔥 #...</td>\n",
       "      <td></td>\n",
       "    </tr>\n",
       "    <tr>\n",
       "      <th>10773</th>\n",
       "      <td>2020-05-27 14:18:26</td>\n",
       "      <td>1265648560521043975</td>\n",
       "      <td>realconvictdon1</td>\n",
       "      <td>en</td>\n",
       "      <td>False</td>\n",
       "      <td>False</td>\n",
       "      <td>@AndyOstroy @realDonaldTrump Actually THIS is ...</td>\n",
       "      <td></td>\n",
       "    </tr>\n",
       "    <tr>\n",
       "      <th>4886</th>\n",
       "      <td>2020-05-27 13:06:26</td>\n",
       "      <td>1265630443199758336</td>\n",
       "      <td>SusanDuclos</td>\n",
       "      <td>en</td>\n",
       "      <td>False</td>\n",
       "      <td>True</td>\n",
       "      <td>Stick a Fork in It: #Trump Celebrates Implosio...</td>\n",
       "      <td></td>\n",
       "    </tr>\n",
       "    <tr>\n",
       "      <th>8321</th>\n",
       "      <td>2020-05-27 13:46:30</td>\n",
       "      <td>1265640525341712384</td>\n",
       "      <td>AngelaR33734347</td>\n",
       "      <td>en</td>\n",
       "      <td>False</td>\n",
       "      <td>False</td>\n",
       "      <td>@realDonaldTrump 100,000 American deaths from ...</td>\n",
       "      <td></td>\n",
       "    </tr>\n",
       "  </tbody>\n",
       "</table>\n",
       "</div>"
      ],
      "text/plain": [
       "               created_at              user_id         username language  \\\n",
       "3548  2020-05-27 12:49:19  1265626137113354240       exotic_don      und   \n",
       "5197  2020-05-27 13:10:05  1265631360301105157        R24966786       en   \n",
       "2326  2020-05-15 14:26:31  1261301942657171457      freddie1999       en   \n",
       "10849 2020-05-27 14:19:18  1265648780893990912   HinduRastraRSS      und   \n",
       "7707  2020-05-27 13:39:12  1265638687641042945     lebemitliebe       de   \n",
       "12622 2020-05-27 14:41:14  1265654301881520129         timbgood       en   \n",
       "8951  2020-05-27 13:54:38  1265642573735112704  suryakant_shaha       en   \n",
       "10773 2020-05-27 14:18:26  1265648560521043975  realconvictdon1       en   \n",
       "4886  2020-05-27 13:06:26  1265630443199758336      SusanDuclos       en   \n",
       "8321  2020-05-27 13:46:30  1265640525341712384  AngelaR33734347       en   \n",
       "\n",
       "       is_quote_status  is_retweet_status  \\\n",
       "3548              True              False   \n",
       "5197             False               True   \n",
       "2326             False               True   \n",
       "10849             True              False   \n",
       "7707             False               True   \n",
       "12622             True              False   \n",
       "8951             False               True   \n",
       "10773            False              False   \n",
       "4886             False               True   \n",
       "8321             False              False   \n",
       "\n",
       "                                               full_text  \\\n",
       "3548   #TrumpIsAnIdiot #trump #TrumpDeathToll100K #Trump   \n",
       "5197   Well played @narendramodi @DrSJaishankar 👌🏼🔥 #...   \n",
       "2326   US-China tensions rise as #Trump administratio...   \n",
       "10849                       @ANI https://t.co/2HauSRTyXQ   \n",
       "7707   + #Trump droht sozialen Medien mit Schließung ...   \n",
       "12622  We have known for years that White Power adher...   \n",
       "8951   Well played @narendramodi @DrSJaishankar 👌🏼🔥 #...   \n",
       "10773  @AndyOstroy @realDonaldTrump Actually THIS is ...   \n",
       "4886   Stick a Fork in It: #Trump Celebrates Implosio...   \n",
       "8321   @realDonaldTrump 100,000 American deaths from ...   \n",
       "\n",
       "                                              quote_text  \n",
       "3548   It’s hard to wrap our brains around so many lo...  \n",
       "5197                                                      \n",
       "2326                                                      \n",
       "10849  @FarhanGondal @ANI @WHO #China is now divertin...  \n",
       "7707                                                      \n",
       "12622  Yes, #Trump's Aide Really Did Throw \"White Pow...  \n",
       "8951                                                      \n",
       "10773                                                     \n",
       "4886                                                      \n",
       "8321                                                      "
      ]
     },
     "execution_count": 13,
     "metadata": {},
     "output_type": "execute_result"
    }
   ],
   "source": [
    "df_clean.sample(10)"
   ]
  },
  {
   "cell_type": "markdown",
   "metadata": {},
   "source": [
    "#### Define Data Cleaning Functions\n",
    "For tweet cleaning, may refer [here](https://towardsdatascience.com/extracting-twitter-data-pre-processing-and-sentiment-analysis-using-python-3-0-7192bd8b47cf)."
   ]
  },
  {
   "cell_type": "code",
   "execution_count": 14,
   "metadata": {},
   "outputs": [],
   "source": [
    "# Convert all characters to lowercase\n",
    "def to_lowercase(text):\n",
    "    text  = text.lower()\n",
    "    return text"
   ]
  },
  {
   "cell_type": "code",
   "execution_count": 15,
   "metadata": {},
   "outputs": [],
   "source": [
    "#Emoji patterns\n",
    "emoji_pattern = re.compile(\"[\"\n",
    "         u\"\\U0001F600-\\U0001F64F\"  # emoticons\n",
    "         u\"\\U0001F300-\\U0001F5FF\"  # symbols & pictographs\n",
    "         u\"\\U0001F680-\\U0001F6FF\"  # transport & map symbols\n",
    "         u\"\\U0001F1E0-\\U0001F1FF\"  # flags (iOS)\n",
    "         u\"\\U00002702-\\U000027B0\"\n",
    "         u\"\\U000024C2-\\U0001F251\"\n",
    "         \"]+\", flags=re.UNICODE)"
   ]
  },
  {
   "cell_type": "code",
   "execution_count": 16,
   "metadata": {},
   "outputs": [],
   "source": [
    "# Remove Emoji\n",
    "def remove_emoji(text):\n",
    "    text = emoji_pattern.sub(r'', text)\n",
    "    return text"
   ]
  },
  {
   "cell_type": "code",
   "execution_count": 17,
   "metadata": {},
   "outputs": [],
   "source": [
    "# Remove Mentions\n",
    "def remove_mention(text):\n",
    "    text = re.sub(r'@[A-Za-z0-9]+', '', text)\n",
    "    return text"
   ]
  },
  {
   "cell_type": "code",
   "execution_count": 18,
   "metadata": {},
   "outputs": [],
   "source": [
    "# Remove Hashtag\n",
    "def remove_hashtag(text):\n",
    "    text = re.sub(r'#\\w+', '', text)\n",
    "    return text"
   ]
  },
  {
   "cell_type": "code",
   "execution_count": 19,
   "metadata": {},
   "outputs": [],
   "source": [
    "# Remove URL\n",
    "def remove_url(text):\n",
    "    text = re.sub(r'\\b(?:(?:https?|ftp)://)?\\w[\\w-]*(?:\\.[\\w-]+)+\\S*', ' ', text)\n",
    "    return text"
   ]
  },
  {
   "cell_type": "code",
   "execution_count": 20,
   "metadata": {},
   "outputs": [],
   "source": [
    "# Replace consecutive non-ASCII characters with a space\n",
    "def replace_nonASCII(text):\n",
    "    text = re.sub(r'[^\\x00-\\x7F]+',' ', text)\n",
    "    return text"
   ]
  },
  {
   "cell_type": "code",
   "execution_count": 21,
   "metadata": {},
   "outputs": [],
   "source": [
    "# Remove punctuation\n",
    "def remove_punct(text):\n",
    "    text  = \"\".join([char for char in text if char not in string.punctuation])\n",
    "    text = re.sub('[0-9]+', '', text)\n",
    "    return text"
   ]
  },
  {
   "cell_type": "code",
   "execution_count": 22,
   "metadata": {},
   "outputs": [],
   "source": [
    "# Remove stopwords\n",
    "stopwordsList = set(stopwords.words('english')) \n",
    "def remove_stopwords(text):\n",
    "    text = [word for word in text if word not in stopwordsList]\n",
    "    return text"
   ]
  },
  {
   "cell_type": "code",
   "execution_count": 23,
   "metadata": {},
   "outputs": [],
   "source": [
    "# Tokenize words\n",
    "def tokenize(text):\n",
    "    word_tokens = word_tokenize(text)\n",
    "    return word_tokens"
   ]
  },
  {
   "cell_type": "code",
   "execution_count": 24,
   "metadata": {},
   "outputs": [],
   "source": [
    "# Combine all the functions\n",
    "def datapreprocessing(review):\n",
    "    \n",
    "    # Convert the text into lowercase\n",
    "    review = to_lowercase(review)\n",
    "    \n",
    "    # Clean tweet\n",
    "    review = remove_mention(review)\n",
    "    review = remove_url(review)\n",
    "    review = remove_hashtag(review)\n",
    "    review = remove_emoji(review)\n",
    "    review = replace_nonASCII(review)\n",
    "        \n",
    "    # Remove punctuation\n",
    "    review = remove_punct(review)\n",
    "    \n",
    "    # Tokenization\n",
    "    review = word_tokenize(review)\n",
    "    \n",
    "    # Remove stopwords\n",
    "    review = remove_stopwords(review)\n",
    "    \n",
    "    #return review\n",
    "    return \" \".join(review)"
   ]
  },
  {
   "cell_type": "markdown",
   "metadata": {},
   "source": [
    "Before text preprocessing, we would like to remain all the text in **English** only."
   ]
  },
  {
   "cell_type": "code",
   "execution_count": 25,
   "metadata": {},
   "outputs": [],
   "source": [
    "df_clean = df_clean.loc[df_clean['language'] == 'en']"
   ]
  },
  {
   "cell_type": "code",
   "execution_count": 26,
   "metadata": {},
   "outputs": [],
   "source": [
    "cols = ['full_text', 'quote_text']\n",
    "\n",
    "for c in cols:\n",
    "    df_clean[c] = df_clean[c].apply(lambda x: datapreprocessing(x))"
   ]
  },
  {
   "cell_type": "code",
   "execution_count": 27,
   "metadata": {
    "scrolled": false
   },
   "outputs": [
    {
     "data": {
      "text/html": [
       "<div>\n",
       "<style scoped>\n",
       "    .dataframe tbody tr th:only-of-type {\n",
       "        vertical-align: middle;\n",
       "    }\n",
       "\n",
       "    .dataframe tbody tr th {\n",
       "        vertical-align: top;\n",
       "    }\n",
       "\n",
       "    .dataframe thead th {\n",
       "        text-align: right;\n",
       "    }\n",
       "</style>\n",
       "<table border=\"1\" class=\"dataframe\">\n",
       "  <thead>\n",
       "    <tr style=\"text-align: right;\">\n",
       "      <th></th>\n",
       "      <th>created_at</th>\n",
       "      <th>user_id</th>\n",
       "      <th>username</th>\n",
       "      <th>language</th>\n",
       "      <th>is_quote_status</th>\n",
       "      <th>is_retweet_status</th>\n",
       "      <th>full_text</th>\n",
       "      <th>quote_text</th>\n",
       "    </tr>\n",
       "  </thead>\n",
       "  <tbody>\n",
       "    <tr>\n",
       "      <th>0</th>\n",
       "      <td>2020-05-15 06:50:51</td>\n",
       "      <td>1261187267852451840</td>\n",
       "      <td>FalconhunterNRA</td>\n",
       "      <td>en</td>\n",
       "      <td>False</td>\n",
       "      <td>True</td>\n",
       "      <td>icymi entrapment plan orchestrated top meeting</td>\n",
       "      <td></td>\n",
       "    </tr>\n",
       "    <tr>\n",
       "      <th>2</th>\n",
       "      <td>2020-05-15 06:51:00</td>\n",
       "      <td>1261187309204103168</td>\n",
       "      <td>ZA1194</td>\n",
       "      <td>en</td>\n",
       "      <td>False</td>\n",
       "      <td>False</td>\n",
       "      <td>notice supporters ignore</td>\n",
       "      <td></td>\n",
       "    </tr>\n",
       "    <tr>\n",
       "      <th>3</th>\n",
       "      <td>2020-05-15 06:51:01</td>\n",
       "      <td>1261187312005926913</td>\n",
       "      <td>gary_burch</td>\n",
       "      <td>en</td>\n",
       "      <td>False</td>\n",
       "      <td>True</td>\n",
       "      <td>pandemic four countries deaths almost certainl...</td>\n",
       "      <td></td>\n",
       "    </tr>\n",
       "    <tr>\n",
       "      <th>6</th>\n",
       "      <td>2020-05-15 06:51:05</td>\n",
       "      <td>1261187328950759425</td>\n",
       "      <td>zorinstv</td>\n",
       "      <td>en</td>\n",
       "      <td>False</td>\n",
       "      <td>False</td>\n",
       "      <td>joe biden says would pardon trump block invest...</td>\n",
       "      <td></td>\n",
       "    </tr>\n",
       "    <tr>\n",
       "      <th>8</th>\n",
       "      <td>2020-05-15 06:51:06</td>\n",
       "      <td>1261187332394356736</td>\n",
       "      <td>Bulla_Adriano</td>\n",
       "      <td>en</td>\n",
       "      <td>False</td>\n",
       "      <td>True</td>\n",
       "      <td>may th president obama giving commencement spe...</td>\n",
       "      <td></td>\n",
       "    </tr>\n",
       "    <tr>\n",
       "      <th>...</th>\n",
       "      <td>...</td>\n",
       "      <td>...</td>\n",
       "      <td>...</td>\n",
       "      <td>...</td>\n",
       "      <td>...</td>\n",
       "      <td>...</td>\n",
       "      <td>...</td>\n",
       "      <td>...</td>\n",
       "    </tr>\n",
       "    <tr>\n",
       "      <th>13252</th>\n",
       "      <td>2020-05-27 14:48:05</td>\n",
       "      <td>1265656022988800002</td>\n",
       "      <td>twiiit_sam</td>\n",
       "      <td>en</td>\n",
       "      <td>False</td>\n",
       "      <td>False</td>\n",
       "      <td>must understand</td>\n",
       "      <td></td>\n",
       "    </tr>\n",
       "    <tr>\n",
       "      <th>13254</th>\n",
       "      <td>2020-05-27 14:48:05</td>\n",
       "      <td>1265656024553459714</td>\n",
       "      <td>10223335</td>\n",
       "      <td>en</td>\n",
       "      <td>False</td>\n",
       "      <td>True</td>\n",
       "      <td>add resist darius rt</td>\n",
       "      <td></td>\n",
       "    </tr>\n",
       "    <tr>\n",
       "      <th>13255</th>\n",
       "      <td>2020-05-27 14:48:05</td>\n",
       "      <td>1265656025379672069</td>\n",
       "      <td>satinpantylover</td>\n",
       "      <td>en</td>\n",
       "      <td>True</td>\n",
       "      <td>True</td>\n",
       "      <td>oh seriously rt need finally demonstrate many ...</td>\n",
       "      <td>think right thing placing fact checks tweets p...</td>\n",
       "    </tr>\n",
       "    <tr>\n",
       "      <th>13256</th>\n",
       "      <td>2020-05-27 14:48:09</td>\n",
       "      <td>1265656041997565958</td>\n",
       "      <td>LudwigdrumB</td>\n",
       "      <td>en</td>\n",
       "      <td>False</td>\n",
       "      <td>True</td>\n",
       "      <td>threatens shut social media spat twitter maili...</td>\n",
       "      <td></td>\n",
       "    </tr>\n",
       "    <tr>\n",
       "      <th>13257</th>\n",
       "      <td>2020-05-27 14:48:10</td>\n",
       "      <td>1265656042807078917</td>\n",
       "      <td>Sportymorty</td>\n",
       "      <td>en</td>\n",
       "      <td>False</td>\n",
       "      <td>False</td>\n",
       "      <td>panetta photographs say lot see respect xis ey...</td>\n",
       "      <td></td>\n",
       "    </tr>\n",
       "  </tbody>\n",
       "</table>\n",
       "<p>8911 rows × 8 columns</p>\n",
       "</div>"
      ],
      "text/plain": [
       "               created_at              user_id         username language  \\\n",
       "0     2020-05-15 06:50:51  1261187267852451840  FalconhunterNRA       en   \n",
       "2     2020-05-15 06:51:00  1261187309204103168           ZA1194       en   \n",
       "3     2020-05-15 06:51:01  1261187312005926913       gary_burch       en   \n",
       "6     2020-05-15 06:51:05  1261187328950759425         zorinstv       en   \n",
       "8     2020-05-15 06:51:06  1261187332394356736    Bulla_Adriano       en   \n",
       "...                   ...                  ...              ...      ...   \n",
       "13252 2020-05-27 14:48:05  1265656022988800002       twiiit_sam       en   \n",
       "13254 2020-05-27 14:48:05  1265656024553459714         10223335       en   \n",
       "13255 2020-05-27 14:48:05  1265656025379672069  satinpantylover       en   \n",
       "13256 2020-05-27 14:48:09  1265656041997565958      LudwigdrumB       en   \n",
       "13257 2020-05-27 14:48:10  1265656042807078917      Sportymorty       en   \n",
       "\n",
       "       is_quote_status  is_retweet_status  \\\n",
       "0                False               True   \n",
       "2                False              False   \n",
       "3                False               True   \n",
       "6                False              False   \n",
       "8                False               True   \n",
       "...                ...                ...   \n",
       "13252            False              False   \n",
       "13254            False               True   \n",
       "13255             True               True   \n",
       "13256            False               True   \n",
       "13257            False              False   \n",
       "\n",
       "                                               full_text  \\\n",
       "0         icymi entrapment plan orchestrated top meeting   \n",
       "2                               notice supporters ignore   \n",
       "3      pandemic four countries deaths almost certainl...   \n",
       "6      joe biden says would pardon trump block invest...   \n",
       "8      may th president obama giving commencement spe...   \n",
       "...                                                  ...   \n",
       "13252                                    must understand   \n",
       "13254                               add resist darius rt   \n",
       "13255  oh seriously rt need finally demonstrate many ...   \n",
       "13256  threatens shut social media spat twitter maili...   \n",
       "13257  panetta photographs say lot see respect xis ey...   \n",
       "\n",
       "                                              quote_text  \n",
       "0                                                         \n",
       "2                                                         \n",
       "3                                                         \n",
       "6                                                         \n",
       "8                                                         \n",
       "...                                                  ...  \n",
       "13252                                                     \n",
       "13254                                                     \n",
       "13255  think right thing placing fact checks tweets p...  \n",
       "13256                                                     \n",
       "13257                                                     \n",
       "\n",
       "[8911 rows x 8 columns]"
      ]
     },
     "execution_count": 27,
     "metadata": {},
     "output_type": "execute_result"
    }
   ],
   "source": [
    "df_clean"
   ]
  },
  {
   "cell_type": "code",
   "execution_count": 28,
   "metadata": {},
   "outputs": [],
   "source": [
    "# Save cleaned dataset\n",
    "#df_clean.to_csv('dataset/data_clean_0515.csv', index = False)"
   ]
  },
  {
   "cell_type": "code",
   "execution_count": 29,
   "metadata": {},
   "outputs": [],
   "source": [
    "# Get appropriate POS tag\n",
    "def get_wordnet_pos(word):\n",
    "    \"\"\"Map POS tag to first character lemmatize() accepts\"\"\"\n",
    "    tag = nltk.pos_tag([word])[0][1][0].upper()\n",
    "    tag_dict = {\"J\": wordnet.ADJ,\n",
    "                \"N\": wordnet.NOUN,\n",
    "                \"V\": wordnet.VERB,\n",
    "                \"R\": wordnet.ADV}\n",
    "\n",
    "    return tag_dict.get(tag, wordnet.NOUN)"
   ]
  },
  {
   "cell_type": "code",
   "execution_count": 30,
   "metadata": {},
   "outputs": [],
   "source": [
    "# Lemmatize a Sentence with the appropriate POS tag\n",
    "# https://www.machinelearningplus.com/nlp/lemmatization-examples-python/\n",
    "wordnet_lemmatizer = WordNetLemmatizer()\n",
    "def lemmatizer(text):\n",
    "    text =  [wordnet_lemmatizer.lemmatize(w, get_wordnet_pos(w)) for w in word_tokenize(text)]\n",
    "    return \" \".join(text)"
   ]
  },
  {
   "cell_type": "code",
   "execution_count": 31,
   "metadata": {},
   "outputs": [
    {
     "name": "stdout",
     "output_type": "stream",
     "text": [
      "Wall time: 59.6 s\n"
     ]
    }
   ],
   "source": [
    "%%time\n",
    "df_clean['lemmatized_text'] = df_clean['full_text'].apply(lambda x: lemmatizer(x))"
   ]
  },
  {
   "cell_type": "code",
   "execution_count": 32,
   "metadata": {
    "scrolled": true
   },
   "outputs": [],
   "source": [
    "# Stemming\n",
    "stemmer = SnowballStemmer(\"english\")\n",
    "def stemming(text):\n",
    "    text = [stemmer.stem(word) for word in word_tokenize(text)]\n",
    "    return \" \".join(text)"
   ]
  },
  {
   "cell_type": "code",
   "execution_count": 33,
   "metadata": {},
   "outputs": [
    {
     "name": "stdout",
     "output_type": "stream",
     "text": [
      "Wall time: 2.21 s\n"
     ]
    }
   ],
   "source": [
    "%%time\n",
    "df_clean['stemming_text'] = df_clean['lemmatized_text'].apply(lambda x: stemming(x))"
   ]
  },
  {
   "cell_type": "code",
   "execution_count": 34,
   "metadata": {},
   "outputs": [
    {
     "data": {
      "text/html": [
       "<div>\n",
       "<style scoped>\n",
       "    .dataframe tbody tr th:only-of-type {\n",
       "        vertical-align: middle;\n",
       "    }\n",
       "\n",
       "    .dataframe tbody tr th {\n",
       "        vertical-align: top;\n",
       "    }\n",
       "\n",
       "    .dataframe thead th {\n",
       "        text-align: right;\n",
       "    }\n",
       "</style>\n",
       "<table border=\"1\" class=\"dataframe\">\n",
       "  <thead>\n",
       "    <tr style=\"text-align: right;\">\n",
       "      <th></th>\n",
       "      <th>full_text</th>\n",
       "      <th>lemmatized_text</th>\n",
       "      <th>stemming_text</th>\n",
       "    </tr>\n",
       "  </thead>\n",
       "  <tbody>\n",
       "    <tr>\n",
       "      <th>0</th>\n",
       "      <td>icymi entrapment plan orchestrated top meeting</td>\n",
       "      <td>icymi entrapment plan orchestrate top meeting</td>\n",
       "      <td>icymi entrap plan orchestr top meet</td>\n",
       "    </tr>\n",
       "    <tr>\n",
       "      <th>2</th>\n",
       "      <td>notice supporters ignore</td>\n",
       "      <td>notice supporter ignore</td>\n",
       "      <td>notic support ignor</td>\n",
       "    </tr>\n",
       "    <tr>\n",
       "      <th>3</th>\n",
       "      <td>pandemic four countries deaths almost certainl...</td>\n",
       "      <td>pandemic four country death almost certainly u...</td>\n",
       "      <td>pandem four countri death almost certain u uk ...</td>\n",
       "    </tr>\n",
       "    <tr>\n",
       "      <th>6</th>\n",
       "      <td>joe biden says would pardon trump block invest...</td>\n",
       "      <td>joe biden say would pardon trump block investi...</td>\n",
       "      <td>joe biden say would pardon trump block investig</td>\n",
       "    </tr>\n",
       "    <tr>\n",
       "      <th>8</th>\n",
       "      <td>may th president obama giving commencement spe...</td>\n",
       "      <td>may th president obama give commencement speec...</td>\n",
       "      <td>may th presid obama give commenc speech entir ...</td>\n",
       "    </tr>\n",
       "    <tr>\n",
       "      <th>...</th>\n",
       "      <td>...</td>\n",
       "      <td>...</td>\n",
       "      <td>...</td>\n",
       "    </tr>\n",
       "    <tr>\n",
       "      <th>13252</th>\n",
       "      <td>must understand</td>\n",
       "      <td>must understand</td>\n",
       "      <td>must understand</td>\n",
       "    </tr>\n",
       "    <tr>\n",
       "      <th>13254</th>\n",
       "      <td>add resist darius rt</td>\n",
       "      <td>add resist darius rt</td>\n",
       "      <td>add resist darius rt</td>\n",
       "    </tr>\n",
       "    <tr>\n",
       "      <th>13255</th>\n",
       "      <td>oh seriously rt need finally demonstrate many ...</td>\n",
       "      <td>oh seriously rt need finally demonstrate many ...</td>\n",
       "      <td>oh serious rt need final demonstr mani decent ...</td>\n",
       "    </tr>\n",
       "    <tr>\n",
       "      <th>13256</th>\n",
       "      <td>threatens shut social media spat twitter maili...</td>\n",
       "      <td>threatens shut social medium spat twitter mail...</td>\n",
       "      <td>threaten shut social medium spat twitter maili...</td>\n",
       "    </tr>\n",
       "    <tr>\n",
       "      <th>13257</th>\n",
       "      <td>panetta photographs say lot see respect xis ey...</td>\n",
       "      <td>panetta photograph say lot see respect xi eye ...</td>\n",
       "      <td>panetta photograph say lot see respect xi eye ...</td>\n",
       "    </tr>\n",
       "  </tbody>\n",
       "</table>\n",
       "<p>8911 rows × 3 columns</p>\n",
       "</div>"
      ],
      "text/plain": [
       "                                               full_text  \\\n",
       "0         icymi entrapment plan orchestrated top meeting   \n",
       "2                               notice supporters ignore   \n",
       "3      pandemic four countries deaths almost certainl...   \n",
       "6      joe biden says would pardon trump block invest...   \n",
       "8      may th president obama giving commencement spe...   \n",
       "...                                                  ...   \n",
       "13252                                    must understand   \n",
       "13254                               add resist darius rt   \n",
       "13255  oh seriously rt need finally demonstrate many ...   \n",
       "13256  threatens shut social media spat twitter maili...   \n",
       "13257  panetta photographs say lot see respect xis ey...   \n",
       "\n",
       "                                         lemmatized_text  \\\n",
       "0          icymi entrapment plan orchestrate top meeting   \n",
       "2                                notice supporter ignore   \n",
       "3      pandemic four country death almost certainly u...   \n",
       "6      joe biden say would pardon trump block investi...   \n",
       "8      may th president obama give commencement speec...   \n",
       "...                                                  ...   \n",
       "13252                                    must understand   \n",
       "13254                               add resist darius rt   \n",
       "13255  oh seriously rt need finally demonstrate many ...   \n",
       "13256  threatens shut social medium spat twitter mail...   \n",
       "13257  panetta photograph say lot see respect xi eye ...   \n",
       "\n",
       "                                           stemming_text  \n",
       "0                    icymi entrap plan orchestr top meet  \n",
       "2                                    notic support ignor  \n",
       "3      pandem four countri death almost certain u uk ...  \n",
       "6        joe biden say would pardon trump block investig  \n",
       "8      may th presid obama give commenc speech entir ...  \n",
       "...                                                  ...  \n",
       "13252                                    must understand  \n",
       "13254                               add resist darius rt  \n",
       "13255  oh serious rt need final demonstr mani decent ...  \n",
       "13256  threaten shut social medium spat twitter maili...  \n",
       "13257  panetta photograph say lot see respect xi eye ...  \n",
       "\n",
       "[8911 rows x 3 columns]"
      ]
     },
     "execution_count": 34,
     "metadata": {},
     "output_type": "execute_result"
    }
   ],
   "source": [
    "df_clean[['full_text', 'lemmatized_text', 'stemming_text']]"
   ]
  },
  {
   "cell_type": "code",
   "execution_count": 35,
   "metadata": {},
   "outputs": [
    {
     "name": "stdout",
     "output_type": "stream",
     "text": [
      "[('Neutral', 2124), ('Negative', 3648), ('Positive', 3139)]\n",
      "Wall time: 1.33 s\n"
     ]
    }
   ],
   "source": [
    "%%time\n",
    "# Calculate polarity of each review\n",
    "sentimentAnalyzer = SentimentIntensityAnalyzer()\n",
    "\n",
    "sentiment = []\n",
    "sentiment_index = []\n",
    "\n",
    "for review in df_clean['stemming_text']:\n",
    "\n",
    "    ss = sentimentAnalyzer.polarity_scores(review)\n",
    " \n",
    "    if ss['compound'] >= 0.05 : \n",
    "        # print(\"Positive\") \n",
    "        sentiment.append(\"Positive\")\n",
    "        sentiment_index.append(1)\n",
    "    elif ss['compound'] <= -0.05 : \n",
    "        # print(\"Negative\") \n",
    "        sentiment.append(\"Negative\")\n",
    "        sentiment_index.append(-1)\n",
    "    else : \n",
    "        # print(\"Neutral\") \n",
    "        sentiment.append(\"Neutral\")\n",
    "        sentiment_index.append(0)\n",
    "        \n",
    "review_sentiment = [(i, sentiment.count(i)) for i in set(sentiment)]\n",
    "print(review_sentiment)"
   ]
  },
  {
   "cell_type": "code",
   "execution_count": 36,
   "metadata": {},
   "outputs": [],
   "source": [
    "# Insert polarity into dataset\n",
    "df_clean[\"sentiment\"] = sentiment"
   ]
  },
  {
   "cell_type": "code",
   "execution_count": 37,
   "metadata": {},
   "outputs": [
    {
     "data": {
      "text/plain": [
       "Negative    3648\n",
       "Positive    3139\n",
       "Neutral     2124\n",
       "Name: sentiment, dtype: int64"
      ]
     },
     "execution_count": 37,
     "metadata": {},
     "output_type": "execute_result"
    }
   ],
   "source": [
    "sentiments = df_clean['sentiment'].value_counts()\n",
    "sentiments"
   ]
  },
  {
   "cell_type": "code",
   "execution_count": 38,
   "metadata": {},
   "outputs": [
    {
     "data": {
      "image/png": "[encoded data removed]",
      "text/plain": [
       "<Figure size 1058.4x595.44 with 1 Axes>"
      ]
     },
     "metadata": {},
     "output_type": "display_data"
    }
   ],
   "source": [
    "\"\"\"\n",
    "#sns.countplot(data = df_clean,\n",
    "#              x = polarity).set_title('Polarity of Reviews')\n",
    "\n",
    "ax = sns.countplot(data = df_clean,\n",
    "                 x = polarity)\n",
    "ax.set_title('Polarity of Reviews')\n",
    "ax.set_xlabel('Polarity')\n",
    "ax.set_ylabel('Number of Reviews');\n",
    "\"\"\"\n",
    "\n",
    "# Pie to show distribution\n",
    "plt.figure(figsize=[14.70, 8.27])\n",
    "plt.pie(sentiments, \n",
    "        labels =sentiments.index, \n",
    "        startangle = 90, \n",
    "        autopct= '%1.2f%%', \n",
    "        counterclock = False,\n",
    "        textprops={'color':'white'});\n",
    "plt.legend(sentiments.index,  \n",
    "           title='Sentiment', \n",
    "           loc='upper right')\n",
    "plt.title('Reviews Sentiment Distribution', fontsize=14,  fontweight='bold');"
   ]
  },
  {
   "cell_type": "code",
   "execution_count": 41,
   "metadata": {},
   "outputs": [],
   "source": [
    "# Split into testing set and training set\n",
    "x_train, x_test, y_train, y_test = train_test_split(\n",
    "    df_clean['stemming_text'], df_clean['sentiment'], random_state=0)"
   ]
  },
  {
   "cell_type": "code",
   "execution_count": 44,
   "metadata": {},
   "outputs": [
    {
     "name": "stdout",
     "output_type": "stream",
     "text": [
      "X_train:\n",
      "<6683x2074 sparse matrix of type '<class 'numpy.float64'>'\n",
      "\twith 66625 stored elements in Compressed Sparse Row format>\n",
      "Number of features: 2074\n"
     ]
    }
   ],
   "source": [
    "# Vectorize X_train\n",
    "vectorizer = TfidfVectorizer(min_df = 5).fit(x_train)\n",
    "X_train = vectorizer.transform(x_train)\n",
    "print(\"X_train:\\n{}\".format(repr(X_train)))\n",
    "\n",
    "feature_names = vectorizer.get_feature_names()\n",
    "print(\"Number of features: {}\".format(len(feature_names)))"
   ]
  },
  {
   "cell_type": "markdown",
   "metadata": {},
   "source": [
    "#### Logistic Regression"
   ]
  },
  {
   "cell_type": "code",
   "execution_count": 52,
   "metadata": {
    "scrolled": true
   },
   "outputs": [
    {
     "name": "stdout",
     "output_type": "stream",
     "text": [
      "Logistic Regression (TF-IDF):\n",
      "Accuracy score:   0.7944344703770198\n",
      "Precision score: 0.8383797889898993\n",
      "Recall score: 0.7473904715440716\n",
      "F1 score: 0.7644364597063203\n",
      "--- 0.18441438674926758 seconds ---\n"
     ]
    }
   ],
   "source": [
    "# Logistic Regression with TF-IDF vectorizer\n",
    "start_time = time.time()\n",
    "\n",
    "logreg = LogisticRegression(C=0.1, solver='lbfgs', multi_class='auto', max_iter=3000).fit(X_train, y_train)\n",
    "\n",
    "X_test = vectorizer.transform(x_test)\n",
    "\n",
    "log_y_pred = logreg.predict(X_test)\n",
    "\n",
    "print(\"Logistic Regression (TF-IDF):\")\n",
    "\n",
    "#print(\"Training set score: {}\".format(logreg.score(X_train, y_train))) #Same with accuracy\n",
    "#print(\"Test set score: {}\".format(logreg.score(X_test, y_test)))\n",
    "\n",
    "log_accuracy = accuracy_score(y_test, log_y_pred)\n",
    "print(\"Accuracy score:   {}\".format(log_accuracy))\n",
    "\n",
    "log_precision = precision_score(y_test, log_y_pred, average='macro')\n",
    "print(\"Precision score: {}\".format(log_precision))\n",
    "\n",
    "log_recall = recall_score(y_test, log_y_pred, average='macro')\n",
    "print(\"Recall score: {}\".format(log_recall))\n",
    "\n",
    "log_f1 = f1_score(y_test, log_y_pred, average='macro')\n",
    "print(\"F1 score: {}\".format(log_f1))\n",
    "\n",
    "log_time = time.time() - start_time\n",
    "print(\"--- %s seconds ---\" % (log_time))"
   ]
  },
  {
   "cell_type": "markdown",
   "metadata": {},
   "source": [
    "#### Decision Tree"
   ]
  },
  {
   "cell_type": "code",
   "execution_count": 55,
   "metadata": {
    "scrolled": true
   },
   "outputs": [
    {
     "name": "stdout",
     "output_type": "stream",
     "text": [
      "Decision Tree (TF-IDF):\n",
      "Accuracy score:   0.7944344703770198\n",
      "Precision score: 0.8819752456127934\n",
      "Recall score: 0.8853287606108823\n",
      "F1 score: 0.8835693204327385\n",
      "--- 0.37702059745788574 seconds ---\n"
     ]
    }
   ],
   "source": [
    "# Decision Tree with TF-IDF vectorizer\n",
    "start_time = time.time()\n",
    "\n",
    "decision_tree = DecisionTreeClassifier().fit(X_train, y_train)\n",
    "\n",
    "X_test = vectorizer.transform(x_test)\n",
    "\n",
    "decisionTree_y_pred = decision_tree.predict(X_test)\n",
    "\n",
    "print(\"Decision Tree (TF-IDF):\")\n",
    "\n",
    "#print(\"Training set score: {}\".format(decision_tree.score(X_train, y_train)))\n",
    "#print(\"Test set score: {}\".format(decision_tree.score(X_test, y_test)))\n",
    "\n",
    "decisionTree_accuracy = accuracy_score(y_test, log_y_pred)\n",
    "print(\"Accuracy score:   {}\".format(decisionTree_accuracy))\n",
    "\n",
    "decisionTree_precision = precision_score(y_test, decisionTree_y_pred, average='macro')\n",
    "print(\"Precision score: {}\".format(decisionTree_precision))\n",
    "\n",
    "decisionTree_recall = recall_score(y_test, decisionTree_y_pred, average='macro')\n",
    "print(\"Recall score: {}\".format(decisionTree_recall))\n",
    "\n",
    "decisionTree_f1 = f1_score(y_test, decisionTree_y_pred, average='macro')\n",
    "print(\"F1 score: {}\".format(decisionTree_f1))\n",
    "\n",
    "decisionTree_time = time.time() - start_time\n",
    "print(\"--- %s seconds ---\" % (decisionTree_time))"
   ]
  },
  {
   "cell_type": "markdown",
   "metadata": {},
   "source": [
    "#### Random Forest"
   ]
  },
  {
   "cell_type": "code",
   "execution_count": 56,
   "metadata": {},
   "outputs": [
    {
     "name": "stdout",
     "output_type": "stream",
     "text": [
      "Random Forest (TF-IDF):\n",
      "Accuracy:   0.9052962298025135\n",
      "Precision: 0.898504360223908\n",
      "Recall: 0.913\n",
      "F1 score: 0.9040135689458358\n",
      "--- 2.0619616508483887 seconds ---\n"
     ]
    }
   ],
   "source": [
    "# Random Forest with TF-IDF vectorizer\n",
    "start_time = time.time()\n",
    "\n",
    "random_forest = RandomForestClassifier(n_estimators = 100).fit(X_train, y_train)\n",
    "\n",
    "X_test = vectorizer.transform(x_test)\n",
    "\n",
    "rf_pred = random_forest.predict(X_test)\n",
    "\n",
    "print(\"Random Forest (TF-IDF):\")\n",
    "\n",
    "#print(\"Training set score: {}\".format(random_forest.score(X_train, y_train)))\n",
    "#print(\"Test set score: {}\".format(random_forest.score(X_test, y_test)))\n",
    "\n",
    "rf_accuracy = accuracy_score(y_test, rf_pred)\n",
    "print(\"Accuracy:   {}\".format(rf_accuracy))\n",
    "\n",
    "rf_precision = precision_score(y_test, rf_pred, average='macro')\n",
    "print(\"Precision: {}\".format(rf_precision))\n",
    "\n",
    "rf_recall = recall_score(y_test, rf_pred, average='macro')\n",
    "print(\"Recall: {:.3f}\".format(rf_recall))\n",
    "\n",
    "rf_f1 = f1_score(y_test, rf_pred, average='macro')\n",
    "print(\"F1 score: {}\".format(rf_f1))\n",
    "\n",
    "#rf_cv = cross_val_score(RandomForestClassifier(n_estimators = 100), X_train, y_train, cv=5)\n",
    "#print(\"Mean cross-validation accuracy: {:.3f}\".format(np.mean(rf_cv)))\n",
    "\n",
    "rf_time = time.time() - start_time\n",
    "print(\"--- %s seconds ---\" % (rf_time))"
   ]
  },
  {
   "cell_type": "markdown",
   "metadata": {},
   "source": [
    "#### Naive Bayes"
   ]
  },
  {
   "cell_type": "code",
   "execution_count": 57,
   "metadata": {},
   "outputs": [
    {
     "name": "stdout",
     "output_type": "stream",
     "text": [
      "Naive Bayes (TF-IDF):\n",
      "Accuracy:   0.7877019748653501\n",
      "Precision: 0.8002592794616404\n",
      "Recall: 0.7502447599183881\n",
      "F1 score: 0.7621770556183526\n",
      "--- 0.0604395866394043 seconds ---\n"
     ]
    }
   ],
   "source": [
    "# Naive Bayes with TF-IDF vectorizer\n",
    "start_time = time.time()\n",
    "\n",
    "multinomialNB = MultinomialNB().fit(X_train, y_train)\n",
    "\n",
    "X_test = vectorizer.transform(x_test)\n",
    "\n",
    "multinomialNB_pred = multinomialNB.predict(X_test)\n",
    "print(\"Naive Bayes (TF-IDF):\")\n",
    "\n",
    "#print(\"Training set score: {}\".format(multinomialNB.score(X_train, y_train)))\n",
    "#print(\"Test set score: {}\".format(multinomialNB.score(X_test, y_test)))\n",
    "\n",
    "multinomialNB_accuracy = accuracy_score(y_test, multinomialNB_pred)\n",
    "print(\"Accuracy:   {}\".format(multinomialNB_accuracy))\n",
    "\n",
    "multinomialNB_precision = precision_score(y_test, multinomialNB_pred, average='macro')\n",
    "print(\"Precision: {}\".format(multinomialNB_precision))\n",
    "\n",
    "multinomialNB_recall = recall_score(y_test, multinomialNB_pred, average='macro')\n",
    "print(\"Recall: {}\".format(multinomialNB_recall))\n",
    "\n",
    "multinomialNB_f1 = f1_score(y_test, multinomialNB_pred, average='macro')\n",
    "print(\"F1 score: {}\".format(multinomialNB_f1))\n",
    "\n",
    "multinomialNB_time = time.time() - start_time\n",
    "print(\"--- %s seconds ---\" % (multinomialNB_time))"
   ]
  },
  {
   "cell_type": "markdown",
   "metadata": {},
   "source": [
    "#### XGBoost"
   ]
  },
  {
   "cell_type": "code",
   "execution_count": 61,
   "metadata": {},
   "outputs": [
    {
     "name": "stdout",
     "output_type": "stream",
     "text": [
      "XGBoost (TF-IDF):\n",
      "Accuracy:   0.8909335727109515\n",
      "Precision: 0.8827571171450064\n",
      "Recall: 0.8989137539421647\n",
      "F1 score: 0.8875973226799262\n",
      "--- 3.626474380493164 seconds ---\n"
     ]
    }
   ],
   "source": [
    "# XGBoost with TF-IDF vectorizer\n",
    "start_time = time.time()\n",
    "\n",
    "xgb = XGBClassifier().fit(X_train, y_train)\n",
    "\n",
    "X_test = vectorizer.transform(x_test)\n",
    "\n",
    "xgb_y_pred = xgb.predict(X_test)\n",
    "\n",
    "print(\"XGBoost (TF-IDF):\")\n",
    "\n",
    "xgb_accuracy = accuracy_score(y_test, xgb_y_pred)\n",
    "print(\"Accuracy:   {}\".format(xgb_accuracy))\n",
    "\n",
    "#print(\"Training set score: {}\".format(xgb.score(X_train, y_train)))\n",
    "#print(\"Test set score: {}\".format(xgb.score(X_test, y_test)))\n",
    "\n",
    "xgb_precision = precision_score(y_test, xgb_y_pred, average='macro')\n",
    "print(\"Precision: {}\".format(xgb_precision))\n",
    "\n",
    "xgb_recall = recall_score(y_test, xgb_y_pred, average='macro')\n",
    "print(\"Recall: {}\".format(xgb_recall))\n",
    "\n",
    "xgb_f1 = f1_score(y_test, xgb_y_pred, average='macro')\n",
    "print(\"F1 score: {}\".format(xgb_f1))\n",
    "\n",
    "xgb_time = time.time() - start_time\n",
    "print(\"--- %s seconds ---\" % (xgb_time))"
   ]
  },
  {
   "cell_type": "markdown",
   "metadata": {},
   "source": [
    "### SVM"
   ]
  },
  {
   "cell_type": "code",
   "execution_count": 63,
   "metadata": {},
   "outputs": [
    {
     "name": "stdout",
     "output_type": "stream",
     "text": [
      "SVM (TF-IDF):\n",
      "Accuracy:   0.8909335727109515\n",
      "Precision: 0.8827571171450064\n",
      "Recall: 0.8989137539421647\n",
      "F1 score: 0.8875973226799262\n",
      "--- 2.2461845874786377 seconds ---\n"
     ]
    }
   ],
   "source": [
    "# SVM with TF-IDF vectorizer\n",
    "start_time = time.time()\n",
    "\n",
    "svm = SVC(gamma='auto', kernel='linear').fit(X_train, y_train)\n",
    "\n",
    "X_test = vectorizer.transform(x_test)\n",
    "\n",
    "svm_pred = xgb.predict(X_test)\n",
    "\n",
    "print(\"SVM (TF-IDF):\")\n",
    "\n",
    "svm_accuracy = accuracy_score(y_test, svm_pred)\n",
    "print(\"Accuracy:   {}\".format(svm_accuracy))\n",
    "\n",
    "#print(\"Training set score: {}\".format(xgb.score(X_train, y_train)))\n",
    "#print(\"Test set score: {}\".format(xgb.score(X_test, y_test)))\n",
    "\n",
    "svm_precision = precision_score(y_test, svm_pred, average='macro')\n",
    "print(\"Precision: {}\".format(svm_precision))\n",
    "\n",
    "svm_recall = recall_score(y_test, svm_pred, average='macro')\n",
    "print(\"Recall: {}\".format(svm_recall))\n",
    "\n",
    "svm_f1 = f1_score(y_test, svm_pred, average='macro')\n",
    "print(\"F1 score: {}\".format(svm_f1))\n",
    "\n",
    "svm_time = time.time() - start_time\n",
    "print(\"--- %s seconds ---\" % (svm_time))"
   ]
  },
  {
   "cell_type": "code",
   "execution_count": 65,
   "metadata": {},
   "outputs": [
    {
     "data": {
      "text/html": [
       "<div>\n",
       "<style scoped>\n",
       "    .dataframe tbody tr th:only-of-type {\n",
       "        vertical-align: middle;\n",
       "    }\n",
       "\n",
       "    .dataframe tbody tr th {\n",
       "        vertical-align: top;\n",
       "    }\n",
       "\n",
       "    .dataframe thead th {\n",
       "        text-align: right;\n",
       "    }\n",
       "</style>\n",
       "<table border=\"1\" class=\"dataframe\">\n",
       "  <thead>\n",
       "    <tr style=\"text-align: right;\">\n",
       "      <th></th>\n",
       "      <th>Model</th>\n",
       "      <th>Accuracy</th>\n",
       "      <th>Precision</th>\n",
       "      <th>Recall</th>\n",
       "      <th>F1 Score</th>\n",
       "      <th>Time (s)</th>\n",
       "    </tr>\n",
       "  </thead>\n",
       "  <tbody>\n",
       "    <tr>\n",
       "      <th>0</th>\n",
       "      <td>Logistic Regression</td>\n",
       "      <td>0.794434</td>\n",
       "      <td>0.838380</td>\n",
       "      <td>0.747390</td>\n",
       "      <td>0.764436</td>\n",
       "      <td>0.184414</td>\n",
       "    </tr>\n",
       "    <tr>\n",
       "      <th>1</th>\n",
       "      <td>Decison Tree</td>\n",
       "      <td>0.794434</td>\n",
       "      <td>0.881975</td>\n",
       "      <td>0.885329</td>\n",
       "      <td>0.883569</td>\n",
       "      <td>0.377021</td>\n",
       "    </tr>\n",
       "    <tr>\n",
       "      <th>2</th>\n",
       "      <td>Random Forest</td>\n",
       "      <td>0.905296</td>\n",
       "      <td>0.898504</td>\n",
       "      <td>0.912628</td>\n",
       "      <td>0.904014</td>\n",
       "      <td>2.061962</td>\n",
       "    </tr>\n",
       "    <tr>\n",
       "      <th>3</th>\n",
       "      <td>Multinomial Naive Bayes</td>\n",
       "      <td>0.787702</td>\n",
       "      <td>0.800259</td>\n",
       "      <td>0.750245</td>\n",
       "      <td>0.762177</td>\n",
       "      <td>0.060440</td>\n",
       "    </tr>\n",
       "    <tr>\n",
       "      <th>4</th>\n",
       "      <td>SVM (Linear)</td>\n",
       "      <td>0.890934</td>\n",
       "      <td>0.882757</td>\n",
       "      <td>0.898914</td>\n",
       "      <td>0.887597</td>\n",
       "      <td>2.246185</td>\n",
       "    </tr>\n",
       "    <tr>\n",
       "      <th>5</th>\n",
       "      <td>XG Boost</td>\n",
       "      <td>0.890934</td>\n",
       "      <td>0.882757</td>\n",
       "      <td>0.898914</td>\n",
       "      <td>0.887597</td>\n",
       "      <td>3.626474</td>\n",
       "    </tr>\n",
       "  </tbody>\n",
       "</table>\n",
       "</div>"
      ],
      "text/plain": [
       "                     Model  Accuracy  Precision    Recall  F1 Score  Time (s)\n",
       "0      Logistic Regression  0.794434   0.838380  0.747390  0.764436  0.184414\n",
       "1             Decison Tree  0.794434   0.881975  0.885329  0.883569  0.377021\n",
       "2            Random Forest  0.905296   0.898504  0.912628  0.904014  2.061962\n",
       "3  Multinomial Naive Bayes  0.787702   0.800259  0.750245  0.762177  0.060440\n",
       "4             SVM (Linear)  0.890934   0.882757  0.898914  0.887597  2.246185\n",
       "5                 XG Boost  0.890934   0.882757  0.898914  0.887597  3.626474"
      ]
     },
     "execution_count": 65,
     "metadata": {},
     "output_type": "execute_result"
    }
   ],
   "source": [
    "# Append metrics for each models into a list\n",
    "log_metrics = ['Logistic Regression', log_accuracy, log_precision, log_recall, log_f1, log_time]\n",
    "decisionTree_metrics = ['Decison Tree', decisionTree_accuracy, decisionTree_precision, decisionTree_recall, decisionTree_f1, decisionTree_time]\n",
    "rf_metrics = ['Random Forest', rf_accuracy, rf_precision, rf_recall, rf_f1, rf_time]\n",
    "multinomialNB_metrics = ['Multinomial Naive Bayes', multinomialNB_accuracy, multinomialNB_precision, multinomialNB_recall, multinomialNB_f1, multinomialNB_time]\n",
    "svm_metrics = ['SVM (Linear)', svm_accuracy, svm_precision, svm_recall, svm_f1, svm_time]\n",
    "xgb_metrics = ['XG Boost', xgb_accuracy, xgb_precision, xgb_recall, xgb_f1, xgb_time]\n",
    "\n",
    "# Append all metric list into a list\n",
    "metricsList = [log_metrics, decisionTree_metrics, rf_metrics, multinomialNB_metrics, svm_metrics, xgb_metrics]\n",
    "\n",
    "# Convert list to dataframe\n",
    "metricDF = pd.DataFrame(columns=['Model', 'Accuracy', 'Precision', 'Recall', 'F1 Score', 'Time (s)'], data = metricsList)\n",
    "metricDF"
   ]
  }
 ],
 "metadata": {
  "kernelspec": {
   "display_name": "Python 3",
   "language": "python",
   "name": "python3"
  },
  "language_info": {
   "codemirror_mode": {
    "name": "ipython",
    "version": 3
   },
   "file_extension": ".py",
   "mimetype": "text/x-python",
   "name": "python",
   "nbconvert_exporter": "python",
   "pygments_lexer": "ipython3",
   "version": "3.7.5"
  }
 },
 "nbformat": 4,
 "nbformat_minor": 4
}
