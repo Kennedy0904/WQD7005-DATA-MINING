{
 "cells": [
  {
   "cell_type": "code",
   "execution_count": 1,
   "metadata": {},
   "outputs": [],
   "source": [
    "# Import library\n",
    "import pandas as pd\n",
    "import numpy as np\n",
    "import json\n",
    "import re\n",
    "import matplotlib.pyplot as plt\n",
    "from sklearn.preprocessing import MinMaxScaler\n",
    "from sklearn.decomposition import PCA \n",
    "%matplotlib inline"
   ]
  },
  {
   "cell_type": "code",
   "execution_count": 2,
   "metadata": {},
   "outputs": [],
   "source": [
    "# Load json data from file\n",
    "with open('dataset/imdb_dataset.json', encoding=\"utf8\") as data_file:\n",
    "    json_data = data_file.read()\n",
    "data = json.loads(json_data)"
   ]
  },
  {
   "cell_type": "code",
   "execution_count": 3,
   "metadata": {
    "scrolled": false
   },
   "outputs": [],
   "source": [
    "# Import data into dataframe\n",
    "df = pd.DataFrame(data)"
   ]
  },
  {
   "cell_type": "code",
   "execution_count": 4,
   "metadata": {},
   "outputs": [
    {
     "data": {
      "text/plain": [
       "(58623, 16)"
      ]
     },
     "execution_count": 4,
     "metadata": {},
     "output_type": "execute_result"
    }
   ],
   "source": [
    "# Dataset shape\n",
    "df.shape"
   ]
  },
  {
   "cell_type": "code",
   "execution_count": 5,
   "metadata": {},
   "outputs": [
    {
     "data": {
      "text/html": [
       "<div>\n",
       "<style scoped>\n",
       "    .dataframe tbody tr th:only-of-type {\n",
       "        vertical-align: middle;\n",
       "    }\n",
       "\n",
       "    .dataframe tbody tr th {\n",
       "        vertical-align: top;\n",
       "    }\n",
       "\n",
       "    .dataframe thead th {\n",
       "        text-align: right;\n",
       "    }\n",
       "</style>\n",
       "<table border=\"1\" class=\"dataframe\">\n",
       "  <thead>\n",
       "    <tr style=\"text-align: right;\">\n",
       "      <th></th>\n",
       "      <th>title</th>\n",
       "      <th>rating</th>\n",
       "      <th>year</th>\n",
       "      <th>users_rating</th>\n",
       "      <th>votes</th>\n",
       "      <th>metascore</th>\n",
       "      <th>img_url</th>\n",
       "      <th>countries</th>\n",
       "      <th>languages</th>\n",
       "      <th>actors</th>\n",
       "      <th>genre</th>\n",
       "      <th>tagline</th>\n",
       "      <th>description</th>\n",
       "      <th>directors</th>\n",
       "      <th>runtime</th>\n",
       "      <th>imdb_url</th>\n",
       "    </tr>\n",
       "  </thead>\n",
       "  <tbody>\n",
       "    <tr>\n",
       "      <th>30574</th>\n",
       "      <td>One Sunday Afternoon</td>\n",
       "      <td>Passed</td>\n",
       "      <td>1933</td>\n",
       "      <td>6.8</td>\n",
       "      <td>471</td>\n",
       "      <td>None</td>\n",
       "      <td>https://m.media-amazon.com/images/M/MV5BMTA2OT...</td>\n",
       "      <td>[USA]</td>\n",
       "      <td>[English]</td>\n",
       "      <td>[Gary Cooper, Fay Wray, Frances Fuller, Roscoe...</td>\n",
       "      <td>[Comedy, Romance]</td>\n",
       "      <td>He wondered for years...if he'd married the wr...</td>\n",
       "      <td>Middle-aged dentist Biff Grimes reminisces abo...</td>\n",
       "      <td>[Stephen Roberts]</td>\n",
       "      <td>85 min</td>\n",
       "      <td>https://www.imdb.com/title/tt0024414/</td>\n",
       "    </tr>\n",
       "    <tr>\n",
       "      <th>43389</th>\n",
       "      <td>Bloodmoon</td>\n",
       "      <td>R</td>\n",
       "      <td>1997</td>\n",
       "      <td>5.7</td>\n",
       "      <td>587</td>\n",
       "      <td>None</td>\n",
       "      <td>https://m.media-amazon.com/images/M/MV5BMjAwOT...</td>\n",
       "      <td>[USA]</td>\n",
       "      <td>[English]</td>\n",
       "      <td>[Gary Daniels, Chuck Jeffreys, Frank Gorshin, ...</td>\n",
       "      <td>[Action, Thriller]</td>\n",
       "      <td>You get one shot Before he kills you.</td>\n",
       "      <td>Martial arts action film finds a retired detec...</td>\n",
       "      <td>[Siu-Hung Leung]</td>\n",
       "      <td>102 min</td>\n",
       "      <td>https://www.imdb.com/title/tt0118745/</td>\n",
       "    </tr>\n",
       "    <tr>\n",
       "      <th>25335</th>\n",
       "      <td>Jack and His Friends</td>\n",
       "      <td>R</td>\n",
       "      <td>1992</td>\n",
       "      <td>6.5</td>\n",
       "      <td>34</td>\n",
       "      <td>None</td>\n",
       "      <td>https://m.media-amazon.com/images/G/01/imdb/im...</td>\n",
       "      <td>[USA]</td>\n",
       "      <td>[English]</td>\n",
       "      <td>[Paul Barry, Alison Fraser, Allen Garfield, Pa...</td>\n",
       "      <td>[Comedy]</td>\n",
       "      <td>None</td>\n",
       "      <td>Jack is a middle aged, overweight shoe store o...</td>\n",
       "      <td>[Bruce Ornstein]</td>\n",
       "      <td>None</td>\n",
       "      <td>https://www.imdb.com/title/tt0104538/</td>\n",
       "    </tr>\n",
       "    <tr>\n",
       "      <th>6435</th>\n",
       "      <td>Young Cesar</td>\n",
       "      <td>None</td>\n",
       "      <td>2007</td>\n",
       "      <td>6.0</td>\n",
       "      <td>15</td>\n",
       "      <td>None</td>\n",
       "      <td>https://m.media-amazon.com/images/M/MV5BODA5Nm...</td>\n",
       "      <td>[USA]</td>\n",
       "      <td>[English]</td>\n",
       "      <td>[Clifton Powell, Dominic Daniel, Derek Barbosa...</td>\n",
       "      <td>[Crime, Drama]</td>\n",
       "      <td>None</td>\n",
       "      <td>None</td>\n",
       "      <td>[Sheldon Candis]</td>\n",
       "      <td>90 min</td>\n",
       "      <td>https://www.imdb.com/title/tt1141279/</td>\n",
       "    </tr>\n",
       "    <tr>\n",
       "      <th>686</th>\n",
       "      <td>No Holds Barred</td>\n",
       "      <td>PG-13</td>\n",
       "      <td>1989</td>\n",
       "      <td>4.3</td>\n",
       "      <td>5,273</td>\n",
       "      <td>None</td>\n",
       "      <td>https://m.media-amazon.com/images/M/MV5BNDBhYm...</td>\n",
       "      <td>[USA]</td>\n",
       "      <td>[English]</td>\n",
       "      <td>[Hulk Hogan, Joan Severance, Kurt Fuller, Tomm...</td>\n",
       "      <td>[Action, Sport]</td>\n",
       "      <td>No Ring. No Ref. No Rules.</td>\n",
       "      <td>Rip is the World Wrestling Federation champion...</td>\n",
       "      <td>[Thomas J. Wright]</td>\n",
       "      <td>93 min</td>\n",
       "      <td>https://www.imdb.com/title/tt0097987/</td>\n",
       "    </tr>\n",
       "  </tbody>\n",
       "</table>\n",
       "</div>"
      ],
      "text/plain": [
       "                      title  rating  year users_rating  votes metascore  \\\n",
       "30574  One Sunday Afternoon  Passed  1933          6.8    471      None   \n",
       "43389             Bloodmoon       R  1997          5.7    587      None   \n",
       "25335  Jack and His Friends       R  1992          6.5     34      None   \n",
       "6435            Young Cesar    None  2007          6.0     15      None   \n",
       "686         No Holds Barred   PG-13  1989          4.3  5,273      None   \n",
       "\n",
       "                                                 img_url countries  languages  \\\n",
       "30574  https://m.media-amazon.com/images/M/MV5BMTA2OT...     [USA]  [English]   \n",
       "43389  https://m.media-amazon.com/images/M/MV5BMjAwOT...     [USA]  [English]   \n",
       "25335  https://m.media-amazon.com/images/G/01/imdb/im...     [USA]  [English]   \n",
       "6435   https://m.media-amazon.com/images/M/MV5BODA5Nm...     [USA]  [English]   \n",
       "686    https://m.media-amazon.com/images/M/MV5BNDBhYm...     [USA]  [English]   \n",
       "\n",
       "                                                  actors               genre  \\\n",
       "30574  [Gary Cooper, Fay Wray, Frances Fuller, Roscoe...   [Comedy, Romance]   \n",
       "43389  [Gary Daniels, Chuck Jeffreys, Frank Gorshin, ...  [Action, Thriller]   \n",
       "25335  [Paul Barry, Alison Fraser, Allen Garfield, Pa...            [Comedy]   \n",
       "6435   [Clifton Powell, Dominic Daniel, Derek Barbosa...      [Crime, Drama]   \n",
       "686    [Hulk Hogan, Joan Severance, Kurt Fuller, Tomm...     [Action, Sport]   \n",
       "\n",
       "                                                 tagline  \\\n",
       "30574  He wondered for years...if he'd married the wr...   \n",
       "43389              You get one shot Before he kills you.   \n",
       "25335                                               None   \n",
       "6435                                                None   \n",
       "686                           No Ring. No Ref. No Rules.   \n",
       "\n",
       "                                             description           directors  \\\n",
       "30574  Middle-aged dentist Biff Grimes reminisces abo...   [Stephen Roberts]   \n",
       "43389  Martial arts action film finds a retired detec...    [Siu-Hung Leung]   \n",
       "25335  Jack is a middle aged, overweight shoe store o...    [Bruce Ornstein]   \n",
       "6435                                                None    [Sheldon Candis]   \n",
       "686    Rip is the World Wrestling Federation champion...  [Thomas J. Wright]   \n",
       "\n",
       "       runtime                               imdb_url  \n",
       "30574   85 min  https://www.imdb.com/title/tt0024414/  \n",
       "43389  102 min  https://www.imdb.com/title/tt0118745/  \n",
       "25335     None  https://www.imdb.com/title/tt0104538/  \n",
       "6435    90 min  https://www.imdb.com/title/tt1141279/  \n",
       "686     93 min  https://www.imdb.com/title/tt0097987/  "
      ]
     },
     "execution_count": 5,
     "metadata": {},
     "output_type": "execute_result"
    }
   ],
   "source": [
    "# Random sample of dataset\n",
    "df.sample(5)"
   ]
  },
  {
   "cell_type": "markdown",
   "metadata": {},
   "source": [
    "## Data Cleaning"
   ]
  },
  {
   "cell_type": "code",
   "execution_count": 6,
   "metadata": {},
   "outputs": [],
   "source": [
    "# Copy dataset\n",
    "df_clean = df.copy()"
   ]
  },
  {
   "cell_type": "code",
   "execution_count": 7,
   "metadata": {},
   "outputs": [
    {
     "data": {
      "text/plain": [
       "title               0\n",
       "rating          19325\n",
       "year                1\n",
       "users_rating        1\n",
       "votes               1\n",
       "metascore       50215\n",
       "img_url          4008\n",
       "countries           0\n",
       "languages           0\n",
       "actors              0\n",
       "genre               0\n",
       "tagline         23614\n",
       "description      4133\n",
       "directors         435\n",
       "runtime         12174\n",
       "imdb_url            0\n",
       "dtype: int64"
      ]
     },
     "execution_count": 7,
     "metadata": {},
     "output_type": "execute_result"
    }
   ],
   "source": [
    "# Check missing values\n",
    "df_clean.isna().sum()"
   ]
  },
  {
   "cell_type": "code",
   "execution_count": 8,
   "metadata": {},
   "outputs": [
    {
     "name": "stdout",
     "output_type": "stream",
     "text": [
      "<class 'pandas.core.frame.DataFrame'>\n",
      "RangeIndex: 58623 entries, 0 to 58622\n",
      "Data columns (total 16 columns):\n",
      " #   Column        Non-Null Count  Dtype \n",
      "---  ------        --------------  ----- \n",
      " 0   title         58623 non-null  object\n",
      " 1   rating        39298 non-null  object\n",
      " 2   year          58622 non-null  object\n",
      " 3   users_rating  58622 non-null  object\n",
      " 4   votes         58622 non-null  object\n",
      " 5   metascore     8408 non-null   object\n",
      " 6   img_url       54615 non-null  object\n",
      " 7   countries     58623 non-null  object\n",
      " 8   languages     58623 non-null  object\n",
      " 9   actors        58623 non-null  object\n",
      " 10  genre         58623 non-null  object\n",
      " 11  tagline       35009 non-null  object\n",
      " 12  description   54490 non-null  object\n",
      " 13  directors     58188 non-null  object\n",
      " 14  runtime       46449 non-null  object\n",
      " 15  imdb_url      58623 non-null  object\n",
      "dtypes: object(16)\n",
      "memory usage: 7.2+ MB\n"
     ]
    }
   ],
   "source": [
    "# Check dataset dtype\n",
    "df_clean.info()"
   ]
  },
  {
   "cell_type": "markdown",
   "metadata": {},
   "source": [
    "### Problem 1"
   ]
  },
  {
   "cell_type": "markdown",
   "metadata": {},
   "source": [
    "Values in `countries`, `languages`, `actors`, `genre`, and `directors` columns are in list."
   ]
  },
  {
   "cell_type": "code",
   "execution_count": 9,
   "metadata": {},
   "outputs": [],
   "source": [
    "# Solve missing value in directors columns\n",
    "df_clean['directors'].fillna('Unknown', inplace = True)"
   ]
  },
  {
   "cell_type": "markdown",
   "metadata": {},
   "source": [
    "Extract values from string for `countries`, `languages`, `actors`, `genre`, and `directors` columns."
   ]
  },
  {
   "cell_type": "code",
   "execution_count": 10,
   "metadata": {},
   "outputs": [],
   "source": [
    "columns = ['countries', 'languages', 'actors', 'genre', 'directors']\n",
    "\n",
    "for i in columns:\n",
    "    df_clean[i] = df_clean[i].apply(lambda x:\"|\".join(x))"
   ]
  },
  {
   "cell_type": "code",
   "execution_count": 11,
   "metadata": {
    "scrolled": true
   },
   "outputs": [
    {
     "data": {
      "text/html": [
       "<div>\n",
       "<style scoped>\n",
       "    .dataframe tbody tr th:only-of-type {\n",
       "        vertical-align: middle;\n",
       "    }\n",
       "\n",
       "    .dataframe tbody tr th {\n",
       "        vertical-align: top;\n",
       "    }\n",
       "\n",
       "    .dataframe thead th {\n",
       "        text-align: right;\n",
       "    }\n",
       "</style>\n",
       "<table border=\"1\" class=\"dataframe\">\n",
       "  <thead>\n",
       "    <tr style=\"text-align: right;\">\n",
       "      <th></th>\n",
       "      <th>title</th>\n",
       "      <th>rating</th>\n",
       "      <th>year</th>\n",
       "      <th>users_rating</th>\n",
       "      <th>votes</th>\n",
       "      <th>metascore</th>\n",
       "      <th>img_url</th>\n",
       "      <th>countries</th>\n",
       "      <th>languages</th>\n",
       "      <th>actors</th>\n",
       "      <th>genre</th>\n",
       "      <th>tagline</th>\n",
       "      <th>description</th>\n",
       "      <th>directors</th>\n",
       "      <th>runtime</th>\n",
       "      <th>imdb_url</th>\n",
       "    </tr>\n",
       "  </thead>\n",
       "  <tbody>\n",
       "    <tr>\n",
       "      <th>31920</th>\n",
       "      <td>The Monkey Talks</td>\n",
       "      <td>None</td>\n",
       "      <td>1927</td>\n",
       "      <td>6.8</td>\n",
       "      <td>25</td>\n",
       "      <td>None</td>\n",
       "      <td>https://m.media-amazon.com/images/M/MV5BMmE2YT...</td>\n",
       "      <td>USA</td>\n",
       "      <td>English</td>\n",
       "      <td>Olive Borden|Jacques Lerner|Don Alvarado|Malco...</td>\n",
       "      <td>Drama</td>\n",
       "      <td>None</td>\n",
       "      <td>A bankrupt circus act plans to revive its fort...</td>\n",
       "      <td>Raoul Walsh</td>\n",
       "      <td>60 min</td>\n",
       "      <td>https://www.imdb.com/title/tt0018170/</td>\n",
       "    </tr>\n",
       "    <tr>\n",
       "      <th>46707</th>\n",
       "      <td>Boeing, Boeing</td>\n",
       "      <td>Not Rated</td>\n",
       "      <td>1965</td>\n",
       "      <td>6.4</td>\n",
       "      <td>2,308</td>\n",
       "      <td>None</td>\n",
       "      <td>https://m.media-amazon.com/images/M/MV5BZmNkZT...</td>\n",
       "      <td>USA</td>\n",
       "      <td>English|French|German</td>\n",
       "      <td>Tony Curtis|Jerry Lewis|Dany Saval|Christiane ...</td>\n",
       "      <td>Comedy</td>\n",
       "      <td>The In Comedy of the Year about Making Out!</td>\n",
       "      <td>A friend visits his philandering friend just a...</td>\n",
       "      <td>John Rich</td>\n",
       "      <td>102 min</td>\n",
       "      <td>https://www.imdb.com/title/tt0058981/</td>\n",
       "    </tr>\n",
       "    <tr>\n",
       "      <th>29742</th>\n",
       "      <td>The Big F</td>\n",
       "      <td>None</td>\n",
       "      <td>2016</td>\n",
       "      <td>6.3</td>\n",
       "      <td>14</td>\n",
       "      <td>None</td>\n",
       "      <td>https://m.media-amazon.com/images/M/MV5BMWNlNT...</td>\n",
       "      <td>USA</td>\n",
       "      <td>English</td>\n",
       "      <td>James Bell|Mia Campbell|Sheri Darling|Patrick ...</td>\n",
       "      <td>Comedy|Horror</td>\n",
       "      <td>None</td>\n",
       "      <td>It's Valentine's Day and Bigfoot is on the loo...</td>\n",
       "      <td>Brian Papandrea</td>\n",
       "      <td>71 min</td>\n",
       "      <td>https://www.imdb.com/title/tt6253276/</td>\n",
       "    </tr>\n",
       "    <tr>\n",
       "      <th>31076</th>\n",
       "      <td>The Girl on the Bridge</td>\n",
       "      <td>Not Rated</td>\n",
       "      <td>1951</td>\n",
       "      <td>6.7</td>\n",
       "      <td>113</td>\n",
       "      <td>None</td>\n",
       "      <td>https://m.media-amazon.com/images/M/MV5BMTc3Nj...</td>\n",
       "      <td>USA</td>\n",
       "      <td>English</td>\n",
       "      <td>Hugo Haas|Beverly Michaels|Robert Dane|Anthony...</td>\n",
       "      <td>Drama</td>\n",
       "      <td>She's Man-Bait and Murder !</td>\n",
       "      <td>An elderly watchmaker stops a beautiful young ...</td>\n",
       "      <td>Hugo Haas</td>\n",
       "      <td>76 min</td>\n",
       "      <td>https://www.imdb.com/title/tt0043588/</td>\n",
       "    </tr>\n",
       "    <tr>\n",
       "      <th>40696</th>\n",
       "      <td>Jumping Jacks</td>\n",
       "      <td>Not Rated</td>\n",
       "      <td>1952</td>\n",
       "      <td>6.4</td>\n",
       "      <td>766</td>\n",
       "      <td>None</td>\n",
       "      <td>https://m.media-amazon.com/images/M/MV5BNmY2ZT...</td>\n",
       "      <td>USA</td>\n",
       "      <td>English</td>\n",
       "      <td>Dean Martin|Jerry Lewis|Mona Freeman|Don DeFor...</td>\n",
       "      <td>Comedy|Musical</td>\n",
       "      <td>IT'S A RIP-ROARING RIOT! When Dean and Jerry R...</td>\n",
       "      <td>Nightclub comic Hap Smith assumes the identity...</td>\n",
       "      <td>Norman Taurog</td>\n",
       "      <td>96 min</td>\n",
       "      <td>https://www.imdb.com/title/tt0044774/</td>\n",
       "    </tr>\n",
       "  </tbody>\n",
       "</table>\n",
       "</div>"
      ],
      "text/plain": [
       "                        title     rating  year users_rating  votes metascore  \\\n",
       "31920        The Monkey Talks       None  1927          6.8     25      None   \n",
       "46707          Boeing, Boeing  Not Rated  1965          6.4  2,308      None   \n",
       "29742               The Big F       None  2016          6.3     14      None   \n",
       "31076  The Girl on the Bridge  Not Rated  1951          6.7    113      None   \n",
       "40696           Jumping Jacks  Not Rated  1952          6.4    766      None   \n",
       "\n",
       "                                                 img_url countries  \\\n",
       "31920  https://m.media-amazon.com/images/M/MV5BMmE2YT...       USA   \n",
       "46707  https://m.media-amazon.com/images/M/MV5BZmNkZT...       USA   \n",
       "29742  https://m.media-amazon.com/images/M/MV5BMWNlNT...       USA   \n",
       "31076  https://m.media-amazon.com/images/M/MV5BMTc3Nj...       USA   \n",
       "40696  https://m.media-amazon.com/images/M/MV5BNmY2ZT...       USA   \n",
       "\n",
       "                   languages  \\\n",
       "31920                English   \n",
       "46707  English|French|German   \n",
       "29742                English   \n",
       "31076                English   \n",
       "40696                English   \n",
       "\n",
       "                                                  actors           genre  \\\n",
       "31920  Olive Borden|Jacques Lerner|Don Alvarado|Malco...           Drama   \n",
       "46707  Tony Curtis|Jerry Lewis|Dany Saval|Christiane ...          Comedy   \n",
       "29742  James Bell|Mia Campbell|Sheri Darling|Patrick ...   Comedy|Horror   \n",
       "31076  Hugo Haas|Beverly Michaels|Robert Dane|Anthony...           Drama   \n",
       "40696  Dean Martin|Jerry Lewis|Mona Freeman|Don DeFor...  Comedy|Musical   \n",
       "\n",
       "                                                 tagline  \\\n",
       "31920                                               None   \n",
       "46707        The In Comedy of the Year about Making Out!   \n",
       "29742                                               None   \n",
       "31076                        She's Man-Bait and Murder !   \n",
       "40696  IT'S A RIP-ROARING RIOT! When Dean and Jerry R...   \n",
       "\n",
       "                                             description        directors  \\\n",
       "31920  A bankrupt circus act plans to revive its fort...      Raoul Walsh   \n",
       "46707  A friend visits his philandering friend just a...        John Rich   \n",
       "29742  It's Valentine's Day and Bigfoot is on the loo...  Brian Papandrea   \n",
       "31076  An elderly watchmaker stops a beautiful young ...        Hugo Haas   \n",
       "40696  Nightclub comic Hap Smith assumes the identity...    Norman Taurog   \n",
       "\n",
       "       runtime                               imdb_url  \n",
       "31920   60 min  https://www.imdb.com/title/tt0018170/  \n",
       "46707  102 min  https://www.imdb.com/title/tt0058981/  \n",
       "29742   71 min  https://www.imdb.com/title/tt6253276/  \n",
       "31076   76 min  https://www.imdb.com/title/tt0043588/  \n",
       "40696   96 min  https://www.imdb.com/title/tt0044774/  "
      ]
     },
     "execution_count": 11,
     "metadata": {},
     "output_type": "execute_result"
    }
   ],
   "source": [
    "# Check result\n",
    "df_clean.sample(5)"
   ]
  },
  {
   "cell_type": "markdown",
   "metadata": {},
   "source": [
    "### Problem 2"
   ]
  },
  {
   "cell_type": "markdown",
   "metadata": {},
   "source": [
    "One missing value in both `year` and `votes` columns."
   ]
  },
  {
   "cell_type": "code",
   "execution_count": 12,
   "metadata": {
    "scrolled": true
   },
   "outputs": [
    {
     "data": {
      "text/html": [
       "<div>\n",
       "<style scoped>\n",
       "    .dataframe tbody tr th:only-of-type {\n",
       "        vertical-align: middle;\n",
       "    }\n",
       "\n",
       "    .dataframe tbody tr th {\n",
       "        vertical-align: top;\n",
       "    }\n",
       "\n",
       "    .dataframe thead th {\n",
       "        text-align: right;\n",
       "    }\n",
       "</style>\n",
       "<table border=\"1\" class=\"dataframe\">\n",
       "  <thead>\n",
       "    <tr style=\"text-align: right;\">\n",
       "      <th></th>\n",
       "      <th>title</th>\n",
       "      <th>rating</th>\n",
       "      <th>year</th>\n",
       "      <th>users_rating</th>\n",
       "      <th>votes</th>\n",
       "      <th>metascore</th>\n",
       "      <th>img_url</th>\n",
       "      <th>countries</th>\n",
       "      <th>languages</th>\n",
       "      <th>actors</th>\n",
       "      <th>genre</th>\n",
       "      <th>tagline</th>\n",
       "      <th>description</th>\n",
       "      <th>directors</th>\n",
       "      <th>runtime</th>\n",
       "      <th>imdb_url</th>\n",
       "    </tr>\n",
       "  </thead>\n",
       "  <tbody>\n",
       "    <tr>\n",
       "      <th>38149</th>\n",
       "      <td>The Wolves of Savin Hill</td>\n",
       "      <td>None</td>\n",
       "      <td>2019</td>\n",
       "      <td>None</td>\n",
       "      <td>None</td>\n",
       "      <td>None</td>\n",
       "      <td>https://m.media-amazon.com/images/M/MV5BMTg1NT...</td>\n",
       "      <td>USA</td>\n",
       "      <td>English</td>\n",
       "      <td>David Cooley|Brian Scannell|Kurt Fuller|Jack M...</td>\n",
       "      <td>Crime|Drama|Horror</td>\n",
       "      <td>None</td>\n",
       "      <td>Childhood friends from Boston drift apart foll...</td>\n",
       "      <td>John Beaton Hill</td>\n",
       "      <td>100 min</td>\n",
       "      <td>https://www.imdb.com/title/tt3800674/</td>\n",
       "    </tr>\n",
       "    <tr>\n",
       "      <th>50128</th>\n",
       "      <td>Heartlock</td>\n",
       "      <td>None</td>\n",
       "      <td>None</td>\n",
       "      <td>6.1</td>\n",
       "      <td>77</td>\n",
       "      <td>None</td>\n",
       "      <td>https://m.media-amazon.com/images/M/MV5BNDliN2...</td>\n",
       "      <td>USA</td>\n",
       "      <td>English</td>\n",
       "      <td>Alexander Dreymon|Lesley-Ann Brandt|Erik LaRay...</td>\n",
       "      <td>Crime|Drama|Romance</td>\n",
       "      <td>None</td>\n",
       "      <td>Seasoned inmate Continental takes New York pri...</td>\n",
       "      <td>Jon Kauffman</td>\n",
       "      <td>96 min</td>\n",
       "      <td>https://www.imdb.com/title/tt3329456/</td>\n",
       "    </tr>\n",
       "  </tbody>\n",
       "</table>\n",
       "</div>"
      ],
      "text/plain": [
       "                          title rating  year users_rating votes metascore  \\\n",
       "38149  The Wolves of Savin Hill   None  2019         None  None      None   \n",
       "50128                 Heartlock   None  None          6.1    77      None   \n",
       "\n",
       "                                                 img_url countries languages  \\\n",
       "38149  https://m.media-amazon.com/images/M/MV5BMTg1NT...       USA   English   \n",
       "50128  https://m.media-amazon.com/images/M/MV5BNDliN2...       USA   English   \n",
       "\n",
       "                                                  actors                genre  \\\n",
       "38149  David Cooley|Brian Scannell|Kurt Fuller|Jack M...   Crime|Drama|Horror   \n",
       "50128  Alexander Dreymon|Lesley-Ann Brandt|Erik LaRay...  Crime|Drama|Romance   \n",
       "\n",
       "      tagline                                        description  \\\n",
       "38149    None  Childhood friends from Boston drift apart foll...   \n",
       "50128    None  Seasoned inmate Continental takes New York pri...   \n",
       "\n",
       "              directors  runtime                               imdb_url  \n",
       "38149  John Beaton Hill  100 min  https://www.imdb.com/title/tt3800674/  \n",
       "50128      Jon Kauffman   96 min  https://www.imdb.com/title/tt3329456/  "
      ]
     },
     "execution_count": 12,
     "metadata": {},
     "output_type": "execute_result"
    }
   ],
   "source": [
    "# Retrive row(s)\n",
    "mask = (df_clean['year'].isna() | df_clean['votes'].isna())\n",
    "df_clean[mask]"
   ]
  },
  {
   "cell_type": "markdown",
   "metadata": {},
   "source": [
    "After googled, **Heartlock** is released on 2018 with 5.5 user rating. So replace the missing value with correct one."
   ]
  },
  {
   "cell_type": "code",
   "execution_count": 13,
   "metadata": {
    "scrolled": true
   },
   "outputs": [
    {
     "data": {
      "text/plain": [
       "title                                                   Heartlock\n",
       "rating                                                        5.5\n",
       "year                                                         2018\n",
       "users_rating                                                  6.1\n",
       "votes                                                          77\n",
       "metascore                                                    None\n",
       "img_url         https://m.media-amazon.com/images/M/MV5BNDliN2...\n",
       "countries                                                     USA\n",
       "languages                                                 English\n",
       "actors          Alexander Dreymon|Lesley-Ann Brandt|Erik LaRay...\n",
       "genre                                         Crime|Drama|Romance\n",
       "tagline                                                      None\n",
       "description     Seasoned inmate Continental takes New York pri...\n",
       "directors                                            Jon Kauffman\n",
       "runtime                                                    96 min\n",
       "imdb_url                    https://www.imdb.com/title/tt3329456/\n",
       "Name: 50128, dtype: object"
      ]
     },
     "execution_count": 13,
     "metadata": {},
     "output_type": "execute_result"
    }
   ],
   "source": [
    "# Replace value\n",
    "df_clean.loc[50128].rating = '5.5'\n",
    "df_clean.loc[50128].year = '2018'\n",
    "df_clean.loc[50128]"
   ]
  },
  {
   "cell_type": "markdown",
   "metadata": {},
   "source": [
    "Number of votes for **The Wolves of Savin Hill** cannot be found, replace with average vote()."
   ]
  },
  {
   "cell_type": "code",
   "execution_count": 14,
   "metadata": {},
   "outputs": [],
   "source": [
    "# Remove non numeric values\n",
    "df_clean['votes'] = df_clean['votes'].apply(lambda x: re.sub('[^0-9]+', '', str(x)))"
   ]
  },
  {
   "cell_type": "code",
   "execution_count": 15,
   "metadata": {},
   "outputs": [
    {
     "data": {
      "text/plain": [
       "10233.316826447408"
      ]
     },
     "execution_count": 15,
     "metadata": {},
     "output_type": "execute_result"
    }
   ],
   "source": [
    "# Find mean votes\n",
    "votes_mean = pd.to_numeric(df_clean['votes']).mean()\n",
    "votes_mean"
   ]
  },
  {
   "cell_type": "code",
   "execution_count": 16,
   "metadata": {},
   "outputs": [
    {
     "data": {
      "text/plain": [
       "title                                    The Wolves of Savin Hill\n",
       "rating                                                       None\n",
       "year                                                         2019\n",
       "users_rating                                                 None\n",
       "votes                                                       10233\n",
       "metascore                                                    None\n",
       "img_url         https://m.media-amazon.com/images/M/MV5BMTg1NT...\n",
       "countries                                                     USA\n",
       "languages                                                 English\n",
       "actors          David Cooley|Brian Scannell|Kurt Fuller|Jack M...\n",
       "genre                                          Crime|Drama|Horror\n",
       "tagline                                                      None\n",
       "description     Childhood friends from Boston drift apart foll...\n",
       "directors                                        John Beaton Hill\n",
       "runtime                                                   100 min\n",
       "imdb_url                    https://www.imdb.com/title/tt3800674/\n",
       "Name: 38149, dtype: object"
      ]
     },
     "execution_count": 16,
     "metadata": {},
     "output_type": "execute_result"
    }
   ],
   "source": [
    "# Replace value\n",
    "df_clean.loc[38149].votes = '10233'\n",
    "df_clean.loc[38149]"
   ]
  },
  {
   "cell_type": "markdown",
   "metadata": {},
   "source": [
    "After missing value is removed, convert to integer."
   ]
  },
  {
   "cell_type": "code",
   "execution_count": 17,
   "metadata": {},
   "outputs": [],
   "source": [
    "# Convert to int\n",
    "columns = ['year', 'votes']\n",
    "\n",
    "for i in columns:\n",
    "    df_clean[i] = df_clean[i].astype('int')"
   ]
  },
  {
   "cell_type": "code",
   "execution_count": 18,
   "metadata": {
    "scrolled": true
   },
   "outputs": [
    {
     "name": "stdout",
     "output_type": "stream",
     "text": [
      "<class 'pandas.core.frame.DataFrame'>\n",
      "RangeIndex: 58623 entries, 0 to 58622\n",
      "Data columns (total 16 columns):\n",
      " #   Column        Non-Null Count  Dtype \n",
      "---  ------        --------------  ----- \n",
      " 0   title         58623 non-null  object\n",
      " 1   rating        39299 non-null  object\n",
      " 2   year          58623 non-null  int32 \n",
      " 3   users_rating  58622 non-null  object\n",
      " 4   votes         58623 non-null  int32 \n",
      " 5   metascore     8408 non-null   object\n",
      " 6   img_url       54615 non-null  object\n",
      " 7   countries     58623 non-null  object\n",
      " 8   languages     58623 non-null  object\n",
      " 9   actors        58623 non-null  object\n",
      " 10  genre         58623 non-null  object\n",
      " 11  tagline       35009 non-null  object\n",
      " 12  description   54490 non-null  object\n",
      " 13  directors     58623 non-null  object\n",
      " 14  runtime       46449 non-null  object\n",
      " 15  imdb_url      58623 non-null  object\n",
      "dtypes: int32(2), object(14)\n",
      "memory usage: 6.7+ MB\n"
     ]
    }
   ],
   "source": [
    "# Check result\n",
    "df_clean.info()"
   ]
  },
  {
   "cell_type": "markdown",
   "metadata": {},
   "source": [
    "### Problem 3"
   ]
  },
  {
   "cell_type": "markdown",
   "metadata": {},
   "source": [
    "Convert `users_rating` to float. Fill na with mean()."
   ]
  },
  {
   "cell_type": "code",
   "execution_count": 19,
   "metadata": {},
   "outputs": [],
   "source": [
    "df_clean['users_rating'] = df_clean['users_rating'].astype('float')"
   ]
  },
  {
   "cell_type": "code",
   "execution_count": 20,
   "metadata": {
    "scrolled": true
   },
   "outputs": [
    {
     "name": "stdout",
     "output_type": "stream",
     "text": [
      "<class 'pandas.core.frame.DataFrame'>\n",
      "RangeIndex: 58623 entries, 0 to 58622\n",
      "Data columns (total 16 columns):\n",
      " #   Column        Non-Null Count  Dtype  \n",
      "---  ------        --------------  -----  \n",
      " 0   title         58623 non-null  object \n",
      " 1   rating        39299 non-null  object \n",
      " 2   year          58623 non-null  int32  \n",
      " 3   users_rating  58622 non-null  float64\n",
      " 4   votes         58623 non-null  int32  \n",
      " 5   metascore     8408 non-null   object \n",
      " 6   img_url       54615 non-null  object \n",
      " 7   countries     58623 non-null  object \n",
      " 8   languages     58623 non-null  object \n",
      " 9   actors        58623 non-null  object \n",
      " 10  genre         58623 non-null  object \n",
      " 11  tagline       35009 non-null  object \n",
      " 12  description   54490 non-null  object \n",
      " 13  directors     58623 non-null  object \n",
      " 14  runtime       46449 non-null  object \n",
      " 15  imdb_url      58623 non-null  object \n",
      "dtypes: float64(1), int32(2), object(13)\n",
      "memory usage: 6.7+ MB\n"
     ]
    }
   ],
   "source": [
    "# Check result\n",
    "df_clean.info()"
   ]
  },
  {
   "cell_type": "code",
   "execution_count": 21,
   "metadata": {},
   "outputs": [],
   "source": [
    "# Replace missing values\n",
    "df_clean['users_rating'].fillna(df_clean['users_rating'].mean(), inplace = True)"
   ]
  },
  {
   "cell_type": "markdown",
   "metadata": {},
   "source": [
    "### Problem 4"
   ]
  },
  {
   "cell_type": "markdown",
   "metadata": {},
   "source": [
    "Convert `metascore` to int. But since there are many missing values, replace the missing values with '0' first convert to integer."
   ]
  },
  {
   "cell_type": "code",
   "execution_count": 22,
   "metadata": {},
   "outputs": [],
   "source": [
    "# Replace missing values\n",
    "df_clean['metascore'].fillna('0', inplace = True)"
   ]
  },
  {
   "cell_type": "code",
   "execution_count": 23,
   "metadata": {},
   "outputs": [],
   "source": [
    "# Convert to int\n",
    "df_clean['metascore'] = df_clean['metascore'].astype('int')"
   ]
  },
  {
   "cell_type": "code",
   "execution_count": 24,
   "metadata": {
    "scrolled": false
   },
   "outputs": [
    {
     "name": "stdout",
     "output_type": "stream",
     "text": [
      "<class 'pandas.core.frame.DataFrame'>\n",
      "RangeIndex: 58623 entries, 0 to 58622\n",
      "Data columns (total 16 columns):\n",
      " #   Column        Non-Null Count  Dtype  \n",
      "---  ------        --------------  -----  \n",
      " 0   title         58623 non-null  object \n",
      " 1   rating        39299 non-null  object \n",
      " 2   year          58623 non-null  int32  \n",
      " 3   users_rating  58623 non-null  float64\n",
      " 4   votes         58623 non-null  int32  \n",
      " 5   metascore     58623 non-null  int32  \n",
      " 6   img_url       54615 non-null  object \n",
      " 7   countries     58623 non-null  object \n",
      " 8   languages     58623 non-null  object \n",
      " 9   actors        58623 non-null  object \n",
      " 10  genre         58623 non-null  object \n",
      " 11  tagline       35009 non-null  object \n",
      " 12  description   54490 non-null  object \n",
      " 13  directors     58623 non-null  object \n",
      " 14  runtime       46449 non-null  object \n",
      " 15  imdb_url      58623 non-null  object \n",
      "dtypes: float64(1), int32(3), object(12)\n",
      "memory usage: 6.5+ MB\n"
     ]
    }
   ],
   "source": [
    "# Check result\n",
    "df_clean.info()"
   ]
  },
  {
   "cell_type": "markdown",
   "metadata": {},
   "source": [
    "### Problem 5"
   ]
  },
  {
   "cell_type": "markdown",
   "metadata": {},
   "source": [
    "Convert `runtime` to int. But since there are many missing values, replace the missing values with '0' first convert to integer and remove min from field."
   ]
  },
  {
   "cell_type": "code",
   "execution_count": 25,
   "metadata": {},
   "outputs": [],
   "source": [
    "# Replace missing values\n",
    "df_clean['runtime'].fillna('0', inplace = True)"
   ]
  },
  {
   "cell_type": "code",
   "execution_count": 26,
   "metadata": {},
   "outputs": [],
   "source": [
    "# Extract numeric values only from field\n",
    "df_clean['runtime'] = df_clean['runtime'].apply(lambda x: re.sub('[^0-9]+', '', str(x)))"
   ]
  },
  {
   "cell_type": "code",
   "execution_count": 27,
   "metadata": {},
   "outputs": [],
   "source": [
    "# Convert to int\n",
    "df_clean['runtime'] = df_clean['runtime'].astype('int')"
   ]
  },
  {
   "cell_type": "code",
   "execution_count": 28,
   "metadata": {
    "scrolled": false
   },
   "outputs": [
    {
     "name": "stdout",
     "output_type": "stream",
     "text": [
      "<class 'pandas.core.frame.DataFrame'>\n",
      "RangeIndex: 58623 entries, 0 to 58622\n",
      "Data columns (total 16 columns):\n",
      " #   Column        Non-Null Count  Dtype  \n",
      "---  ------        --------------  -----  \n",
      " 0   title         58623 non-null  object \n",
      " 1   rating        39299 non-null  object \n",
      " 2   year          58623 non-null  int32  \n",
      " 3   users_rating  58623 non-null  float64\n",
      " 4   votes         58623 non-null  int32  \n",
      " 5   metascore     58623 non-null  int32  \n",
      " 6   img_url       54615 non-null  object \n",
      " 7   countries     58623 non-null  object \n",
      " 8   languages     58623 non-null  object \n",
      " 9   actors        58623 non-null  object \n",
      " 10  genre         58623 non-null  object \n",
      " 11  tagline       35009 non-null  object \n",
      " 12  description   54490 non-null  object \n",
      " 13  directors     58623 non-null  object \n",
      " 14  runtime       58623 non-null  int32  \n",
      " 15  imdb_url      58623 non-null  object \n",
      "dtypes: float64(1), int32(4), object(11)\n",
      "memory usage: 6.3+ MB\n"
     ]
    }
   ],
   "source": [
    "# Check result\n",
    "df_clean.info()"
   ]
  },
  {
   "cell_type": "code",
   "execution_count": 29,
   "metadata": {
    "scrolled": true
   },
   "outputs": [
    {
     "data": {
      "text/html": [
       "<div>\n",
       "<style scoped>\n",
       "    .dataframe tbody tr th:only-of-type {\n",
       "        vertical-align: middle;\n",
       "    }\n",
       "\n",
       "    .dataframe tbody tr th {\n",
       "        vertical-align: top;\n",
       "    }\n",
       "\n",
       "    .dataframe thead th {\n",
       "        text-align: right;\n",
       "    }\n",
       "</style>\n",
       "<table border=\"1\" class=\"dataframe\">\n",
       "  <thead>\n",
       "    <tr style=\"text-align: right;\">\n",
       "      <th></th>\n",
       "      <th>title</th>\n",
       "      <th>rating</th>\n",
       "      <th>year</th>\n",
       "      <th>users_rating</th>\n",
       "      <th>votes</th>\n",
       "      <th>metascore</th>\n",
       "      <th>img_url</th>\n",
       "      <th>countries</th>\n",
       "      <th>languages</th>\n",
       "      <th>actors</th>\n",
       "      <th>genre</th>\n",
       "      <th>tagline</th>\n",
       "      <th>description</th>\n",
       "      <th>directors</th>\n",
       "      <th>runtime</th>\n",
       "      <th>imdb_url</th>\n",
       "    </tr>\n",
       "  </thead>\n",
       "  <tbody>\n",
       "    <tr>\n",
       "      <th>8361</th>\n",
       "      <td>West of the Brazos</td>\n",
       "      <td>Approved</td>\n",
       "      <td>1950</td>\n",
       "      <td>6.0</td>\n",
       "      <td>30</td>\n",
       "      <td>0</td>\n",
       "      <td>https://m.media-amazon.com/images/M/MV5BNTBjNT...</td>\n",
       "      <td>USA</td>\n",
       "      <td>English</td>\n",
       "      <td>James Ellison|Russell Hayden|Raymond Hatton|Fu...</td>\n",
       "      <td>Western</td>\n",
       "      <td>Battlin' Back To Back... for the riches of a r...</td>\n",
       "      <td>Returning to see his mother, Shamrock gets int...</td>\n",
       "      <td>Thomas Carr</td>\n",
       "      <td>58</td>\n",
       "      <td>https://www.imdb.com/title/tt0043125/</td>\n",
       "    </tr>\n",
       "    <tr>\n",
       "      <th>43709</th>\n",
       "      <td>Faith of Our Fathers</td>\n",
       "      <td>PG-13</td>\n",
       "      <td>2015</td>\n",
       "      <td>3.5</td>\n",
       "      <td>533</td>\n",
       "      <td>20</td>\n",
       "      <td>https://m.media-amazon.com/images/M/MV5BMjI4Nj...</td>\n",
       "      <td>USA</td>\n",
       "      <td>English</td>\n",
       "      <td>Kevin Downes|David A.R. White|Stephen Baldwin|...</td>\n",
       "      <td>Drama</td>\n",
       "      <td>A Story of Fatherhood. A Journey of Brotherhood.</td>\n",
       "      <td>Two men embark on a trip to the Vietnam Vetera...</td>\n",
       "      <td>Carey Scott</td>\n",
       "      <td>96</td>\n",
       "      <td>https://www.imdb.com/title/tt1322393/</td>\n",
       "    </tr>\n",
       "    <tr>\n",
       "      <th>7746</th>\n",
       "      <td>Son of the Guardsman</td>\n",
       "      <td>None</td>\n",
       "      <td>1946</td>\n",
       "      <td>6.1</td>\n",
       "      <td>29</td>\n",
       "      <td>0</td>\n",
       "      <td>https://m.media-amazon.com/images/M/MV5BMjJmMW...</td>\n",
       "      <td>USA</td>\n",
       "      <td>English</td>\n",
       "      <td>Robert Shaw|Daun Kennedy|Robert 'Buzz' Henry|J...</td>\n",
       "      <td>Adventure</td>\n",
       "      <td>None</td>\n",
       "      <td>England, 12th century. David Trent is a noblem...</td>\n",
       "      <td>Derwin Abrahams</td>\n",
       "      <td>0</td>\n",
       "      <td>https://www.imdb.com/title/tt0038967/</td>\n",
       "    </tr>\n",
       "    <tr>\n",
       "      <th>33974</th>\n",
       "      <td>Captain Caution</td>\n",
       "      <td>Approved</td>\n",
       "      <td>1940</td>\n",
       "      <td>5.5</td>\n",
       "      <td>213</td>\n",
       "      <td>0</td>\n",
       "      <td>https://m.media-amazon.com/images/M/MV5BNjYxND...</td>\n",
       "      <td>USA</td>\n",
       "      <td>English|French</td>\n",
       "      <td>Victor Mature|Louise Platt|Leo Carrillo|Bruce ...</td>\n",
       "      <td>Action|Adventure|Romance</td>\n",
       "      <td>None</td>\n",
       "      <td>When her father dies, a young woman helps a yo...</td>\n",
       "      <td>Richard Wallace</td>\n",
       "      <td>86</td>\n",
       "      <td>https://www.imdb.com/title/tt0032304/</td>\n",
       "    </tr>\n",
       "    <tr>\n",
       "      <th>16543</th>\n",
       "      <td>Impulse Black</td>\n",
       "      <td>Not Rated</td>\n",
       "      <td>2011</td>\n",
       "      <td>6.2</td>\n",
       "      <td>554</td>\n",
       "      <td>0</td>\n",
       "      <td>https://m.media-amazon.com/images/M/MV5BMTQwMD...</td>\n",
       "      <td>USA</td>\n",
       "      <td>English</td>\n",
       "      <td>Jordon Hodges|Emme Rylan|Robert Miano|Will Bru...</td>\n",
       "      <td>Drama|Sci-Fi</td>\n",
       "      <td>None</td>\n",
       "      <td>What do Riley Cole, Hitler, President Truman, ...</td>\n",
       "      <td>Bugs Moran</td>\n",
       "      <td>52</td>\n",
       "      <td>https://www.imdb.com/title/tt1800307/</td>\n",
       "    </tr>\n",
       "  </tbody>\n",
       "</table>\n",
       "</div>"
      ],
      "text/plain": [
       "                      title     rating  year  users_rating  votes  metascore  \\\n",
       "8361     West of the Brazos   Approved  1950           6.0     30          0   \n",
       "43709  Faith of Our Fathers      PG-13  2015           3.5    533         20   \n",
       "7746   Son of the Guardsman       None  1946           6.1     29          0   \n",
       "33974       Captain Caution   Approved  1940           5.5    213          0   \n",
       "16543         Impulse Black  Not Rated  2011           6.2    554          0   \n",
       "\n",
       "                                                 img_url countries  \\\n",
       "8361   https://m.media-amazon.com/images/M/MV5BNTBjNT...       USA   \n",
       "43709  https://m.media-amazon.com/images/M/MV5BMjI4Nj...       USA   \n",
       "7746   https://m.media-amazon.com/images/M/MV5BMjJmMW...       USA   \n",
       "33974  https://m.media-amazon.com/images/M/MV5BNjYxND...       USA   \n",
       "16543  https://m.media-amazon.com/images/M/MV5BMTQwMD...       USA   \n",
       "\n",
       "            languages                                             actors  \\\n",
       "8361          English  James Ellison|Russell Hayden|Raymond Hatton|Fu...   \n",
       "43709         English  Kevin Downes|David A.R. White|Stephen Baldwin|...   \n",
       "7746          English  Robert Shaw|Daun Kennedy|Robert 'Buzz' Henry|J...   \n",
       "33974  English|French  Victor Mature|Louise Platt|Leo Carrillo|Bruce ...   \n",
       "16543         English  Jordon Hodges|Emme Rylan|Robert Miano|Will Bru...   \n",
       "\n",
       "                          genre  \\\n",
       "8361                    Western   \n",
       "43709                     Drama   \n",
       "7746                  Adventure   \n",
       "33974  Action|Adventure|Romance   \n",
       "16543              Drama|Sci-Fi   \n",
       "\n",
       "                                                 tagline  \\\n",
       "8361   Battlin' Back To Back... for the riches of a r...   \n",
       "43709   A Story of Fatherhood. A Journey of Brotherhood.   \n",
       "7746                                                None   \n",
       "33974                                               None   \n",
       "16543                                               None   \n",
       "\n",
       "                                             description        directors  \\\n",
       "8361   Returning to see his mother, Shamrock gets int...      Thomas Carr   \n",
       "43709  Two men embark on a trip to the Vietnam Vetera...      Carey Scott   \n",
       "7746   England, 12th century. David Trent is a noblem...  Derwin Abrahams   \n",
       "33974  When her father dies, a young woman helps a yo...  Richard Wallace   \n",
       "16543  What do Riley Cole, Hitler, President Truman, ...       Bugs Moran   \n",
       "\n",
       "       runtime                               imdb_url  \n",
       "8361        58  https://www.imdb.com/title/tt0043125/  \n",
       "43709       96  https://www.imdb.com/title/tt1322393/  \n",
       "7746         0  https://www.imdb.com/title/tt0038967/  \n",
       "33974       86  https://www.imdb.com/title/tt0032304/  \n",
       "16543       52  https://www.imdb.com/title/tt1800307/  "
      ]
     },
     "execution_count": 29,
     "metadata": {},
     "output_type": "execute_result"
    }
   ],
   "source": [
    "df_clean.sample(5)"
   ]
  },
  {
   "cell_type": "markdown",
   "metadata": {},
   "source": [
    "### Problem 6"
   ]
  },
  {
   "cell_type": "markdown",
   "metadata": {},
   "source": [
    "Replace null values `rating`, `img_url`, `tagline`, `description`."
   ]
  },
  {
   "cell_type": "code",
   "execution_count": 30,
   "metadata": {},
   "outputs": [],
   "source": [
    "columns = ['rating', 'img_url', 'tagline', 'description']\n",
    "\n",
    "for i in columns:\n",
    "    df_clean[i].fillna('Unknown', inplace = True)"
   ]
  },
  {
   "cell_type": "code",
   "execution_count": 31,
   "metadata": {},
   "outputs": [
    {
     "data": {
      "text/plain": [
       "title           0\n",
       "rating          0\n",
       "year            0\n",
       "users_rating    0\n",
       "votes           0\n",
       "metascore       0\n",
       "img_url         0\n",
       "countries       0\n",
       "languages       0\n",
       "actors          0\n",
       "genre           0\n",
       "tagline         0\n",
       "description     0\n",
       "directors       0\n",
       "runtime         0\n",
       "imdb_url        0\n",
       "dtype: int64"
      ]
     },
     "execution_count": 31,
     "metadata": {},
     "output_type": "execute_result"
    }
   ],
   "source": [
    "df_clean.isna().sum()"
   ]
  },
  {
   "cell_type": "markdown",
   "metadata": {},
   "source": [
    "### Remove outliers"
   ]
  },
  {
   "cell_type": "code",
   "execution_count": 32,
   "metadata": {},
   "outputs": [
    {
     "data": {
      "text/html": [
       "<div>\n",
       "<style scoped>\n",
       "    .dataframe tbody tr th:only-of-type {\n",
       "        vertical-align: middle;\n",
       "    }\n",
       "\n",
       "    .dataframe tbody tr th {\n",
       "        vertical-align: top;\n",
       "    }\n",
       "\n",
       "    .dataframe thead th {\n",
       "        text-align: right;\n",
       "    }\n",
       "</style>\n",
       "<table border=\"1\" class=\"dataframe\">\n",
       "  <thead>\n",
       "    <tr style=\"text-align: right;\">\n",
       "      <th></th>\n",
       "      <th>year</th>\n",
       "      <th>users_rating</th>\n",
       "      <th>votes</th>\n",
       "      <th>metascore</th>\n",
       "      <th>runtime</th>\n",
       "    </tr>\n",
       "  </thead>\n",
       "  <tbody>\n",
       "    <tr>\n",
       "      <th>count</th>\n",
       "      <td>58623.000000</td>\n",
       "      <td>58623.000000</td>\n",
       "      <td>5.862300e+04</td>\n",
       "      <td>58623.000000</td>\n",
       "      <td>58623.000000</td>\n",
       "    </tr>\n",
       "    <tr>\n",
       "      <th>mean</th>\n",
       "      <td>1986.807123</td>\n",
       "      <td>5.942269</td>\n",
       "      <td>1.023332e+04</td>\n",
       "      <td>7.492435</td>\n",
       "      <td>71.445508</td>\n",
       "    </tr>\n",
       "    <tr>\n",
       "      <th>std</th>\n",
       "      <td>29.489752</td>\n",
       "      <td>1.369225</td>\n",
       "      <td>5.628595e+04</td>\n",
       "      <td>19.514225</td>\n",
       "      <td>41.897049</td>\n",
       "    </tr>\n",
       "    <tr>\n",
       "      <th>min</th>\n",
       "      <td>1903.000000</td>\n",
       "      <td>1.000000</td>\n",
       "      <td>5.000000e+00</td>\n",
       "      <td>0.000000</td>\n",
       "      <td>0.000000</td>\n",
       "    </tr>\n",
       "    <tr>\n",
       "      <th>50%</th>\n",
       "      <td>1999.000000</td>\n",
       "      <td>6.100000</td>\n",
       "      <td>1.220000e+02</td>\n",
       "      <td>0.000000</td>\n",
       "      <td>85.000000</td>\n",
       "    </tr>\n",
       "    <tr>\n",
       "      <th>80%</th>\n",
       "      <td>2013.000000</td>\n",
       "      <td>7.100000</td>\n",
       "      <td>1.655600e+03</td>\n",
       "      <td>0.000000</td>\n",
       "      <td>99.000000</td>\n",
       "    </tr>\n",
       "    <tr>\n",
       "      <th>90%</th>\n",
       "      <td>2015.000000</td>\n",
       "      <td>7.600000</td>\n",
       "      <td>9.897600e+03</td>\n",
       "      <td>42.000000</td>\n",
       "      <td>109.000000</td>\n",
       "    </tr>\n",
       "    <tr>\n",
       "      <th>95%</th>\n",
       "      <td>2017.000000</td>\n",
       "      <td>8.000000</td>\n",
       "      <td>4.192160e+04</td>\n",
       "      <td>60.000000</td>\n",
       "      <td>119.000000</td>\n",
       "    </tr>\n",
       "    <tr>\n",
       "      <th>max</th>\n",
       "      <td>2019.000000</td>\n",
       "      <td>10.000000</td>\n",
       "      <td>2.031143e+06</td>\n",
       "      <td>100.000000</td>\n",
       "      <td>1428.000000</td>\n",
       "    </tr>\n",
       "  </tbody>\n",
       "</table>\n",
       "</div>"
      ],
      "text/plain": [
       "               year  users_rating         votes     metascore       runtime\n",
       "count  58623.000000  58623.000000  5.862300e+04  58623.000000  58623.000000\n",
       "mean    1986.807123      5.942269  1.023332e+04      7.492435     71.445508\n",
       "std       29.489752      1.369225  5.628595e+04     19.514225     41.897049\n",
       "min     1903.000000      1.000000  5.000000e+00      0.000000      0.000000\n",
       "50%     1999.000000      6.100000  1.220000e+02      0.000000     85.000000\n",
       "80%     2013.000000      7.100000  1.655600e+03      0.000000     99.000000\n",
       "90%     2015.000000      7.600000  9.897600e+03     42.000000    109.000000\n",
       "95%     2017.000000      8.000000  4.192160e+04     60.000000    119.000000\n",
       "max     2019.000000     10.000000  2.031143e+06    100.000000   1428.000000"
      ]
     },
     "execution_count": 32,
     "metadata": {},
     "output_type": "execute_result"
    }
   ],
   "source": [
    "df_clean.describe([.80, .90, .95])"
   ]
  },
  {
   "cell_type": "markdown",
   "metadata": {},
   "source": [
    "It is seem like `votes` and `runtime` consists of outliers. Draw histogram"
   ]
  },
  {
   "cell_type": "code",
   "execution_count": 33,
   "metadata": {
    "scrolled": true
   },
   "outputs": [
    {
     "data": {
      "image/png": "[encoded data removed]",
      "text/plain": [
       "<Figure size 432x288 with 1 Axes>"
      ]
     },
     "metadata": {
      "needs_background": "light"
     },
     "output_type": "display_data"
    }
   ],
   "source": [
    "df_clean['votes'].hist();"
   ]
  },
  {
   "cell_type": "code",
   "execution_count": 34,
   "metadata": {
    "scrolled": true
   },
   "outputs": [
    {
     "data": {
      "image/png": "[encoded data removed]",
      "text/plain": [
       "<Figure size 432x288 with 1 Axes>"
      ]
     },
     "metadata": {
      "needs_background": "light"
     },
     "output_type": "display_data"
    }
   ],
   "source": [
    "df_clean['votes'].plot(kind='box');"
   ]
  },
  {
   "cell_type": "code",
   "execution_count": 35,
   "metadata": {
    "scrolled": true
   },
   "outputs": [
    {
     "data": {
      "image/png": "[encoded data removed]",
      "text/plain": [
       "<Figure size 432x288 with 1 Axes>"
      ]
     },
     "metadata": {
      "needs_background": "light"
     },
     "output_type": "display_data"
    }
   ],
   "source": [
    "df_clean['runtime'].hist();"
   ]
  },
  {
   "cell_type": "code",
   "execution_count": 36,
   "metadata": {
    "scrolled": false
   },
   "outputs": [
    {
     "data": {
      "image/png": "[encoded data removed]",
      "text/plain": [
       "<Figure size 432x288 with 1 Axes>"
      ]
     },
     "metadata": {
      "needs_background": "light"
     },
     "output_type": "display_data"
    }
   ],
   "source": [
    "df_clean['runtime'].plot(kind='box');"
   ]
  },
  {
   "cell_type": "code",
   "execution_count": 37,
   "metadata": {},
   "outputs": [],
   "source": [
    "# Remove votes > 10000\n",
    "df_clean = df_clean.query(\"votes <= 10000\")"
   ]
  },
  {
   "cell_type": "code",
   "execution_count": 38,
   "metadata": {},
   "outputs": [],
   "source": [
    "# Remove runtime > 110 \n",
    "df_clean = df_clean.query(\"runtime <= 110\")"
   ]
  },
  {
   "cell_type": "code",
   "execution_count": 39,
   "metadata": {
    "scrolled": true
   },
   "outputs": [
    {
     "data": {
      "image/png": "[encoded data removed]",
      "text/plain": [
       "<Figure size 432x288 with 1 Axes>"
      ]
     },
     "metadata": {
      "needs_background": "light"
     },
     "output_type": "display_data"
    }
   ],
   "source": [
    "df_clean['votes'].hist();"
   ]
  },
  {
   "cell_type": "code",
   "execution_count": 40,
   "metadata": {
    "scrolled": true
   },
   "outputs": [
    {
     "data": {
      "image/png": "[encoded data removed]",
      "text/plain": [
       "<Figure size 432x288 with 1 Axes>"
      ]
     },
     "metadata": {
      "needs_background": "light"
     },
     "output_type": "display_data"
    }
   ],
   "source": [
    "df_clean['votes'].plot(kind='box');"
   ]
  },
  {
   "cell_type": "code",
   "execution_count": 41,
   "metadata": {
    "scrolled": true
   },
   "outputs": [
    {
     "data": {
      "image/png": "[encoded data removed]",
      "text/plain": [
       "<Figure size 432x288 with 1 Axes>"
      ]
     },
     "metadata": {
      "needs_background": "light"
     },
     "output_type": "display_data"
    }
   ],
   "source": [
    "df_clean['runtime'].hist();"
   ]
  },
  {
   "cell_type": "code",
   "execution_count": 42,
   "metadata": {
    "scrolled": false
   },
   "outputs": [
    {
     "data": {
      "image/png": "[encoded data removed]",
      "text/plain": [
       "<Figure size 432x288 with 1 Axes>"
      ]
     },
     "metadata": {
      "needs_background": "light"
     },
     "output_type": "display_data"
    }
   ],
   "source": [
    "df_clean['runtime'].plot(kind='box');"
   ]
  },
  {
   "cell_type": "markdown",
   "metadata": {},
   "source": [
    "# Data Normalization"
   ]
  },
  {
   "cell_type": "code",
   "execution_count": 43,
   "metadata": {},
   "outputs": [],
   "source": [
    "min_max_scaler = MinMaxScaler()\n",
    "df_clean[[\"votes\", \"runtime\"]] = min_max_scaler.fit_transform(df_clean[[\"votes\", \"runtime\"]])"
   ]
  },
  {
   "cell_type": "code",
   "execution_count": 44,
   "metadata": {
    "scrolled": true
   },
   "outputs": [
    {
     "data": {
      "text/html": [
       "<div>\n",
       "<style scoped>\n",
       "    .dataframe tbody tr th:only-of-type {\n",
       "        vertical-align: middle;\n",
       "    }\n",
       "\n",
       "    .dataframe tbody tr th {\n",
       "        vertical-align: top;\n",
       "    }\n",
       "\n",
       "    .dataframe thead th {\n",
       "        text-align: right;\n",
       "    }\n",
       "</style>\n",
       "<table border=\"1\" class=\"dataframe\">\n",
       "  <thead>\n",
       "    <tr style=\"text-align: right;\">\n",
       "      <th></th>\n",
       "      <th>title</th>\n",
       "      <th>rating</th>\n",
       "      <th>year</th>\n",
       "      <th>users_rating</th>\n",
       "      <th>votes</th>\n",
       "      <th>metascore</th>\n",
       "      <th>img_url</th>\n",
       "      <th>countries</th>\n",
       "      <th>languages</th>\n",
       "      <th>actors</th>\n",
       "      <th>genre</th>\n",
       "      <th>tagline</th>\n",
       "      <th>description</th>\n",
       "      <th>directors</th>\n",
       "      <th>runtime</th>\n",
       "      <th>imdb_url</th>\n",
       "    </tr>\n",
       "  </thead>\n",
       "  <tbody>\n",
       "    <tr>\n",
       "      <th>10</th>\n",
       "      <td>Prancer</td>\n",
       "      <td>G</td>\n",
       "      <td>1989</td>\n",
       "      <td>6.4</td>\n",
       "      <td>0.397839</td>\n",
       "      <td>0</td>\n",
       "      <td>https://m.media-amazon.com/images/M/MV5BMjEyOT...</td>\n",
       "      <td>USA|Canada</td>\n",
       "      <td>English</td>\n",
       "      <td>Sam Elliott|Cloris Leachman|Rutanya Alda|Abe V...</td>\n",
       "      <td>Drama|Family|Fantasy</td>\n",
       "      <td>They lost the true spirit of Christmas...And f...</td>\n",
       "      <td>A farm girl nurses a wounded reindeer she beli...</td>\n",
       "      <td>John D. Hancock</td>\n",
       "      <td>0.936364</td>\n",
       "      <td>https://www.imdb.com/title/tt0098115/</td>\n",
       "    </tr>\n",
       "    <tr>\n",
       "      <th>36</th>\n",
       "      <td>1985</td>\n",
       "      <td>Unknown</td>\n",
       "      <td>2018</td>\n",
       "      <td>6.7</td>\n",
       "      <td>0.031819</td>\n",
       "      <td>71</td>\n",
       "      <td>https://m.media-amazon.com/images/M/MV5BNzM2Yj...</td>\n",
       "      <td>USA</td>\n",
       "      <td>English</td>\n",
       "      <td>Jamie Chung|Virginia Madsen|Bill Heck|Michael ...</td>\n",
       "      <td>Drama</td>\n",
       "      <td>Unknown</td>\n",
       "      <td>A closeted young man goes home for the holiday...</td>\n",
       "      <td>Yen Tan</td>\n",
       "      <td>0.772727</td>\n",
       "      <td>https://www.imdb.com/title/tt6411590/</td>\n",
       "    </tr>\n",
       "    <tr>\n",
       "      <th>40</th>\n",
       "      <td>Antidote</td>\n",
       "      <td>Unknown</td>\n",
       "      <td>2018</td>\n",
       "      <td>3.2</td>\n",
       "      <td>0.004803</td>\n",
       "      <td>0</td>\n",
       "      <td>https://m.media-amazon.com/images/M/MV5BZjEzZD...</td>\n",
       "      <td>USA</td>\n",
       "      <td>English</td>\n",
       "      <td>Randy Couture|Chuck Zito|Wil Traval|Mindy Robi...</td>\n",
       "      <td>Action|Adventure|Horror|Thriller</td>\n",
       "      <td>Unknown</td>\n",
       "      <td>An altruistic doctor (Natali Yura) and cocky t...</td>\n",
       "      <td>Ken Barbet</td>\n",
       "      <td>0.000000</td>\n",
       "      <td>https://www.imdb.com/title/tt3809960/</td>\n",
       "    </tr>\n",
       "    <tr>\n",
       "      <th>52</th>\n",
       "      <td>Ashes in the Snow</td>\n",
       "      <td>Unknown</td>\n",
       "      <td>2018</td>\n",
       "      <td>8.1</td>\n",
       "      <td>0.121073</td>\n",
       "      <td>0</td>\n",
       "      <td>https://m.media-amazon.com/images/M/MV5BOGFjMz...</td>\n",
       "      <td>USA|Lithuania</td>\n",
       "      <td>English</td>\n",
       "      <td>Bel Powley|Peter Franzén|Sophie Cookson|James ...</td>\n",
       "      <td>Drama|History|Romance|War</td>\n",
       "      <td>Inspired by True Events.</td>\n",
       "      <td>In 1941, a 16 year-old aspiring artist and her...</td>\n",
       "      <td>Marius A. Markevicius</td>\n",
       "      <td>0.890909</td>\n",
       "      <td>https://www.imdb.com/title/tt3759298/</td>\n",
       "    </tr>\n",
       "    <tr>\n",
       "      <th>61</th>\n",
       "      <td>A-X-L</td>\n",
       "      <td>PG</td>\n",
       "      <td>2018</td>\n",
       "      <td>5.1</td>\n",
       "      <td>0.352311</td>\n",
       "      <td>29</td>\n",
       "      <td>https://m.media-amazon.com/images/M/MV5BMzhmMW...</td>\n",
       "      <td>USA</td>\n",
       "      <td>English</td>\n",
       "      <td>Alex Neustaedter|Becky G|Alex MacNicoll|Domini...</td>\n",
       "      <td>Action|Adventure|Family|Sci-Fi</td>\n",
       "      <td>Man's best friend has evolved</td>\n",
       "      <td>A.X.L. is a top-secret, robotic dog who develo...</td>\n",
       "      <td>Oliver Daly</td>\n",
       "      <td>0.000000</td>\n",
       "      <td>https://www.imdb.com/title/tt5709188/</td>\n",
       "    </tr>\n",
       "    <tr>\n",
       "      <th>...</th>\n",
       "      <td>...</td>\n",
       "      <td>...</td>\n",
       "      <td>...</td>\n",
       "      <td>...</td>\n",
       "      <td>...</td>\n",
       "      <td>...</td>\n",
       "      <td>...</td>\n",
       "      <td>...</td>\n",
       "      <td>...</td>\n",
       "      <td>...</td>\n",
       "      <td>...</td>\n",
       "      <td>...</td>\n",
       "      <td>...</td>\n",
       "      <td>...</td>\n",
       "      <td>...</td>\n",
       "      <td>...</td>\n",
       "    </tr>\n",
       "    <tr>\n",
       "      <th>58618</th>\n",
       "      <td>Black Dragon</td>\n",
       "      <td>Unknown</td>\n",
       "      <td>2003</td>\n",
       "      <td>5.7</td>\n",
       "      <td>0.001001</td>\n",
       "      <td>0</td>\n",
       "      <td>https://m.media-amazon.com/images/M/MV5BMTUwOT...</td>\n",
       "      <td>USA</td>\n",
       "      <td>English</td>\n",
       "      <td>Stephen Benitzhar|Lewis Borders|Aliina Buckner...</td>\n",
       "      <td>Action|Fantasy|Thriller</td>\n",
       "      <td>Would you exchange your soul to live your fant...</td>\n",
       "      <td>One man's life is altered by the hand of fate....</td>\n",
       "      <td>Charley Rice</td>\n",
       "      <td>0.000000</td>\n",
       "      <td>https://www.imdb.com/title/tt0770170/</td>\n",
       "    </tr>\n",
       "    <tr>\n",
       "      <th>58619</th>\n",
       "      <td>Hold That Line</td>\n",
       "      <td>Approved</td>\n",
       "      <td>1952</td>\n",
       "      <td>6.7</td>\n",
       "      <td>0.019412</td>\n",
       "      <td>0</td>\n",
       "      <td>https://m.media-amazon.com/images/M/MV5BYzRiYj...</td>\n",
       "      <td>USA</td>\n",
       "      <td>English</td>\n",
       "      <td>Leo Gorcey|Huntz Hall|John Bromfield|Veda Ann ...</td>\n",
       "      <td>Action|Comedy|Sport</td>\n",
       "      <td>They're a SCREAM Team Of All-American RIOTS!</td>\n",
       "      <td>In a precursor to Trading Places (1983), the B...</td>\n",
       "      <td>William Beaudine</td>\n",
       "      <td>0.609091</td>\n",
       "      <td>https://www.imdb.com/title/tt0044714/</td>\n",
       "    </tr>\n",
       "    <tr>\n",
       "      <th>58620</th>\n",
       "      <td>Jam Session</td>\n",
       "      <td>Approved</td>\n",
       "      <td>1944</td>\n",
       "      <td>6.4</td>\n",
       "      <td>0.012708</td>\n",
       "      <td>0</td>\n",
       "      <td>https://m.media-amazon.com/images/M/MV5BMjk1Zj...</td>\n",
       "      <td>USA</td>\n",
       "      <td>English</td>\n",
       "      <td>Ann Miller|Jess Barker|Charles D. Brown|Eddie ...</td>\n",
       "      <td>Comedy|Music</td>\n",
       "      <td>IT'S A JIVE HIT! (original print ad-all caps)</td>\n",
       "      <td>Terry Baxter is a never-say-die Hollywood newc...</td>\n",
       "      <td>Charles Barton</td>\n",
       "      <td>0.700000</td>\n",
       "      <td>https://www.imdb.com/title/tt0036966/</td>\n",
       "    </tr>\n",
       "    <tr>\n",
       "      <th>58621</th>\n",
       "      <td>The Black Pirates</td>\n",
       "      <td>Unknown</td>\n",
       "      <td>1954</td>\n",
       "      <td>5.5</td>\n",
       "      <td>0.002602</td>\n",
       "      <td>0</td>\n",
       "      <td>https://m.media-amazon.com/images/M/MV5BZDQyOG...</td>\n",
       "      <td>USA|Mexico|El Salvador</td>\n",
       "      <td>English</td>\n",
       "      <td>Anthony Dexter|Martha Roth|Lon Chaney Jr.|Robe...</td>\n",
       "      <td>Adventure</td>\n",
       "      <td>Wild raiders of the tropic seas!</td>\n",
       "      <td>Pirates searching for treasure take over a sma...</td>\n",
       "      <td>Allen H. Miner</td>\n",
       "      <td>0.672727</td>\n",
       "      <td>https://www.imdb.com/title/tt0046787/</td>\n",
       "    </tr>\n",
       "    <tr>\n",
       "      <th>58622</th>\n",
       "      <td>Southern Cross</td>\n",
       "      <td>Not Rated</td>\n",
       "      <td>1999</td>\n",
       "      <td>4.5</td>\n",
       "      <td>0.013108</td>\n",
       "      <td>0</td>\n",
       "      <td>https://m.media-amazon.com/images/M/MV5BM2ZlNT...</td>\n",
       "      <td>USA</td>\n",
       "      <td>English</td>\n",
       "      <td>Hugo Tramón|Christian Svensson|Malcolm McDowel...</td>\n",
       "      <td>Action|Drama|Thriller</td>\n",
       "      <td>A Father He Never Knew Reveals a Legacy of Cor...</td>\n",
       "      <td>A mining businessman gets involved in crimes a...</td>\n",
       "      <td>James Becket</td>\n",
       "      <td>0.927273</td>\n",
       "      <td>https://www.imdb.com/title/tt0166811/</td>\n",
       "    </tr>\n",
       "  </tbody>\n",
       "</table>\n",
       "<p>49854 rows × 16 columns</p>\n",
       "</div>"
      ],
      "text/plain": [
       "                   title     rating  year  users_rating     votes  metascore  \\\n",
       "10               Prancer          G  1989           6.4  0.397839          0   \n",
       "36                  1985    Unknown  2018           6.7  0.031819         71   \n",
       "40              Antidote    Unknown  2018           3.2  0.004803          0   \n",
       "52     Ashes in the Snow    Unknown  2018           8.1  0.121073          0   \n",
       "61                 A-X-L         PG  2018           5.1  0.352311         29   \n",
       "...                  ...        ...   ...           ...       ...        ...   \n",
       "58618       Black Dragon    Unknown  2003           5.7  0.001001          0   \n",
       "58619     Hold That Line   Approved  1952           6.7  0.019412          0   \n",
       "58620        Jam Session   Approved  1944           6.4  0.012708          0   \n",
       "58621  The Black Pirates    Unknown  1954           5.5  0.002602          0   \n",
       "58622     Southern Cross  Not Rated  1999           4.5  0.013108          0   \n",
       "\n",
       "                                                 img_url  \\\n",
       "10     https://m.media-amazon.com/images/M/MV5BMjEyOT...   \n",
       "36     https://m.media-amazon.com/images/M/MV5BNzM2Yj...   \n",
       "40     https://m.media-amazon.com/images/M/MV5BZjEzZD...   \n",
       "52     https://m.media-amazon.com/images/M/MV5BOGFjMz...   \n",
       "61     https://m.media-amazon.com/images/M/MV5BMzhmMW...   \n",
       "...                                                  ...   \n",
       "58618  https://m.media-amazon.com/images/M/MV5BMTUwOT...   \n",
       "58619  https://m.media-amazon.com/images/M/MV5BYzRiYj...   \n",
       "58620  https://m.media-amazon.com/images/M/MV5BMjk1Zj...   \n",
       "58621  https://m.media-amazon.com/images/M/MV5BZDQyOG...   \n",
       "58622  https://m.media-amazon.com/images/M/MV5BM2ZlNT...   \n",
       "\n",
       "                    countries languages  \\\n",
       "10                 USA|Canada   English   \n",
       "36                        USA   English   \n",
       "40                        USA   English   \n",
       "52              USA|Lithuania   English   \n",
       "61                        USA   English   \n",
       "...                       ...       ...   \n",
       "58618                     USA   English   \n",
       "58619                     USA   English   \n",
       "58620                     USA   English   \n",
       "58621  USA|Mexico|El Salvador   English   \n",
       "58622                     USA   English   \n",
       "\n",
       "                                                  actors  \\\n",
       "10     Sam Elliott|Cloris Leachman|Rutanya Alda|Abe V...   \n",
       "36     Jamie Chung|Virginia Madsen|Bill Heck|Michael ...   \n",
       "40     Randy Couture|Chuck Zito|Wil Traval|Mindy Robi...   \n",
       "52     Bel Powley|Peter Franzén|Sophie Cookson|James ...   \n",
       "61     Alex Neustaedter|Becky G|Alex MacNicoll|Domini...   \n",
       "...                                                  ...   \n",
       "58618  Stephen Benitzhar|Lewis Borders|Aliina Buckner...   \n",
       "58619  Leo Gorcey|Huntz Hall|John Bromfield|Veda Ann ...   \n",
       "58620  Ann Miller|Jess Barker|Charles D. Brown|Eddie ...   \n",
       "58621  Anthony Dexter|Martha Roth|Lon Chaney Jr.|Robe...   \n",
       "58622  Hugo Tramón|Christian Svensson|Malcolm McDowel...   \n",
       "\n",
       "                                  genre  \\\n",
       "10                 Drama|Family|Fantasy   \n",
       "36                                Drama   \n",
       "40     Action|Adventure|Horror|Thriller   \n",
       "52            Drama|History|Romance|War   \n",
       "61       Action|Adventure|Family|Sci-Fi   \n",
       "...                                 ...   \n",
       "58618           Action|Fantasy|Thriller   \n",
       "58619               Action|Comedy|Sport   \n",
       "58620                      Comedy|Music   \n",
       "58621                         Adventure   \n",
       "58622             Action|Drama|Thriller   \n",
       "\n",
       "                                                 tagline  \\\n",
       "10     They lost the true spirit of Christmas...And f...   \n",
       "36                                               Unknown   \n",
       "40                                               Unknown   \n",
       "52                              Inspired by True Events.   \n",
       "61                         Man's best friend has evolved   \n",
       "...                                                  ...   \n",
       "58618  Would you exchange your soul to live your fant...   \n",
       "58619       They're a SCREAM Team Of All-American RIOTS!   \n",
       "58620      IT'S A JIVE HIT! (original print ad-all caps)   \n",
       "58621                   Wild raiders of the tropic seas!   \n",
       "58622  A Father He Never Knew Reveals a Legacy of Cor...   \n",
       "\n",
       "                                             description  \\\n",
       "10     A farm girl nurses a wounded reindeer she beli...   \n",
       "36     A closeted young man goes home for the holiday...   \n",
       "40     An altruistic doctor (Natali Yura) and cocky t...   \n",
       "52     In 1941, a 16 year-old aspiring artist and her...   \n",
       "61     A.X.L. is a top-secret, robotic dog who develo...   \n",
       "...                                                  ...   \n",
       "58618  One man's life is altered by the hand of fate....   \n",
       "58619  In a precursor to Trading Places (1983), the B...   \n",
       "58620  Terry Baxter is a never-say-die Hollywood newc...   \n",
       "58621  Pirates searching for treasure take over a sma...   \n",
       "58622  A mining businessman gets involved in crimes a...   \n",
       "\n",
       "                   directors   runtime                               imdb_url  \n",
       "10           John D. Hancock  0.936364  https://www.imdb.com/title/tt0098115/  \n",
       "36                   Yen Tan  0.772727  https://www.imdb.com/title/tt6411590/  \n",
       "40                Ken Barbet  0.000000  https://www.imdb.com/title/tt3809960/  \n",
       "52     Marius A. Markevicius  0.890909  https://www.imdb.com/title/tt3759298/  \n",
       "61               Oliver Daly  0.000000  https://www.imdb.com/title/tt5709188/  \n",
       "...                      ...       ...                                    ...  \n",
       "58618           Charley Rice  0.000000  https://www.imdb.com/title/tt0770170/  \n",
       "58619       William Beaudine  0.609091  https://www.imdb.com/title/tt0044714/  \n",
       "58620         Charles Barton  0.700000  https://www.imdb.com/title/tt0036966/  \n",
       "58621         Allen H. Miner  0.672727  https://www.imdb.com/title/tt0046787/  \n",
       "58622           James Becket  0.927273  https://www.imdb.com/title/tt0166811/  \n",
       "\n",
       "[49854 rows x 16 columns]"
      ]
     },
     "execution_count": 44,
     "metadata": {},
     "output_type": "execute_result"
    }
   ],
   "source": [
    "df_clean"
   ]
  },
  {
   "cell_type": "markdown",
   "metadata": {},
   "source": [
    "# Data Reduction"
   ]
  },
  {
   "cell_type": "code",
   "execution_count": 45,
   "metadata": {},
   "outputs": [],
   "source": [
    "pca = PCA() \n",
    "  \n",
    "df_clean['votes_pca'] = pca.fit_transform(df_clean[['votes']]) \n",
    "df_clean['runtime_pca'] = pca.fit_transform(df_clean[['runtime']])"
   ]
  },
  {
   "cell_type": "code",
   "execution_count": 46,
   "metadata": {},
   "outputs": [
    {
     "data": {
      "text/html": [
       "<div>\n",
       "<style scoped>\n",
       "    .dataframe tbody tr th:only-of-type {\n",
       "        vertical-align: middle;\n",
       "    }\n",
       "\n",
       "    .dataframe tbody tr th {\n",
       "        vertical-align: top;\n",
       "    }\n",
       "\n",
       "    .dataframe thead th {\n",
       "        text-align: right;\n",
       "    }\n",
       "</style>\n",
       "<table border=\"1\" class=\"dataframe\">\n",
       "  <thead>\n",
       "    <tr style=\"text-align: right;\">\n",
       "      <th></th>\n",
       "      <th>title</th>\n",
       "      <th>rating</th>\n",
       "      <th>year</th>\n",
       "      <th>users_rating</th>\n",
       "      <th>votes</th>\n",
       "      <th>metascore</th>\n",
       "      <th>img_url</th>\n",
       "      <th>countries</th>\n",
       "      <th>languages</th>\n",
       "      <th>actors</th>\n",
       "      <th>genre</th>\n",
       "      <th>tagline</th>\n",
       "      <th>description</th>\n",
       "      <th>directors</th>\n",
       "      <th>runtime</th>\n",
       "      <th>imdb_url</th>\n",
       "      <th>votes_pca</th>\n",
       "      <th>runtime_pca</th>\n",
       "    </tr>\n",
       "  </thead>\n",
       "  <tbody>\n",
       "    <tr>\n",
       "      <th>10</th>\n",
       "      <td>Prancer</td>\n",
       "      <td>G</td>\n",
       "      <td>1989</td>\n",
       "      <td>6.4</td>\n",
       "      <td>0.397839</td>\n",
       "      <td>0</td>\n",
       "      <td>https://m.media-amazon.com/images/M/MV5BMjEyOT...</td>\n",
       "      <td>USA|Canada</td>\n",
       "      <td>English</td>\n",
       "      <td>Sam Elliott|Cloris Leachman|Rutanya Alda|Abe V...</td>\n",
       "      <td>Drama|Family|Fantasy</td>\n",
       "      <td>They lost the true spirit of Christmas...And f...</td>\n",
       "      <td>A farm girl nurses a wounded reindeer she beli...</td>\n",
       "      <td>John D. Hancock</td>\n",
       "      <td>0.936364</td>\n",
       "      <td>https://www.imdb.com/title/tt0098115/</td>\n",
       "      <td>0.337624</td>\n",
       "      <td>-0.354972</td>\n",
       "    </tr>\n",
       "    <tr>\n",
       "      <th>36</th>\n",
       "      <td>1985</td>\n",
       "      <td>Unknown</td>\n",
       "      <td>2018</td>\n",
       "      <td>6.7</td>\n",
       "      <td>0.031819</td>\n",
       "      <td>71</td>\n",
       "      <td>https://m.media-amazon.com/images/M/MV5BNzM2Yj...</td>\n",
       "      <td>USA</td>\n",
       "      <td>English</td>\n",
       "      <td>Jamie Chung|Virginia Madsen|Bill Heck|Michael ...</td>\n",
       "      <td>Drama</td>\n",
       "      <td>Unknown</td>\n",
       "      <td>A closeted young man goes home for the holiday...</td>\n",
       "      <td>Yen Tan</td>\n",
       "      <td>0.772727</td>\n",
       "      <td>https://www.imdb.com/title/tt6411590/</td>\n",
       "      <td>-0.028396</td>\n",
       "      <td>-0.191335</td>\n",
       "    </tr>\n",
       "    <tr>\n",
       "      <th>40</th>\n",
       "      <td>Antidote</td>\n",
       "      <td>Unknown</td>\n",
       "      <td>2018</td>\n",
       "      <td>3.2</td>\n",
       "      <td>0.004803</td>\n",
       "      <td>0</td>\n",
       "      <td>https://m.media-amazon.com/images/M/MV5BZjEzZD...</td>\n",
       "      <td>USA</td>\n",
       "      <td>English</td>\n",
       "      <td>Randy Couture|Chuck Zito|Wil Traval|Mindy Robi...</td>\n",
       "      <td>Action|Adventure|Horror|Thriller</td>\n",
       "      <td>Unknown</td>\n",
       "      <td>An altruistic doctor (Natali Yura) and cocky t...</td>\n",
       "      <td>Ken Barbet</td>\n",
       "      <td>0.000000</td>\n",
       "      <td>https://www.imdb.com/title/tt3809960/</td>\n",
       "      <td>-0.055412</td>\n",
       "      <td>0.581392</td>\n",
       "    </tr>\n",
       "    <tr>\n",
       "      <th>52</th>\n",
       "      <td>Ashes in the Snow</td>\n",
       "      <td>Unknown</td>\n",
       "      <td>2018</td>\n",
       "      <td>8.1</td>\n",
       "      <td>0.121073</td>\n",
       "      <td>0</td>\n",
       "      <td>https://m.media-amazon.com/images/M/MV5BOGFjMz...</td>\n",
       "      <td>USA|Lithuania</td>\n",
       "      <td>English</td>\n",
       "      <td>Bel Powley|Peter Franzén|Sophie Cookson|James ...</td>\n",
       "      <td>Drama|History|Romance|War</td>\n",
       "      <td>Inspired by True Events.</td>\n",
       "      <td>In 1941, a 16 year-old aspiring artist and her...</td>\n",
       "      <td>Marius A. Markevicius</td>\n",
       "      <td>0.890909</td>\n",
       "      <td>https://www.imdb.com/title/tt3759298/</td>\n",
       "      <td>0.060858</td>\n",
       "      <td>-0.309517</td>\n",
       "    </tr>\n",
       "    <tr>\n",
       "      <th>61</th>\n",
       "      <td>A-X-L</td>\n",
       "      <td>PG</td>\n",
       "      <td>2018</td>\n",
       "      <td>5.1</td>\n",
       "      <td>0.352311</td>\n",
       "      <td>29</td>\n",
       "      <td>https://m.media-amazon.com/images/M/MV5BMzhmMW...</td>\n",
       "      <td>USA</td>\n",
       "      <td>English</td>\n",
       "      <td>Alex Neustaedter|Becky G|Alex MacNicoll|Domini...</td>\n",
       "      <td>Action|Adventure|Family|Sci-Fi</td>\n",
       "      <td>Man's best friend has evolved</td>\n",
       "      <td>A.X.L. is a top-secret, robotic dog who develo...</td>\n",
       "      <td>Oliver Daly</td>\n",
       "      <td>0.000000</td>\n",
       "      <td>https://www.imdb.com/title/tt5709188/</td>\n",
       "      <td>0.292096</td>\n",
       "      <td>0.581392</td>\n",
       "    </tr>\n",
       "    <tr>\n",
       "      <th>...</th>\n",
       "      <td>...</td>\n",
       "      <td>...</td>\n",
       "      <td>...</td>\n",
       "      <td>...</td>\n",
       "      <td>...</td>\n",
       "      <td>...</td>\n",
       "      <td>...</td>\n",
       "      <td>...</td>\n",
       "      <td>...</td>\n",
       "      <td>...</td>\n",
       "      <td>...</td>\n",
       "      <td>...</td>\n",
       "      <td>...</td>\n",
       "      <td>...</td>\n",
       "      <td>...</td>\n",
       "      <td>...</td>\n",
       "      <td>...</td>\n",
       "      <td>...</td>\n",
       "    </tr>\n",
       "    <tr>\n",
       "      <th>58618</th>\n",
       "      <td>Black Dragon</td>\n",
       "      <td>Unknown</td>\n",
       "      <td>2003</td>\n",
       "      <td>5.7</td>\n",
       "      <td>0.001001</td>\n",
       "      <td>0</td>\n",
       "      <td>https://m.media-amazon.com/images/M/MV5BMTUwOT...</td>\n",
       "      <td>USA</td>\n",
       "      <td>English</td>\n",
       "      <td>Stephen Benitzhar|Lewis Borders|Aliina Buckner...</td>\n",
       "      <td>Action|Fantasy|Thriller</td>\n",
       "      <td>Would you exchange your soul to live your fant...</td>\n",
       "      <td>One man's life is altered by the hand of fate....</td>\n",
       "      <td>Charley Rice</td>\n",
       "      <td>0.000000</td>\n",
       "      <td>https://www.imdb.com/title/tt0770170/</td>\n",
       "      <td>-0.059214</td>\n",
       "      <td>0.581392</td>\n",
       "    </tr>\n",
       "    <tr>\n",
       "      <th>58619</th>\n",
       "      <td>Hold That Line</td>\n",
       "      <td>Approved</td>\n",
       "      <td>1952</td>\n",
       "      <td>6.7</td>\n",
       "      <td>0.019412</td>\n",
       "      <td>0</td>\n",
       "      <td>https://m.media-amazon.com/images/M/MV5BYzRiYj...</td>\n",
       "      <td>USA</td>\n",
       "      <td>English</td>\n",
       "      <td>Leo Gorcey|Huntz Hall|John Bromfield|Veda Ann ...</td>\n",
       "      <td>Action|Comedy|Sport</td>\n",
       "      <td>They're a SCREAM Team Of All-American RIOTS!</td>\n",
       "      <td>In a precursor to Trading Places (1983), the B...</td>\n",
       "      <td>William Beaudine</td>\n",
       "      <td>0.609091</td>\n",
       "      <td>https://www.imdb.com/title/tt0044714/</td>\n",
       "      <td>-0.040803</td>\n",
       "      <td>-0.027699</td>\n",
       "    </tr>\n",
       "    <tr>\n",
       "      <th>58620</th>\n",
       "      <td>Jam Session</td>\n",
       "      <td>Approved</td>\n",
       "      <td>1944</td>\n",
       "      <td>6.4</td>\n",
       "      <td>0.012708</td>\n",
       "      <td>0</td>\n",
       "      <td>https://m.media-amazon.com/images/M/MV5BMjk1Zj...</td>\n",
       "      <td>USA</td>\n",
       "      <td>English</td>\n",
       "      <td>Ann Miller|Jess Barker|Charles D. Brown|Eddie ...</td>\n",
       "      <td>Comedy|Music</td>\n",
       "      <td>IT'S A JIVE HIT! (original print ad-all caps)</td>\n",
       "      <td>Terry Baxter is a never-say-die Hollywood newc...</td>\n",
       "      <td>Charles Barton</td>\n",
       "      <td>0.700000</td>\n",
       "      <td>https://www.imdb.com/title/tt0036966/</td>\n",
       "      <td>-0.047507</td>\n",
       "      <td>-0.118608</td>\n",
       "    </tr>\n",
       "    <tr>\n",
       "      <th>58621</th>\n",
       "      <td>The Black Pirates</td>\n",
       "      <td>Unknown</td>\n",
       "      <td>1954</td>\n",
       "      <td>5.5</td>\n",
       "      <td>0.002602</td>\n",
       "      <td>0</td>\n",
       "      <td>https://m.media-amazon.com/images/M/MV5BZDQyOG...</td>\n",
       "      <td>USA|Mexico|El Salvador</td>\n",
       "      <td>English</td>\n",
       "      <td>Anthony Dexter|Martha Roth|Lon Chaney Jr.|Robe...</td>\n",
       "      <td>Adventure</td>\n",
       "      <td>Wild raiders of the tropic seas!</td>\n",
       "      <td>Pirates searching for treasure take over a sma...</td>\n",
       "      <td>Allen H. Miner</td>\n",
       "      <td>0.672727</td>\n",
       "      <td>https://www.imdb.com/title/tt0046787/</td>\n",
       "      <td>-0.057613</td>\n",
       "      <td>-0.091335</td>\n",
       "    </tr>\n",
       "    <tr>\n",
       "      <th>58622</th>\n",
       "      <td>Southern Cross</td>\n",
       "      <td>Not Rated</td>\n",
       "      <td>1999</td>\n",
       "      <td>4.5</td>\n",
       "      <td>0.013108</td>\n",
       "      <td>0</td>\n",
       "      <td>https://m.media-amazon.com/images/M/MV5BM2ZlNT...</td>\n",
       "      <td>USA</td>\n",
       "      <td>English</td>\n",
       "      <td>Hugo Tramón|Christian Svensson|Malcolm McDowel...</td>\n",
       "      <td>Action|Drama|Thriller</td>\n",
       "      <td>A Father He Never Knew Reveals a Legacy of Cor...</td>\n",
       "      <td>A mining businessman gets involved in crimes a...</td>\n",
       "      <td>James Becket</td>\n",
       "      <td>0.927273</td>\n",
       "      <td>https://www.imdb.com/title/tt0166811/</td>\n",
       "      <td>-0.047107</td>\n",
       "      <td>-0.345881</td>\n",
       "    </tr>\n",
       "  </tbody>\n",
       "</table>\n",
       "<p>49854 rows × 18 columns</p>\n",
       "</div>"
      ],
      "text/plain": [
       "                   title     rating  year  users_rating     votes  metascore  \\\n",
       "10               Prancer          G  1989           6.4  0.397839          0   \n",
       "36                  1985    Unknown  2018           6.7  0.031819         71   \n",
       "40              Antidote    Unknown  2018           3.2  0.004803          0   \n",
       "52     Ashes in the Snow    Unknown  2018           8.1  0.121073          0   \n",
       "61                 A-X-L         PG  2018           5.1  0.352311         29   \n",
       "...                  ...        ...   ...           ...       ...        ...   \n",
       "58618       Black Dragon    Unknown  2003           5.7  0.001001          0   \n",
       "58619     Hold That Line   Approved  1952           6.7  0.019412          0   \n",
       "58620        Jam Session   Approved  1944           6.4  0.012708          0   \n",
       "58621  The Black Pirates    Unknown  1954           5.5  0.002602          0   \n",
       "58622     Southern Cross  Not Rated  1999           4.5  0.013108          0   \n",
       "\n",
       "                                                 img_url  \\\n",
       "10     https://m.media-amazon.com/images/M/MV5BMjEyOT...   \n",
       "36     https://m.media-amazon.com/images/M/MV5BNzM2Yj...   \n",
       "40     https://m.media-amazon.com/images/M/MV5BZjEzZD...   \n",
       "52     https://m.media-amazon.com/images/M/MV5BOGFjMz...   \n",
       "61     https://m.media-amazon.com/images/M/MV5BMzhmMW...   \n",
       "...                                                  ...   \n",
       "58618  https://m.media-amazon.com/images/M/MV5BMTUwOT...   \n",
       "58619  https://m.media-amazon.com/images/M/MV5BYzRiYj...   \n",
       "58620  https://m.media-amazon.com/images/M/MV5BMjk1Zj...   \n",
       "58621  https://m.media-amazon.com/images/M/MV5BZDQyOG...   \n",
       "58622  https://m.media-amazon.com/images/M/MV5BM2ZlNT...   \n",
       "\n",
       "                    countries languages  \\\n",
       "10                 USA|Canada   English   \n",
       "36                        USA   English   \n",
       "40                        USA   English   \n",
       "52              USA|Lithuania   English   \n",
       "61                        USA   English   \n",
       "...                       ...       ...   \n",
       "58618                     USA   English   \n",
       "58619                     USA   English   \n",
       "58620                     USA   English   \n",
       "58621  USA|Mexico|El Salvador   English   \n",
       "58622                     USA   English   \n",
       "\n",
       "                                                  actors  \\\n",
       "10     Sam Elliott|Cloris Leachman|Rutanya Alda|Abe V...   \n",
       "36     Jamie Chung|Virginia Madsen|Bill Heck|Michael ...   \n",
       "40     Randy Couture|Chuck Zito|Wil Traval|Mindy Robi...   \n",
       "52     Bel Powley|Peter Franzén|Sophie Cookson|James ...   \n",
       "61     Alex Neustaedter|Becky G|Alex MacNicoll|Domini...   \n",
       "...                                                  ...   \n",
       "58618  Stephen Benitzhar|Lewis Borders|Aliina Buckner...   \n",
       "58619  Leo Gorcey|Huntz Hall|John Bromfield|Veda Ann ...   \n",
       "58620  Ann Miller|Jess Barker|Charles D. Brown|Eddie ...   \n",
       "58621  Anthony Dexter|Martha Roth|Lon Chaney Jr.|Robe...   \n",
       "58622  Hugo Tramón|Christian Svensson|Malcolm McDowel...   \n",
       "\n",
       "                                  genre  \\\n",
       "10                 Drama|Family|Fantasy   \n",
       "36                                Drama   \n",
       "40     Action|Adventure|Horror|Thriller   \n",
       "52            Drama|History|Romance|War   \n",
       "61       Action|Adventure|Family|Sci-Fi   \n",
       "...                                 ...   \n",
       "58618           Action|Fantasy|Thriller   \n",
       "58619               Action|Comedy|Sport   \n",
       "58620                      Comedy|Music   \n",
       "58621                         Adventure   \n",
       "58622             Action|Drama|Thriller   \n",
       "\n",
       "                                                 tagline  \\\n",
       "10     They lost the true spirit of Christmas...And f...   \n",
       "36                                               Unknown   \n",
       "40                                               Unknown   \n",
       "52                              Inspired by True Events.   \n",
       "61                         Man's best friend has evolved   \n",
       "...                                                  ...   \n",
       "58618  Would you exchange your soul to live your fant...   \n",
       "58619       They're a SCREAM Team Of All-American RIOTS!   \n",
       "58620      IT'S A JIVE HIT! (original print ad-all caps)   \n",
       "58621                   Wild raiders of the tropic seas!   \n",
       "58622  A Father He Never Knew Reveals a Legacy of Cor...   \n",
       "\n",
       "                                             description  \\\n",
       "10     A farm girl nurses a wounded reindeer she beli...   \n",
       "36     A closeted young man goes home for the holiday...   \n",
       "40     An altruistic doctor (Natali Yura) and cocky t...   \n",
       "52     In 1941, a 16 year-old aspiring artist and her...   \n",
       "61     A.X.L. is a top-secret, robotic dog who develo...   \n",
       "...                                                  ...   \n",
       "58618  One man's life is altered by the hand of fate....   \n",
       "58619  In a precursor to Trading Places (1983), the B...   \n",
       "58620  Terry Baxter is a never-say-die Hollywood newc...   \n",
       "58621  Pirates searching for treasure take over a sma...   \n",
       "58622  A mining businessman gets involved in crimes a...   \n",
       "\n",
       "                   directors   runtime                               imdb_url  \\\n",
       "10           John D. Hancock  0.936364  https://www.imdb.com/title/tt0098115/   \n",
       "36                   Yen Tan  0.772727  https://www.imdb.com/title/tt6411590/   \n",
       "40                Ken Barbet  0.000000  https://www.imdb.com/title/tt3809960/   \n",
       "52     Marius A. Markevicius  0.890909  https://www.imdb.com/title/tt3759298/   \n",
       "61               Oliver Daly  0.000000  https://www.imdb.com/title/tt5709188/   \n",
       "...                      ...       ...                                    ...   \n",
       "58618           Charley Rice  0.000000  https://www.imdb.com/title/tt0770170/   \n",
       "58619       William Beaudine  0.609091  https://www.imdb.com/title/tt0044714/   \n",
       "58620         Charles Barton  0.700000  https://www.imdb.com/title/tt0036966/   \n",
       "58621         Allen H. Miner  0.672727  https://www.imdb.com/title/tt0046787/   \n",
       "58622           James Becket  0.927273  https://www.imdb.com/title/tt0166811/   \n",
       "\n",
       "       votes_pca  runtime_pca  \n",
       "10      0.337624    -0.354972  \n",
       "36     -0.028396    -0.191335  \n",
       "40     -0.055412     0.581392  \n",
       "52      0.060858    -0.309517  \n",
       "61      0.292096     0.581392  \n",
       "...          ...          ...  \n",
       "58618  -0.059214     0.581392  \n",
       "58619  -0.040803    -0.027699  \n",
       "58620  -0.047507    -0.118608  \n",
       "58621  -0.057613    -0.091335  \n",
       "58622  -0.047107    -0.345881  \n",
       "\n",
       "[49854 rows x 18 columns]"
      ]
     },
     "execution_count": 46,
     "metadata": {},
     "output_type": "execute_result"
    }
   ],
   "source": [
    "df_clean"
   ]
  }
 ],
 "metadata": {
  "kernelspec": {
   "display_name": "Python 3",
   "language": "python",
   "name": "python3"
  },
  "language_info": {
   "codemirror_mode": {
    "name": "ipython",
    "version": 3
   },
   "file_extension": ".py",
   "mimetype": "text/x-python",
   "name": "python",
   "nbconvert_exporter": "python",
   "pygments_lexer": "ipython3",
   "version": "3.7.5"
  }
 },
 "nbformat": 4,
 "nbformat_minor": 4
}
