{
 "cells": [
  {
   "cell_type": "markdown",
   "metadata": {},
   "source": [
    "# Final Exam"
   ]
  },
  {
   "cell_type": "markdown",
   "metadata": {},
   "source": [
    "## Question 5"
   ]
  },
  {
   "cell_type": "markdown",
   "metadata": {},
   "source": [
    "#### 5.1 Importing required libraries"
   ]
  },
  {
   "cell_type": "code",
   "execution_count": 1,
   "metadata": {},
   "outputs": [],
   "source": [
    "import pandas as pd\n",
    "import numpy as np\n",
    "import matplotlib.pyplot as plt\n",
    "%matplotlib inline\n",
    "from sklearn.preprocessing import StandardScaler\n",
    "from sklearn.cluster import DBSCAN\n",
    "from sklearn.cluster import KMeans"
   ]
  },
  {
   "cell_type": "markdown",
   "metadata": {},
   "source": [
    "#### 5.2 Load the dataset into a DataFrame object"
   ]
  },
  {
   "cell_type": "code",
   "execution_count": 2,
   "metadata": {},
   "outputs": [
    {
     "data": {
      "text/html": [
       "<div>\n",
       "<style scoped>\n",
       "    .dataframe tbody tr th:only-of-type {\n",
       "        vertical-align: middle;\n",
       "    }\n",
       "\n",
       "    .dataframe tbody tr th {\n",
       "        vertical-align: top;\n",
       "    }\n",
       "\n",
       "    .dataframe thead th {\n",
       "        text-align: right;\n",
       "    }\n",
       "</style>\n",
       "<table border=\"1\" class=\"dataframe\">\n",
       "  <thead>\n",
       "    <tr style=\"text-align: right;\">\n",
       "      <th></th>\n",
       "      <th>name</th>\n",
       "      <th>photo_url</th>\n",
       "      <th>positions</th>\n",
       "      <th>age</th>\n",
       "      <th>birth_date</th>\n",
       "      <th>height</th>\n",
       "      <th>weight</th>\n",
       "      <th>football_club</th>\n",
       "      <th>national_team</th>\n",
       "      <th>overall_rating</th>\n",
       "      <th>...</th>\n",
       "      <th>Strength</th>\n",
       "      <th>LongShots</th>\n",
       "      <th>Aggression</th>\n",
       "      <th>Interceptions</th>\n",
       "      <th>Positioning</th>\n",
       "      <th>Vision</th>\n",
       "      <th>Penalties</th>\n",
       "      <th>DefensiveAwareness</th>\n",
       "      <th>StandingTackle</th>\n",
       "      <th>SlidingTackle</th>\n",
       "    </tr>\n",
       "  </thead>\n",
       "  <tbody>\n",
       "    <tr>\n",
       "      <th>0</th>\n",
       "      <td>Lionel Andrés Messi Cuccittini</td>\n",
       "      <td>https://cdn.sofifa.com/players/158/023/20_120.png</td>\n",
       "      <td>RW,ST,CF</td>\n",
       "      <td>32</td>\n",
       "      <td>1987/Jun/24</td>\n",
       "      <td>170</td>\n",
       "      <td>72</td>\n",
       "      <td>FC Barcelona</td>\n",
       "      <td>Argentina</td>\n",
       "      <td>94</td>\n",
       "      <td>...</td>\n",
       "      <td>68</td>\n",
       "      <td>94</td>\n",
       "      <td>48</td>\n",
       "      <td>40</td>\n",
       "      <td>94</td>\n",
       "      <td>94</td>\n",
       "      <td>75</td>\n",
       "      <td>33</td>\n",
       "      <td>37</td>\n",
       "      <td>26</td>\n",
       "    </tr>\n",
       "    <tr>\n",
       "      <th>1</th>\n",
       "      <td>Cristiano Ronaldo dos Santos Aveir</td>\n",
       "      <td>https://cdn.sofifa.com/players/020/801/20_120.png</td>\n",
       "      <td>ST,LW</td>\n",
       "      <td>34</td>\n",
       "      <td>1985/Feb/5</td>\n",
       "      <td>187</td>\n",
       "      <td>83</td>\n",
       "      <td>Juventus</td>\n",
       "      <td>Portugal</td>\n",
       "      <td>93</td>\n",
       "      <td>...</td>\n",
       "      <td>78</td>\n",
       "      <td>93</td>\n",
       "      <td>63</td>\n",
       "      <td>29</td>\n",
       "      <td>95</td>\n",
       "      <td>82</td>\n",
       "      <td>85</td>\n",
       "      <td>28</td>\n",
       "      <td>32</td>\n",
       "      <td>24</td>\n",
       "    </tr>\n",
       "    <tr>\n",
       "      <th>2</th>\n",
       "      <td>Neymar da Silva Santos Júnior</td>\n",
       "      <td>https://cdn.sofifa.com/players/190/871/20_120.png</td>\n",
       "      <td>LW,CAM</td>\n",
       "      <td>27</td>\n",
       "      <td>1992/Feb/5</td>\n",
       "      <td>175</td>\n",
       "      <td>68</td>\n",
       "      <td>Paris Saint-Germain</td>\n",
       "      <td>Brazil</td>\n",
       "      <td>92</td>\n",
       "      <td>...</td>\n",
       "      <td>49</td>\n",
       "      <td>85</td>\n",
       "      <td>51</td>\n",
       "      <td>36</td>\n",
       "      <td>87</td>\n",
       "      <td>90</td>\n",
       "      <td>92</td>\n",
       "      <td>35</td>\n",
       "      <td>30</td>\n",
       "      <td>29</td>\n",
       "    </tr>\n",
       "    <tr>\n",
       "      <th>3</th>\n",
       "      <td>Virgil van Dijk</td>\n",
       "      <td>https://cdn.sofifa.com/players/203/376/20_120.png</td>\n",
       "      <td>CB</td>\n",
       "      <td>27</td>\n",
       "      <td>1991/Jul/8</td>\n",
       "      <td>193</td>\n",
       "      <td>92</td>\n",
       "      <td>Liverpool</td>\n",
       "      <td>Netherlands</td>\n",
       "      <td>91</td>\n",
       "      <td>...</td>\n",
       "      <td>92</td>\n",
       "      <td>64</td>\n",
       "      <td>83</td>\n",
       "      <td>90</td>\n",
       "      <td>47</td>\n",
       "      <td>65</td>\n",
       "      <td>62</td>\n",
       "      <td>93</td>\n",
       "      <td>93</td>\n",
       "      <td>86</td>\n",
       "    </tr>\n",
       "    <tr>\n",
       "      <th>4</th>\n",
       "      <td>Jan Oblak</td>\n",
       "      <td>https://cdn.sofifa.com/players/200/389/20_120.png</td>\n",
       "      <td>GK</td>\n",
       "      <td>26</td>\n",
       "      <td>1993/Jan/7</td>\n",
       "      <td>188</td>\n",
       "      <td>87</td>\n",
       "      <td>Atlético Madrid</td>\n",
       "      <td>Slovenia</td>\n",
       "      <td>91</td>\n",
       "      <td>...</td>\n",
       "      <td>78</td>\n",
       "      <td>12</td>\n",
       "      <td>34</td>\n",
       "      <td>19</td>\n",
       "      <td>11</td>\n",
       "      <td>65</td>\n",
       "      <td>11</td>\n",
       "      <td>27</td>\n",
       "      <td>12</td>\n",
       "      <td>18</td>\n",
       "    </tr>\n",
       "  </tbody>\n",
       "</table>\n",
       "<p>5 rows × 51 columns</p>\n",
       "</div>"
      ],
      "text/plain": [
       "                                 name  \\\n",
       "0      Lionel Andrés Messi Cuccittini   \n",
       "1  Cristiano Ronaldo dos Santos Aveir   \n",
       "2       Neymar da Silva Santos Júnior   \n",
       "3                     Virgil van Dijk   \n",
       "4                           Jan Oblak   \n",
       "\n",
       "                                           photo_url positions  age  \\\n",
       "0  https://cdn.sofifa.com/players/158/023/20_120.png  RW,ST,CF   32   \n",
       "1  https://cdn.sofifa.com/players/020/801/20_120.png     ST,LW   34   \n",
       "2  https://cdn.sofifa.com/players/190/871/20_120.png    LW,CAM   27   \n",
       "3  https://cdn.sofifa.com/players/203/376/20_120.png        CB   27   \n",
       "4  https://cdn.sofifa.com/players/200/389/20_120.png        GK   26   \n",
       "\n",
       "    birth_date  height  weight        football_club national_team  \\\n",
       "0  1987/Jun/24     170      72         FC Barcelona     Argentina   \n",
       "1   1985/Feb/5     187      83             Juventus      Portugal   \n",
       "2   1992/Feb/5     175      68  Paris Saint-Germain        Brazil   \n",
       "3   1991/Jul/8     193      92            Liverpool   Netherlands   \n",
       "4   1993/Jan/7     188      87      Atlético Madrid      Slovenia   \n",
       "\n",
       "   overall_rating  ...  Strength  LongShots  Aggression Interceptions  \\\n",
       "0              94  ...        68         94          48            40   \n",
       "1              93  ...        78         93          63            29   \n",
       "2              92  ...        49         85          51            36   \n",
       "3              91  ...        92         64          83            90   \n",
       "4              91  ...        78         12          34            19   \n",
       "\n",
       "   Positioning Vision  Penalties  DefensiveAwareness  StandingTackle  \\\n",
       "0           94     94         75                  33              37   \n",
       "1           95     82         85                  28              32   \n",
       "2           87     90         92                  35              30   \n",
       "3           47     65         62                  93              93   \n",
       "4           11     65         11                  27              12   \n",
       "\n",
       "  SlidingTackle  \n",
       "0            26  \n",
       "1            24  \n",
       "2            29  \n",
       "3            86  \n",
       "4            18  \n",
       "\n",
       "[5 rows x 51 columns]"
      ]
     },
     "execution_count": 2,
     "metadata": {},
     "output_type": "execute_result"
    }
   ],
   "source": [
    "df = pd.read_csv('data/players_stats.csv')\n",
    "df.head()"
   ]
  },
  {
   "cell_type": "code",
   "execution_count": 3,
   "metadata": {},
   "outputs": [
    {
     "data": {
      "text/plain": [
       "Index(['name', 'photo_url', 'positions', 'age', 'birth_date', 'height',\n",
       "       'weight', 'football_club', 'national_team', 'overall_rating',\n",
       "       'potential', 'value', 'wages', 'best_position', 'best_rating',\n",
       "       'Preferred Foot', 'Weak Foot', 'Skill Moves',\n",
       "       'International Reputation', 'Work Rate', 'Body Type', 'Real Face',\n",
       "       'Release Clause', 'Crossing', 'Finishing', 'HeadingAccuracy',\n",
       "       'ShortPassing', 'Volleys', 'Dribbling', 'Curve', 'FKAccuracy',\n",
       "       'LongPassing', 'BallControl', 'Acceleration', 'SprintSpeed', 'Agility',\n",
       "       'Reactions', 'Balance', 'ShotPower', 'Jumping', 'Stamina', 'Strength',\n",
       "       'LongShots', 'Aggression', 'Interceptions', 'Positioning', 'Vision',\n",
       "       'Penalties', 'DefensiveAwareness', 'StandingTackle', 'SlidingTackle'],\n",
       "      dtype='object')"
      ]
     },
     "execution_count": 3,
     "metadata": {},
     "output_type": "execute_result"
    }
   ],
   "source": [
    "df.columns"
   ]
  },
  {
   "cell_type": "markdown",
   "metadata": {},
   "source": [
    "#### 5.3 Visualize the data, use only two of these attributes at the time"
   ]
  },
  {
   "cell_type": "code",
   "execution_count": 4,
   "metadata": {},
   "outputs": [
    {
     "data": {
      "text/html": [
       "<div>\n",
       "<style scoped>\n",
       "    .dataframe tbody tr th:only-of-type {\n",
       "        vertical-align: middle;\n",
       "    }\n",
       "\n",
       "    .dataframe tbody tr th {\n",
       "        vertical-align: top;\n",
       "    }\n",
       "\n",
       "    .dataframe thead th {\n",
       "        text-align: right;\n",
       "    }\n",
       "</style>\n",
       "<table border=\"1\" class=\"dataframe\">\n",
       "  <thead>\n",
       "    <tr style=\"text-align: right;\">\n",
       "      <th></th>\n",
       "      <th>overall_rating</th>\n",
       "      <th>potential</th>\n",
       "    </tr>\n",
       "  </thead>\n",
       "  <tbody>\n",
       "    <tr>\n",
       "      <th>11500</th>\n",
       "      <td>65</td>\n",
       "      <td>65</td>\n",
       "    </tr>\n",
       "    <tr>\n",
       "      <th>18977</th>\n",
       "      <td>53</td>\n",
       "      <td>63</td>\n",
       "    </tr>\n",
       "    <tr>\n",
       "      <th>19370</th>\n",
       "      <td>51</td>\n",
       "      <td>60</td>\n",
       "    </tr>\n",
       "    <tr>\n",
       "      <th>19581</th>\n",
       "      <td>49</td>\n",
       "      <td>69</td>\n",
       "    </tr>\n",
       "    <tr>\n",
       "      <th>7590</th>\n",
       "      <td>68</td>\n",
       "      <td>68</td>\n",
       "    </tr>\n",
       "    <tr>\n",
       "      <th>...</th>\n",
       "      <td>...</td>\n",
       "      <td>...</td>\n",
       "    </tr>\n",
       "    <tr>\n",
       "      <th>11706</th>\n",
       "      <td>65</td>\n",
       "      <td>81</td>\n",
       "    </tr>\n",
       "    <tr>\n",
       "      <th>9949</th>\n",
       "      <td>66</td>\n",
       "      <td>68</td>\n",
       "    </tr>\n",
       "    <tr>\n",
       "      <th>8860</th>\n",
       "      <td>67</td>\n",
       "      <td>76</td>\n",
       "    </tr>\n",
       "    <tr>\n",
       "      <th>6594</th>\n",
       "      <td>69</td>\n",
       "      <td>69</td>\n",
       "    </tr>\n",
       "    <tr>\n",
       "      <th>282</th>\n",
       "      <td>82</td>\n",
       "      <td>82</td>\n",
       "    </tr>\n",
       "  </tbody>\n",
       "</table>\n",
       "<p>250 rows × 2 columns</p>\n",
       "</div>"
      ],
      "text/plain": [
       "       overall_rating  potential\n",
       "11500              65         65\n",
       "18977              53         63\n",
       "19370              51         60\n",
       "19581              49         69\n",
       "7590               68         68\n",
       "...               ...        ...\n",
       "11706              65         81\n",
       "9949               66         68\n",
       "8860               67         76\n",
       "6594               69         69\n",
       "282                82         82\n",
       "\n",
       "[250 rows x 2 columns]"
      ]
     },
     "execution_count": 4,
     "metadata": {},
     "output_type": "execute_result"
    }
   ],
   "source": [
    "selectedAttr = df.sample(250)[['overall_rating', 'potential']]\n",
    "selectedAttr"
   ]
  },
  {
   "cell_type": "markdown",
   "metadata": {},
   "source": [
    "#### 5.4 Normalise the attributes"
   ]
  },
  {
   "cell_type": "code",
   "execution_count": 5,
   "metadata": {
    "scrolled": true
   },
   "outputs": [
    {
     "data": {
      "text/plain": [
       "array([[-0.19546059, -0.98490243],\n",
       "       [-1.95109463, -1.30159131],\n",
       "       [-2.24370031, -1.77662464],\n",
       "       [-2.53630598, -0.35152466],\n",
       "       [ 0.24344792, -0.5098691 ],\n",
       "       [ 0.24344792, -0.19318022],\n",
       "       [-0.78067194, -1.6182802 ],\n",
       "       [-0.78067194, -0.35152466],\n",
       "       [ 0.09714508, -0.19318022],\n",
       "       [ 0.53605359, -0.19318022],\n",
       "       [ 0.38975076,  0.91523087],\n",
       "       [ 1.12126494,  1.3902642 ],\n",
       "       [-1.36588329, -0.03483578],\n",
       "       [-1.95109463, -2.88503573],\n",
       "       [-1.21958045,  0.12350866],\n",
       "       [ 1.12126494,  1.54860864],\n",
       "       [ 0.53605359, -0.19318022],\n",
       "       [-0.48806626,  0.12350866],\n",
       "       [-1.21958045,  0.28185311],\n",
       "       [ 0.24344792, -0.5098691 ],\n",
       "       [-0.48806626, -0.19318022],\n",
       "       [ 1.56017345,  0.91523087],\n",
       "       [ 0.38975076,  0.91523087],\n",
       "       [-1.36588329, -0.98490243],\n",
       "       [-0.6343691 , -1.45993576],\n",
       "       [ 0.24344792, -0.5098691 ],\n",
       "       [ 1.56017345,  0.91523087],\n",
       "       [ 0.09714508,  1.70695309],\n",
       "       [ 0.97496211,  0.44019755],\n",
       "       [ 0.24344792,  0.28185311],\n",
       "       [-0.34176343, -1.14324687],\n",
       "       [-0.48806626,  0.28185311],\n",
       "       [ 1.26756778,  0.59854199],\n",
       "       [ 1.85277913,  1.23191976],\n",
       "       [ 0.24344792,  0.12350866],\n",
       "       [ 1.12126494,  0.44019755],\n",
       "       [ 0.97496211,  1.3902642 ],\n",
       "       [-0.34176343, -1.14324687],\n",
       "       [ 0.82865927,  0.12350866],\n",
       "       [-0.48806626, -0.19318022],\n",
       "       [ 0.09714508,  0.12350866],\n",
       "       [-0.34176343,  1.07357532],\n",
       "       [-0.34176343,  0.28185311],\n",
       "       [ 0.24344792,  0.44019755],\n",
       "       [ 0.82865927,  1.07357532],\n",
       "       [-0.19546059, -0.98490243],\n",
       "       [ 0.09714508, -0.66821355],\n",
       "       [-0.34176343, -0.66821355],\n",
       "       [-1.51218612, -0.82655799],\n",
       "       [-1.07327761, -1.93496908],\n",
       "       [-0.34176343, -1.14324687],\n",
       "       [ 0.09714508,  1.86529753],\n",
       "       [ 0.53605359, -0.19318022],\n",
       "       [ 1.99908196,  1.3902642 ],\n",
       "       [ 1.70647629,  1.54860864],\n",
       "       [-0.92697477, -1.77662464],\n",
       "       [-0.6343691 , -0.82655799],\n",
       "       [ 1.26756778,  0.59854199],\n",
       "       [ 0.68235643,  1.07357532],\n",
       "       [ 1.12126494,  0.44019755],\n",
       "       [ 0.97496211,  1.07357532],\n",
       "       [-0.04915775, -0.82655799],\n",
       "       [-1.65848896,  0.12350866],\n",
       "       [ 0.68235643,  0.44019755],\n",
       "       [ 2.1453848 ,  2.34033085],\n",
       "       [ 0.24344792, -0.5098691 ],\n",
       "       [-0.92697477, -0.19318022],\n",
       "       [ 1.12126494,  2.81536418],\n",
       "       [-0.34176343,  1.23191976],\n",
       "       [ 0.38975076, -0.35152466],\n",
       "       [-0.48806626, -1.14324687],\n",
       "       [ 0.97496211,  1.86529753],\n",
       "       [-0.48806626,  0.91523087],\n",
       "       [-0.19546059,  1.70695309],\n",
       "       [-0.34176343, -1.14324687],\n",
       "       [-1.51218612, -2.25165797],\n",
       "       [-0.78067194, -0.5098691 ],\n",
       "       [-1.51218612, -0.19318022],\n",
       "       [ 0.97496211,  0.28185311],\n",
       "       [-1.8047918 , -0.82655799],\n",
       "       [-0.6343691 ,  0.75688643],\n",
       "       [ 0.68235643,  0.91523087],\n",
       "       [ 0.38975076, -0.35152466],\n",
       "       [ 0.82865927,  1.07357532],\n",
       "       [-1.65848896,  0.59854199],\n",
       "       [ 0.38975076,  0.59854199],\n",
       "       [-1.65848896, -1.14324687],\n",
       "       [ 0.68235643, -0.03483578],\n",
       "       [-0.6343691 ,  0.12350866],\n",
       "       [-0.04915775, -0.19318022],\n",
       "       [-1.21958045, -0.5098691 ],\n",
       "       [ 0.68235643, -0.03483578],\n",
       "       [ 1.12126494,  0.44019755],\n",
       "       [-0.6343691 , -1.45993576],\n",
       "       [ 2.87689898,  2.97370862],\n",
       "       [ 0.09714508,  0.91523087],\n",
       "       [-1.21958045, -0.98490243],\n",
       "       [-1.51218612, -2.41000241],\n",
       "       [-0.48806626, -0.98490243],\n",
       "       [-0.6343691 ,  0.12350866],\n",
       "       [-0.04915775, -0.19318022],\n",
       "       [ 0.82865927,  0.12350866],\n",
       "       [ 0.09714508,  0.12350866],\n",
       "       [-0.6343691 , -0.98490243],\n",
       "       [ 0.68235643, -0.03483578],\n",
       "       [-0.48806626, -1.30159131],\n",
       "       [ 0.09714508, -0.66821355],\n",
       "       [-1.95109463, -0.98490243],\n",
       "       [-0.78067194,  0.28185311],\n",
       "       [ 0.09714508, -0.35152466],\n",
       "       [-0.48806626,  0.44019755],\n",
       "       [-0.48806626,  2.34033085],\n",
       "       [ 2.43799047,  2.34033085],\n",
       "       [ 1.41387062,  0.75688643],\n",
       "       [ 0.82865927,  0.28185311],\n",
       "       [-0.48806626, -0.03483578],\n",
       "       [ 0.97496211,  0.28185311],\n",
       "       [ 0.68235643,  1.23191976],\n",
       "       [ 1.85277913,  2.18198641],\n",
       "       [ 1.70647629,  1.07357532],\n",
       "       [ 0.09714508, -0.03483578],\n",
       "       [ 0.09714508,  0.12350866],\n",
       "       [ 0.24344792, -0.5098691 ],\n",
       "       [-1.51218612, -0.5098691 ],\n",
       "       [ 0.82865927,  1.3902642 ],\n",
       "       [-0.78067194, -1.6182802 ],\n",
       "       [ 0.24344792, -0.5098691 ],\n",
       "       [-0.19546059, -0.35152466],\n",
       "       [-0.92697477,  0.44019755],\n",
       "       [-0.48806626, -1.30159131],\n",
       "       [ 0.38975076,  0.28185311],\n",
       "       [ 1.12126494,  0.59854199],\n",
       "       [ 0.53605359, -0.03483578],\n",
       "       [ 1.56017345,  1.07357532],\n",
       "       [-0.48806626, -0.19318022],\n",
       "       [ 0.53605359,  0.91523087],\n",
       "       [-0.19546059, -0.19318022],\n",
       "       [ 1.85277913,  1.23191976],\n",
       "       [-0.48806626, -0.98490243],\n",
       "       [-0.6343691 , -0.82655799],\n",
       "       [-0.04915775, -0.66821355],\n",
       "       [ 0.09714508,  1.70695309],\n",
       "       [ 0.24344792, -0.5098691 ],\n",
       "       [-0.04915775, -0.82655799],\n",
       "       [ 0.82865927,  0.28185311],\n",
       "       [ 0.24344792,  0.75688643],\n",
       "       [-2.24370031, -1.14324687],\n",
       "       [-0.04915775, -0.82655799],\n",
       "       [ 0.24344792, -0.35152466],\n",
       "       [ 1.56017345,  1.23191976],\n",
       "       [-0.34176343, -1.14324687],\n",
       "       [ 0.68235643, -0.03483578],\n",
       "       [ 0.38975076, -0.35152466],\n",
       "       [ 0.24344792, -0.5098691 ],\n",
       "       [-0.04915775, -0.5098691 ],\n",
       "       [-0.19546059, -0.66821355],\n",
       "       [-0.92697477, -0.19318022],\n",
       "       [-0.34176343,  0.75688643],\n",
       "       [ 0.97496211,  0.28185311],\n",
       "       [ 0.68235643, -0.03483578],\n",
       "       [-1.36588329, -0.5098691 ],\n",
       "       [ 0.68235643,  0.44019755],\n",
       "       [-0.19546059, -0.35152466],\n",
       "       [ 0.24344792,  1.3902642 ],\n",
       "       [ 0.09714508, -0.66821355],\n",
       "       [ 1.56017345,  0.91523087],\n",
       "       [-0.92697477,  0.75688643],\n",
       "       [-0.19546059,  0.44019755],\n",
       "       [-1.51218612, -0.98490243],\n",
       "       [ 1.12126494,  1.23191976],\n",
       "       [-1.51218612, -1.45993576],\n",
       "       [ 1.70647629,  1.70695309],\n",
       "       [ 0.24344792, -0.5098691 ],\n",
       "       [-1.51218612, -0.98490243],\n",
       "       [ 0.53605359, -0.19318022],\n",
       "       [-1.8047918 , -0.19318022],\n",
       "       [ 1.70647629,  2.4986753 ],\n",
       "       [ 0.38975076, -0.19318022],\n",
       "       [ 0.09714508, -0.66821355],\n",
       "       [-1.07327761, -0.5098691 ],\n",
       "       [ 0.97496211,  1.86529753],\n",
       "       [-0.04915775, -0.82655799],\n",
       "       [-0.34176343, -1.14324687],\n",
       "       [-1.21958045, -0.35152466],\n",
       "       [-0.78067194, -1.6182802 ],\n",
       "       [-1.8047918 ,  0.28185311],\n",
       "       [-0.04915775, -0.82655799],\n",
       "       [-1.51218612, -0.35152466],\n",
       "       [ 1.70647629,  1.07357532],\n",
       "       [ 0.38975076, -0.19318022],\n",
       "       [-2.68260882, -1.45993576],\n",
       "       [-0.34176343, -1.14324687],\n",
       "       [ 1.26756778,  0.59854199],\n",
       "       [ 0.09714508, -0.66821355],\n",
       "       [-0.34176343, -1.14324687],\n",
       "       [ 0.38975076, -0.35152466],\n",
       "       [-0.34176343, -0.35152466],\n",
       "       [-0.48806626, -1.30159131],\n",
       "       [ 1.26756778,  0.59854199],\n",
       "       [-0.6343691 ,  0.12350866],\n",
       "       [ 1.41387062,  0.75688643],\n",
       "       [-0.78067194, -0.98490243],\n",
       "       [ 0.24344792, -0.5098691 ],\n",
       "       [-0.34176343, -0.66821355],\n",
       "       [ 1.70647629,  1.23191976],\n",
       "       [-1.36588329, -2.25165797],\n",
       "       [-1.07327761, -0.5098691 ],\n",
       "       [-0.34176343, -0.35152466],\n",
       "       [ 0.24344792, -0.35152466],\n",
       "       [ 0.82865927,  0.75688643],\n",
       "       [ 0.68235643,  1.54860864],\n",
       "       [ 0.24344792, -0.5098691 ],\n",
       "       [-0.92697477, -0.66821355],\n",
       "       [-0.6343691 , -0.35152466],\n",
       "       [ 1.56017345,  0.91523087],\n",
       "       [ 1.41387062,  1.07357532],\n",
       "       [ 0.68235643, -0.03483578],\n",
       "       [ 0.09714508, -0.66821355],\n",
       "       [-0.48806626, -0.19318022],\n",
       "       [-1.21958045, -0.19318022],\n",
       "       [-0.34176343, -0.66821355],\n",
       "       [-0.34176343, -0.03483578],\n",
       "       [-0.92697477, -1.77662464],\n",
       "       [ 0.24344792, -0.03483578],\n",
       "       [ 1.12126494,  0.59854199],\n",
       "       [-0.92697477, -0.66821355],\n",
       "       [-0.48806626,  0.28185311],\n",
       "       [-1.65848896, -0.5098691 ],\n",
       "       [ 0.24344792, -0.5098691 ],\n",
       "       [ 0.53605359,  0.12350866],\n",
       "       [-0.48806626, -1.30159131],\n",
       "       [-0.6343691 , -1.45993576],\n",
       "       [-1.21958045, -0.19318022],\n",
       "       [ 1.56017345,  0.91523087],\n",
       "       [ 0.38975076, -0.19318022],\n",
       "       [ 0.68235643,  1.54860864],\n",
       "       [-1.21958045,  0.12350866],\n",
       "       [-0.19546059,  1.07357532],\n",
       "       [ 0.53605359,  0.28185311],\n",
       "       [ 0.38975076, -0.35152466],\n",
       "       [ 0.24344792,  1.70695309],\n",
       "       [-1.8047918 , -0.35152466],\n",
       "       [ 1.56017345,  0.91523087],\n",
       "       [-0.92697477, -1.77662464],\n",
       "       [ 0.53605359, -0.19318022],\n",
       "       [-0.19546059,  1.54860864],\n",
       "       [-0.04915775, -0.5098691 ],\n",
       "       [ 0.09714508,  0.75688643],\n",
       "       [ 0.38975076, -0.35152466],\n",
       "       [ 2.29168764,  1.70695309]])"
      ]
     },
     "execution_count": 5,
     "metadata": {},
     "output_type": "execute_result"
    }
   ],
   "source": [
    "scaler = StandardScaler().fit(selectedAttr)\n",
    "data = scaler.transform(selectedAttr)\n",
    "data"
   ]
  },
  {
   "cell_type": "markdown",
   "metadata": {},
   "source": [
    "#### 5.5  Show correlation"
   ]
  },
  {
   "cell_type": "code",
   "execution_count": 6,
   "metadata": {},
   "outputs": [
    {
     "data": {
      "text/html": [
       "<div>\n",
       "<style scoped>\n",
       "    .dataframe tbody tr th:only-of-type {\n",
       "        vertical-align: middle;\n",
       "    }\n",
       "\n",
       "    .dataframe tbody tr th {\n",
       "        vertical-align: top;\n",
       "    }\n",
       "\n",
       "    .dataframe thead th {\n",
       "        text-align: right;\n",
       "    }\n",
       "</style>\n",
       "<table border=\"1\" class=\"dataframe\">\n",
       "  <thead>\n",
       "    <tr style=\"text-align: right;\">\n",
       "      <th></th>\n",
       "      <th>overall_rating</th>\n",
       "      <th>potential</th>\n",
       "    </tr>\n",
       "  </thead>\n",
       "  <tbody>\n",
       "    <tr>\n",
       "      <th>overall_rating</th>\n",
       "      <td>1.000000</td>\n",
       "      <td>0.663993</td>\n",
       "    </tr>\n",
       "    <tr>\n",
       "      <th>potential</th>\n",
       "      <td>0.663993</td>\n",
       "      <td>1.000000</td>\n",
       "    </tr>\n",
       "  </tbody>\n",
       "</table>\n",
       "</div>"
      ],
      "text/plain": [
       "                overall_rating  potential\n",
       "overall_rating        1.000000   0.663993\n",
       "potential             0.663993   1.000000"
      ]
     },
     "execution_count": 6,
     "metadata": {},
     "output_type": "execute_result"
    }
   ],
   "source": [
    "selectedAttr.corr(method = 'pearson')"
   ]
  },
  {
   "cell_type": "code",
   "execution_count": 7,
   "metadata": {},
   "outputs": [
    {
     "data": {
      "image/png": "[encoded data removed]",
      "text/plain": [
       "<Figure size 576x432 with 1 Axes>"
      ]
     },
     "metadata": {
      "needs_background": "light"
     },
     "output_type": "display_data"
    }
   ],
   "source": [
    "plt.figure(figsize=(8, 6))\n",
    "plt.scatter(data[:,0], data[:,1])\n",
    "plt.xlabel(\"Overall Rating\")\n",
    "plt.ylabel(\"Potential\")\n",
    "plt.title(\"Player Overall Rating  vs Potential\");"
   ]
  },
  {
   "cell_type": "markdown",
   "metadata": {},
   "source": [
    "#### 5.6 Construct a density-based clustering model and extract cluster labels and outliers to plot your results"
   ]
  },
  {
   "cell_type": "code",
   "execution_count": 8,
   "metadata": {},
   "outputs": [],
   "source": [
    "db = DBSCAN(eps=0.3, min_samples=5).fit(data)\n",
    "core_samples_mask = np.zeros_like(db.labels_, dtype=bool)\n",
    "core_samples_mask[db.core_sample_indices_] = True\n",
    "labels = db.labels_"
   ]
  },
  {
   "cell_type": "code",
   "execution_count": 9,
   "metadata": {},
   "outputs": [
    {
     "data": {
      "text/plain": [
       "array([-1,  0,  1,  2,  3], dtype=int64)"
      ]
     },
     "execution_count": 9,
     "metadata": {},
     "output_type": "execute_result"
    }
   ],
   "source": [
    "n_clusters_ = np.unique(labels)\n",
    "n_clusters_"
   ]
  },
  {
   "cell_type": "code",
   "execution_count": 10,
   "metadata": {
    "scrolled": true
   },
   "outputs": [
    {
     "data": {
      "text/plain": [
       "array([[0.61960784, 0.00392157, 0.25882353, 1.        ],\n",
       "       [0.97485582, 0.557401  , 0.32272203, 1.        ],\n",
       "       [0.99807766, 0.99923106, 0.74602076, 1.        ],\n",
       "       [0.52733564, 0.8106113 , 0.64521338, 1.        ],\n",
       "       [0.36862745, 0.30980392, 0.63529412, 1.        ]])"
      ]
     },
     "execution_count": 10,
     "metadata": {},
     "output_type": "execute_result"
    }
   ],
   "source": [
    "colors = plt.cm.Spectral(np.linspace(0,1, len(n_clusters_)))\n",
    "colors"
   ]
  },
  {
   "cell_type": "markdown",
   "metadata": {},
   "source": [
    "#### 5.6.1 Density-based spatial clustering of applications with noise (DBSCAN)"
   ]
  },
  {
   "cell_type": "code",
   "execution_count": 11,
   "metadata": {
    "scrolled": false
   },
   "outputs": [
    {
     "data": {
      "image/png": "[encoded data removed]",
      "text/plain": [
       "<Figure size 576x432 with 1 Axes>"
      ]
     },
     "metadata": {
      "needs_background": "light"
     },
     "output_type": "display_data"
    }
   ],
   "source": [
    "plt.figure(figsize=(8, 6))\n",
    "for (label, color) in zip(n_clusters_, colors):\n",
    "    if label == -1: \n",
    "        # White used for noise. \n",
    "        color = 'white'\n",
    "        \n",
    "    class_member_mask = (labels == label)\n",
    "    xy = data[class_member_mask & core_samples_mask]\n",
    "    plt.plot(xy[:,0],xy[:,1], 'o', markerfacecolor = color, \n",
    "                                   markersize = 6,                 \n",
    "                                   markeredgecolor='k')\n",
    "    \n",
    "    xy2 = data[class_member_mask & ~core_samples_mask]\n",
    "    plt.plot(xy2[:,0],xy2[:,1], 'o', markerfacecolor = color, \n",
    "                                     markersize = 6,                \n",
    "                                     markeredgecolor='k')\n",
    "    \n",
    "plt.title(\"DBSCAN on Player Overall Rating & Potential\")\n",
    "plt.xlabel(\"Overall Rating (scaled)\")\n",
    "plt.ylabel(\"Potential (scaled)\");"
   ]
  },
  {
   "cell_type": "markdown",
   "metadata": {},
   "source": [
    "#### 5.6.2 K-means Clustering"
   ]
  },
  {
   "cell_type": "code",
   "execution_count": 12,
   "metadata": {},
   "outputs": [],
   "source": [
    "kmeans = KMeans(n_clusters = 3).fit(data)\n",
    "labels_kmeans = kmeans.labels_\n",
    "centroids = kmeans.cluster_centers_"
   ]
  },
  {
   "cell_type": "code",
   "execution_count": 13,
   "metadata": {
    "scrolled": false
   },
   "outputs": [
    {
     "data": {
      "image/png": "[encoded data removed]",
      "text/plain": [
       "<Figure size 576x432 with 1 Axes>"
      ]
     },
     "metadata": {
      "needs_background": "light"
     },
     "output_type": "display_data"
    }
   ],
   "source": [
    "plt.figure(figsize=(8, 6))\n",
    "plt.scatter(data[:,0], data[:,1], c = labels_kmeans)\n",
    "plt.scatter(centroids[:,0], centroids[:,1], c = ['red',\"gold\", \"blue\"], s = 60 );"
   ]
  },
  {
   "cell_type": "markdown",
   "metadata": {},
   "source": [
    "## References\n",
    "- [DBSCAN Clustering in ML | Density based clustering](https://www.geeksforgeeks.org/dbscan-clustering-in-ml-density-based-clustering/)\n",
    "- [Clustering Code Implementation](https://app.dominodatalab.com/u/LeJit/Clustering/view/Clustering.ipynb)\n",
    "- [Understanding Density-based Clustering](https://www.kdnuggets.com/2020/02/understanding-density-based-clustering.html)\n",
    "- [K-Means vs. DBSCAN Clustering — For Beginners](https://towardsdatascience.com/k-means-vs-dbscan-clustering-49f8e627de27)\n",
    "- [KMeans vs. DBScan](https://medium.com/@soroushhashemifar/kmeans-vs-dbscan-d9d5f9dbee8b#:~:text=Density%20clustering%20algorithms%20use%20the,to%20find%2C%20which%20KMeans%20needs.&text=DBSCAN%20produces%20a%20varying%20number,based%20on%20the%20input%20data.)"
   ]
  },
  {
   "cell_type": "code",
   "execution_count": null,
   "metadata": {},
   "outputs": [],
   "source": []
  }
 ],
 "metadata": {
  "kernelspec": {
   "display_name": "Python 3",
   "language": "python",
   "name": "python3"
  },
  "language_info": {
   "codemirror_mode": {
    "name": "ipython",
    "version": 3
   },
   "file_extension": ".py",
   "mimetype": "text/x-python",
   "name": "python",
   "nbconvert_exporter": "python",
   "pygments_lexer": "ipython3",
   "version": "3.7.5"
  }
 },
 "nbformat": 4,
 "nbformat_minor": 4
}
