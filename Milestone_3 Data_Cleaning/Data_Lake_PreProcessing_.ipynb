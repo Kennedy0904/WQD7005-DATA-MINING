{
 "cells": [
  {
   "cell_type": "code",
   "execution_count": 1,
   "metadata": {},
   "outputs": [],
   "source": [
    "# Import library\n",
    "import pandas as pd\n",
    "import numpy as np\n",
    "import pymongo\n",
    "import json\n",
    "import datetime\n",
    "import nltk\n",
    "from nltk.corpus import stopwords\n",
    "from nltk.tokenize import word_tokenize\n",
    "import string\n",
    "import re"
   ]
  },
  {
   "cell_type": "code",
   "execution_count": 2,
   "metadata": {},
   "outputs": [],
   "source": [
    "# Load json data into dataframe (read directly from Mongodb)\n",
    "# Declare MONGODB Instance (localhost)\n",
    "mongo_client = pymongo.MongoClient('mongodb://127.0.0.1:27017/')\n",
    "mongo_db = mongo_client['myDB']\n",
    "mongo_collection = mongo_db['Twitter_Data']\n",
    "\n",
    "# Read all data into pandas dataframe\n",
    "df = pd.DataFrame(list(mongo_collection.find()))"
   ]
  },
  {
   "cell_type": "code",
   "execution_count": 3,
   "metadata": {},
   "outputs": [
    {
     "data": {
      "text/plain": [
       "(1459, 9)"
      ]
     },
     "execution_count": 3,
     "metadata": {},
     "output_type": "execute_result"
    }
   ],
   "source": [
    "df.shape"
   ]
  },
  {
   "cell_type": "code",
   "execution_count": 4,
   "metadata": {},
   "outputs": [
    {
     "data": {
      "text/html": [
       "<div>\n",
       "<style scoped>\n",
       "    .dataframe tbody tr th:only-of-type {\n",
       "        vertical-align: middle;\n",
       "    }\n",
       "\n",
       "    .dataframe tbody tr th {\n",
       "        vertical-align: top;\n",
       "    }\n",
       "\n",
       "    .dataframe thead th {\n",
       "        text-align: right;\n",
       "    }\n",
       "</style>\n",
       "<table border=\"1\" class=\"dataframe\">\n",
       "  <thead>\n",
       "    <tr style=\"text-align: right;\">\n",
       "      <th></th>\n",
       "      <th>_id</th>\n",
       "      <th>created_at</th>\n",
       "      <th>id</th>\n",
       "      <th>screen_name:</th>\n",
       "      <th>lang</th>\n",
       "      <th>is_quote_status</th>\n",
       "      <th>is_retweet_status</th>\n",
       "      <th>full_text</th>\n",
       "      <th>quote_text</th>\n",
       "    </tr>\n",
       "  </thead>\n",
       "  <tbody>\n",
       "    <tr>\n",
       "      <th>0</th>\n",
       "      <td>5ebe3bd2403dbfa81a78369a</td>\n",
       "      <td>2020-05-15 06:50:51</td>\n",
       "      <td>1261187267852451840</td>\n",
       "      <td>FalconhunterNRA</td>\n",
       "      <td>en</td>\n",
       "      <td>False</td>\n",
       "      <td>True</td>\n",
       "      <td>ICYMI: #FLYNNATTORNEY: Entrapment Plan Orchest...</td>\n",
       "      <td></td>\n",
       "    </tr>\n",
       "    <tr>\n",
       "      <th>1</th>\n",
       "      <td>5ebe3bd6403dbfa81a78369b</td>\n",
       "      <td>2020-05-15 06:50:54</td>\n",
       "      <td>1261187283530788867</td>\n",
       "      <td>RafaelGarciaLAF</td>\n",
       "      <td>es</td>\n",
       "      <td>False</td>\n",
       "      <td>True</td>\n",
       "      <td>#Trump dice que los médicos y enfermeras \"corr...</td>\n",
       "      <td></td>\n",
       "    </tr>\n",
       "    <tr>\n",
       "      <th>2</th>\n",
       "      <td>5ebe3bdc403dbfa81a78369c</td>\n",
       "      <td>2020-05-15 06:51:00</td>\n",
       "      <td>1261187309204103168</td>\n",
       "      <td>ZA1194</td>\n",
       "      <td>en</td>\n",
       "      <td>False</td>\n",
       "      <td>False</td>\n",
       "      <td>@Neganwillclocku @AngelaBelcamino @realDonaldT...</td>\n",
       "      <td></td>\n",
       "    </tr>\n",
       "    <tr>\n",
       "      <th>3</th>\n",
       "      <td>5ebe3bdd403dbfa81a78369d</td>\n",
       "      <td>2020-05-15 06:51:01</td>\n",
       "      <td>1261187312005926913</td>\n",
       "      <td>gary_burch</td>\n",
       "      <td>en</td>\n",
       "      <td>False</td>\n",
       "      <td>True</td>\n",
       "      <td>When this pandemic is all over, the four count...</td>\n",
       "      <td></td>\n",
       "    </tr>\n",
       "    <tr>\n",
       "      <th>4</th>\n",
       "      <td>5ebe3bdd403dbfa81a78369e</td>\n",
       "      <td>2020-05-15 06:51:01</td>\n",
       "      <td>1261187312429314048</td>\n",
       "      <td>Praveenkumarur3</td>\n",
       "      <td>hi</td>\n",
       "      <td>False</td>\n",
       "      <td>False</td>\n",
       "      <td>500 अरब डॉलर की बचत होगी.'' ट्रंप ने चीन से सा...</td>\n",
       "      <td></td>\n",
       "    </tr>\n",
       "  </tbody>\n",
       "</table>\n",
       "</div>"
      ],
      "text/plain": [
       "                        _id          created_at                   id  \\\n",
       "0  5ebe3bd2403dbfa81a78369a 2020-05-15 06:50:51  1261187267852451840   \n",
       "1  5ebe3bd6403dbfa81a78369b 2020-05-15 06:50:54  1261187283530788867   \n",
       "2  5ebe3bdc403dbfa81a78369c 2020-05-15 06:51:00  1261187309204103168   \n",
       "3  5ebe3bdd403dbfa81a78369d 2020-05-15 06:51:01  1261187312005926913   \n",
       "4  5ebe3bdd403dbfa81a78369e 2020-05-15 06:51:01  1261187312429314048   \n",
       "\n",
       "      screen_name: lang  is_quote_status  is_retweet_status  \\\n",
       "0  FalconhunterNRA   en            False               True   \n",
       "1  RafaelGarciaLAF   es            False               True   \n",
       "2           ZA1194   en            False              False   \n",
       "3       gary_burch   en            False               True   \n",
       "4  Praveenkumarur3   hi            False              False   \n",
       "\n",
       "                                           full_text quote_text  \n",
       "0  ICYMI: #FLYNNATTORNEY: Entrapment Plan Orchest...             \n",
       "1  #Trump dice que los médicos y enfermeras \"corr...             \n",
       "2  @Neganwillclocku @AngelaBelcamino @realDonaldT...             \n",
       "3  When this pandemic is all over, the four count...             \n",
       "4  500 अरब डॉलर की बचत होगी.'' ट्रंप ने चीन से सा...             "
      ]
     },
     "execution_count": 4,
     "metadata": {},
     "output_type": "execute_result"
    }
   ],
   "source": [
    "df.head()"
   ]
  },
  {
   "cell_type": "markdown",
   "metadata": {},
   "source": [
    "### Things to clean:\n",
    "- Checking any missing/ duplicated value\n",
    "- Extract data from json object inside cell for columns `_id`, `created_at`, `id`\n",
    "- Rename columns\n",
    "\n",
    "### Text cleaning:\n",
    "- For `full_text`, `quote_text` column, text preprocessing is required for sentiment analysis\n",
    "- Convert to lowercase, remove noise and stopword, tokenization"
   ]
  },
  {
   "cell_type": "markdown",
   "metadata": {},
   "source": [
    "Before data cleaning, create another copy of dataframe."
   ]
  },
  {
   "cell_type": "code",
   "execution_count": 5,
   "metadata": {},
   "outputs": [],
   "source": [
    "df_clean = df.copy()"
   ]
  },
  {
   "cell_type": "markdown",
   "metadata": {},
   "source": [
    "#### Checking missing value"
   ]
  },
  {
   "cell_type": "code",
   "execution_count": 6,
   "metadata": {},
   "outputs": [
    {
     "data": {
      "text/plain": [
       "_id                  0\n",
       "created_at           0\n",
       "id                   0\n",
       "screen_name:         0\n",
       "lang                 0\n",
       "is_quote_status      0\n",
       "is_retweet_status    0\n",
       "full_text            0\n",
       "quote_text           0\n",
       "dtype: int64"
      ]
     },
     "execution_count": 6,
     "metadata": {},
     "output_type": "execute_result"
    }
   ],
   "source": [
    "# Checking missing value\n",
    "df_clean.isnull().sum()"
   ]
  },
  {
   "cell_type": "markdown",
   "metadata": {},
   "source": [
    "No missing value is found."
   ]
  },
  {
   "cell_type": "markdown",
   "metadata": {},
   "source": [
    "#### Checking duplicated value"
   ]
  },
  {
   "cell_type": "code",
   "execution_count": 7,
   "metadata": {
    "scrolled": true
   },
   "outputs": [
    {
     "data": {
      "text/plain": [
       "0"
      ]
     },
     "execution_count": 7,
     "metadata": {},
     "output_type": "execute_result"
    }
   ],
   "source": [
    "# Checking duplicated value\n",
    "df_clean.duplicated().sum()"
   ]
  },
  {
   "cell_type": "markdown",
   "metadata": {},
   "source": [
    "No duplicate row is found."
   ]
  },
  {
   "cell_type": "code",
   "execution_count": 8,
   "metadata": {
    "scrolled": true
   },
   "outputs": [
    {
     "name": "stdout",
     "output_type": "stream",
     "text": [
      "<class 'pandas.core.frame.DataFrame'>\n",
      "RangeIndex: 1459 entries, 0 to 1458\n",
      "Data columns (total 9 columns):\n",
      " #   Column             Non-Null Count  Dtype         \n",
      "---  ------             --------------  -----         \n",
      " 0   _id                1459 non-null   object        \n",
      " 1   created_at         1459 non-null   datetime64[ns]\n",
      " 2   id                 1459 non-null   int64         \n",
      " 3   screen_name:       1459 non-null   object        \n",
      " 4   lang               1459 non-null   object        \n",
      " 5   is_quote_status    1459 non-null   bool          \n",
      " 6   is_retweet_status  1459 non-null   bool          \n",
      " 7   full_text          1459 non-null   object        \n",
      " 8   quote_text         1459 non-null   object        \n",
      "dtypes: bool(2), datetime64[ns](1), int64(1), object(5)\n",
      "memory usage: 82.8+ KB\n"
     ]
    }
   ],
   "source": [
    "# Dataset info\n",
    "df_clean.info()"
   ]
  },
  {
   "cell_type": "markdown",
   "metadata": {},
   "source": [
    "#### Drop Columns\n",
    "`_id` is id from mongo database, thus, it is not required in this project and could be dropped."
   ]
  },
  {
   "cell_type": "code",
   "execution_count": 9,
   "metadata": {},
   "outputs": [],
   "source": [
    "df_clean.drop('_id', axis =1, inplace =True)"
   ]
  },
  {
   "cell_type": "markdown",
   "metadata": {},
   "source": [
    "#### Rename Columns\n",
    "- Change `id` to `user_id`  \n",
    "- Change `screen_name:` to `username`\n",
    "- Change `lang` to `language`"
   ]
  },
  {
   "cell_type": "code",
   "execution_count": 10,
   "metadata": {},
   "outputs": [],
   "source": [
    "df_clean.rename(columns = {'id':'user_id', 'screen_name:':'username', 'lang':'language'}, inplace = True)"
   ]
  },
  {
   "cell_type": "code",
   "execution_count": 11,
   "metadata": {},
   "outputs": [
    {
     "data": {
      "text/html": [
       "<div>\n",
       "<style scoped>\n",
       "    .dataframe tbody tr th:only-of-type {\n",
       "        vertical-align: middle;\n",
       "    }\n",
       "\n",
       "    .dataframe tbody tr th {\n",
       "        vertical-align: top;\n",
       "    }\n",
       "\n",
       "    .dataframe thead th {\n",
       "        text-align: right;\n",
       "    }\n",
       "</style>\n",
       "<table border=\"1\" class=\"dataframe\">\n",
       "  <thead>\n",
       "    <tr style=\"text-align: right;\">\n",
       "      <th></th>\n",
       "      <th>created_at</th>\n",
       "      <th>user_id</th>\n",
       "      <th>username</th>\n",
       "      <th>language</th>\n",
       "      <th>is_quote_status</th>\n",
       "      <th>is_retweet_status</th>\n",
       "      <th>full_text</th>\n",
       "      <th>quote_text</th>\n",
       "    </tr>\n",
       "  </thead>\n",
       "  <tbody>\n",
       "    <tr>\n",
       "      <th>1262</th>\n",
       "      <td>2020-05-15 07:43:24</td>\n",
       "      <td>1261200494602715136</td>\n",
       "      <td>moonbreeze2</td>\n",
       "      <td>en</td>\n",
       "      <td>False</td>\n",
       "      <td>False</td>\n",
       "      <td>Senate Majority Leader Mitch McConnell, #Repub...</td>\n",
       "      <td></td>\n",
       "    </tr>\n",
       "    <tr>\n",
       "      <th>1369</th>\n",
       "      <td>2020-05-15 07:48:46</td>\n",
       "      <td>1261201844816281600</td>\n",
       "      <td>KI4FDW</td>\n",
       "      <td>en</td>\n",
       "      <td>False</td>\n",
       "      <td>True</td>\n",
       "      <td>@danielhoffmanDC @GillianHTurner @AngelHe33778...</td>\n",
       "      <td></td>\n",
       "    </tr>\n",
       "    <tr>\n",
       "      <th>1020</th>\n",
       "      <td>2020-05-15 07:33:31</td>\n",
       "      <td>1261198009166999553</td>\n",
       "      <td>fortruthssake2</td>\n",
       "      <td>en</td>\n",
       "      <td>False</td>\n",
       "      <td>True</td>\n",
       "      <td>What scares me most is when @JoeBiden crushes ...</td>\n",
       "      <td></td>\n",
       "    </tr>\n",
       "    <tr>\n",
       "      <th>570</th>\n",
       "      <td>2020-05-15 07:12:07</td>\n",
       "      <td>1261192620107345922</td>\n",
       "      <td>rgoswami2326</td>\n",
       "      <td>en</td>\n",
       "      <td>False</td>\n",
       "      <td>False</td>\n",
       "      <td>The whole world is crying right now\\nCan't the...</td>\n",
       "      <td></td>\n",
       "    </tr>\n",
       "    <tr>\n",
       "      <th>990</th>\n",
       "      <td>2020-05-15 07:32:27</td>\n",
       "      <td>1261197738240180224</td>\n",
       "      <td>redirectloop</td>\n",
       "      <td>en</td>\n",
       "      <td>False</td>\n",
       "      <td>False</td>\n",
       "      <td>@NathanJRobinson You clearly have energy to sp...</td>\n",
       "      <td></td>\n",
       "    </tr>\n",
       "    <tr>\n",
       "      <th>705</th>\n",
       "      <td>2020-05-15 07:18:06</td>\n",
       "      <td>1261194125635997696</td>\n",
       "      <td>NoNameCimBom</td>\n",
       "      <td>de</td>\n",
       "      <td>False</td>\n",
       "      <td>False</td>\n",
       "      <td>@tagesschau Und der Caesar #Trump entscheidet ...</td>\n",
       "      <td></td>\n",
       "    </tr>\n",
       "    <tr>\n",
       "      <th>1200</th>\n",
       "      <td>2020-05-15 07:40:18</td>\n",
       "      <td>1261199712784351232</td>\n",
       "      <td>Itsme81977221</td>\n",
       "      <td>nl</td>\n",
       "      <td>False</td>\n",
       "      <td>True</td>\n",
       "      <td>Als #trump geld stopt voor #who gilt heel #lin...</td>\n",
       "      <td></td>\n",
       "    </tr>\n",
       "    <tr>\n",
       "      <th>622</th>\n",
       "      <td>2020-05-15 07:13:57</td>\n",
       "      <td>1261193081220726785</td>\n",
       "      <td>GilbertNutier</td>\n",
       "      <td>fr</td>\n",
       "      <td>False</td>\n",
       "      <td>False</td>\n",
       "      <td>Coronavirus. Trump se dit déçu par la Chine et...</td>\n",
       "      <td></td>\n",
       "    </tr>\n",
       "    <tr>\n",
       "      <th>595</th>\n",
       "      <td>2020-05-15 07:12:55</td>\n",
       "      <td>1261192822209892352</td>\n",
       "      <td>Helle_____</td>\n",
       "      <td>und</td>\n",
       "      <td>False</td>\n",
       "      <td>False</td>\n",
       "      <td>#Trump #obamagate \\n\\nhttps://t.co/K5RfgcBnh4</td>\n",
       "      <td></td>\n",
       "    </tr>\n",
       "    <tr>\n",
       "      <th>39</th>\n",
       "      <td>2020-05-15 06:52:06</td>\n",
       "      <td>1261187586451746816</td>\n",
       "      <td>bitcoinconnect</td>\n",
       "      <td>en</td>\n",
       "      <td>False</td>\n",
       "      <td>False</td>\n",
       "      <td>Guardian Life Names Margherita L. DiManni Depu...</td>\n",
       "      <td></td>\n",
       "    </tr>\n",
       "  </tbody>\n",
       "</table>\n",
       "</div>"
      ],
      "text/plain": [
       "              created_at              user_id        username language  \\\n",
       "1262 2020-05-15 07:43:24  1261200494602715136     moonbreeze2       en   \n",
       "1369 2020-05-15 07:48:46  1261201844816281600          KI4FDW       en   \n",
       "1020 2020-05-15 07:33:31  1261198009166999553  fortruthssake2       en   \n",
       "570  2020-05-15 07:12:07  1261192620107345922    rgoswami2326       en   \n",
       "990  2020-05-15 07:32:27  1261197738240180224    redirectloop       en   \n",
       "705  2020-05-15 07:18:06  1261194125635997696    NoNameCimBom       de   \n",
       "1200 2020-05-15 07:40:18  1261199712784351232   Itsme81977221       nl   \n",
       "622  2020-05-15 07:13:57  1261193081220726785   GilbertNutier       fr   \n",
       "595  2020-05-15 07:12:55  1261192822209892352      Helle_____      und   \n",
       "39   2020-05-15 06:52:06  1261187586451746816  bitcoinconnect       en   \n",
       "\n",
       "      is_quote_status  is_retweet_status  \\\n",
       "1262            False              False   \n",
       "1369            False               True   \n",
       "1020            False               True   \n",
       "570             False              False   \n",
       "990             False              False   \n",
       "705             False              False   \n",
       "1200            False               True   \n",
       "622             False              False   \n",
       "595             False              False   \n",
       "39              False              False   \n",
       "\n",
       "                                              full_text quote_text  \n",
       "1262  Senate Majority Leader Mitch McConnell, #Repub...             \n",
       "1369  @danielhoffmanDC @GillianHTurner @AngelHe33778...             \n",
       "1020  What scares me most is when @JoeBiden crushes ...             \n",
       "570   The whole world is crying right now\\nCan't the...             \n",
       "990   @NathanJRobinson You clearly have energy to sp...             \n",
       "705   @tagesschau Und der Caesar #Trump entscheidet ...             \n",
       "1200  Als #trump geld stopt voor #who gilt heel #lin...             \n",
       "622   Coronavirus. Trump se dit déçu par la Chine et...             \n",
       "595       #Trump #obamagate \\n\\nhttps://t.co/K5RfgcBnh4             \n",
       "39    Guardian Life Names Margherita L. DiManni Depu...             "
      ]
     },
     "execution_count": 11,
     "metadata": {},
     "output_type": "execute_result"
    }
   ],
   "source": [
    "df_clean.sample(10)"
   ]
  },
  {
   "cell_type": "markdown",
   "metadata": {},
   "source": [
    "#### Define Data Cleaning Functions\n",
    "For tweet cleaning, may refer [here](https://towardsdatascience.com/extracting-twitter-data-pre-processing-and-sentiment-analysis-using-python-3-0-7192bd8b47cf)."
   ]
  },
  {
   "cell_type": "code",
   "execution_count": 12,
   "metadata": {},
   "outputs": [],
   "source": [
    "# Convert all characters to lowercase\n",
    "def to_lowercase(text):\n",
    "    text  = text.lower()\n",
    "    return text"
   ]
  },
  {
   "cell_type": "code",
   "execution_count": 13,
   "metadata": {},
   "outputs": [],
   "source": [
    "#Emoji patterns\n",
    "emoji_pattern = re.compile(\"[\"\n",
    "         u\"\\U0001F600-\\U0001F64F\"  # emoticons\n",
    "         u\"\\U0001F300-\\U0001F5FF\"  # symbols & pictographs\n",
    "         u\"\\U0001F680-\\U0001F6FF\"  # transport & map symbols\n",
    "         u\"\\U0001F1E0-\\U0001F1FF\"  # flags (iOS)\n",
    "         u\"\\U00002702-\\U000027B0\"\n",
    "         u\"\\U000024C2-\\U0001F251\"\n",
    "         \"]+\", flags=re.UNICODE)"
   ]
  },
  {
   "cell_type": "code",
   "execution_count": 14,
   "metadata": {},
   "outputs": [],
   "source": [
    "# Remove Emoji\n",
    "def remove_emoji(text):\n",
    "    text = emoji_pattern.sub(r'', text)\n",
    "    return text"
   ]
  },
  {
   "cell_type": "code",
   "execution_count": 15,
   "metadata": {},
   "outputs": [],
   "source": [
    "# Remove Mentions\n",
    "def remove_mention(text):\n",
    "    text = re.sub(r'@[A-Za-z0-9]+', '', text)\n",
    "    return text"
   ]
  },
  {
   "cell_type": "code",
   "execution_count": 16,
   "metadata": {},
   "outputs": [],
   "source": [
    "# Remove Hashtag\n",
    "def remove_hashtag(text):\n",
    "    text = re.sub(r'#\\w+', '', text)\n",
    "    return text"
   ]
  },
  {
   "cell_type": "code",
   "execution_count": 17,
   "metadata": {},
   "outputs": [],
   "source": [
    "# Remove URL\n",
    "def remove_url(text):\n",
    "    text = re.sub(r'\\b(?:(?:https?|ftp)://)?\\w[\\w-]*(?:\\.[\\w-]+)+\\S*', ' ', text)\n",
    "    return text"
   ]
  },
  {
   "cell_type": "code",
   "execution_count": 18,
   "metadata": {},
   "outputs": [],
   "source": [
    "# Replace consecutive non-ASCII characters with a space\n",
    "def replace_nonASCII(text):\n",
    "    text = re.sub(r'[^\\x00-\\x7F]+',' ', text)\n",
    "    return text"
   ]
  },
  {
   "cell_type": "code",
   "execution_count": 19,
   "metadata": {},
   "outputs": [],
   "source": [
    "# Remove punctuation\n",
    "def remove_punct(text):\n",
    "    text  = \"\".join([char for char in text if char not in string.punctuation])\n",
    "    text = re.sub('[0-9]+', '', text)\n",
    "    return text"
   ]
  },
  {
   "cell_type": "code",
   "execution_count": 20,
   "metadata": {},
   "outputs": [],
   "source": [
    "# Remove stopwords\n",
    "stopwordsList = set(stopwords.words('english')) \n",
    "def remove_stopwords(text):\n",
    "    text = [word for word in text if word not in stopwordsList]\n",
    "    return text"
   ]
  },
  {
   "cell_type": "code",
   "execution_count": 21,
   "metadata": {},
   "outputs": [],
   "source": [
    "# Tokenize words\n",
    "def tokenize(text):\n",
    "    word_tokens = word_tokenize(text)\n",
    "    return word_tokens"
   ]
  },
  {
   "cell_type": "code",
   "execution_count": 22,
   "metadata": {},
   "outputs": [],
   "source": [
    "# Combine all the functions\n",
    "def datapreprocessing(review):\n",
    "    \n",
    "    # Convert the text into lowercase\n",
    "    review = to_lowercase(review)\n",
    "    \n",
    "    # Clean tweet\n",
    "    review = remove_mention(review)\n",
    "    review = remove_url(review)\n",
    "    review = remove_hashtag(review)\n",
    "    review = remove_emoji(review)\n",
    "    review = replace_nonASCII(review)\n",
    "        \n",
    "    # Remove punctuation\n",
    "    review = remove_punct(review)\n",
    "    \n",
    "    # Tokenization\n",
    "    review = word_tokenize(review)\n",
    "    \n",
    "    # Remove stopwords\n",
    "    review = remove_stopwords(review)\n",
    "    \n",
    "    #return review\n",
    "    return \" \".join(review)"
   ]
  },
  {
   "cell_type": "markdown",
   "metadata": {},
   "source": [
    "Before text preprocessing, we would like to remain all the text in **English** only."
   ]
  },
  {
   "cell_type": "code",
   "execution_count": 23,
   "metadata": {},
   "outputs": [],
   "source": [
    "df_clean = df_clean.loc[df_clean['language'] == 'en']"
   ]
  },
  {
   "cell_type": "code",
   "execution_count": 24,
   "metadata": {},
   "outputs": [],
   "source": [
    "cols = ['full_text', 'quote_text']\n",
    "\n",
    "for c in cols:\n",
    "    df_clean[c] = df_clean[c].apply(lambda x: datapreprocessing(x))"
   ]
  },
  {
   "cell_type": "code",
   "execution_count": 25,
   "metadata": {
    "scrolled": true
   },
   "outputs": [
    {
     "data": {
      "text/html": [
       "<div>\n",
       "<style scoped>\n",
       "    .dataframe tbody tr th:only-of-type {\n",
       "        vertical-align: middle;\n",
       "    }\n",
       "\n",
       "    .dataframe tbody tr th {\n",
       "        vertical-align: top;\n",
       "    }\n",
       "\n",
       "    .dataframe thead th {\n",
       "        text-align: right;\n",
       "    }\n",
       "</style>\n",
       "<table border=\"1\" class=\"dataframe\">\n",
       "  <thead>\n",
       "    <tr style=\"text-align: right;\">\n",
       "      <th></th>\n",
       "      <th>created_at</th>\n",
       "      <th>user_id</th>\n",
       "      <th>username</th>\n",
       "      <th>language</th>\n",
       "      <th>is_quote_status</th>\n",
       "      <th>is_retweet_status</th>\n",
       "      <th>full_text</th>\n",
       "      <th>quote_text</th>\n",
       "    </tr>\n",
       "  </thead>\n",
       "  <tbody>\n",
       "    <tr>\n",
       "      <th>1168</th>\n",
       "      <td>2020-05-15 07:38:36</td>\n",
       "      <td>1261199288069058560</td>\n",
       "      <td>jeeennze</td>\n",
       "      <td>en</td>\n",
       "      <td>False</td>\n",
       "      <td>True</td>\n",
       "      <td>make mistake apologistoperative temporarily ma...</td>\n",
       "      <td></td>\n",
       "    </tr>\n",
       "    <tr>\n",
       "      <th>470</th>\n",
       "      <td>2020-05-15 07:08:06</td>\n",
       "      <td>1261191610777440256</td>\n",
       "      <td>Jamal_Engel</td>\n",
       "      <td>en</td>\n",
       "      <td>True</td>\n",
       "      <td>False</td>\n",
       "      <td>justice coming</td>\n",
       "      <td></td>\n",
       "    </tr>\n",
       "    <tr>\n",
       "      <th>1300</th>\n",
       "      <td>2020-05-15 07:45:23</td>\n",
       "      <td>1261200993171025921</td>\n",
       "      <td>calendarking</td>\n",
       "      <td>en</td>\n",
       "      <td>True</td>\n",
       "      <td>False</td>\n",
       "      <td>huge concern</td>\n",
       "      <td>scares crushes november rd much damage cause d...</td>\n",
       "    </tr>\n",
       "    <tr>\n",
       "      <th>163</th>\n",
       "      <td>2020-05-15 06:56:53</td>\n",
       "      <td>1261188788287496192</td>\n",
       "      <td>rich5819</td>\n",
       "      <td>en</td>\n",
       "      <td>False</td>\n",
       "      <td>True</td>\n",
       "      <td></td>\n",
       "      <td></td>\n",
       "    </tr>\n",
       "    <tr>\n",
       "      <th>10</th>\n",
       "      <td>2020-05-15 06:51:09</td>\n",
       "      <td>1261187344499179521</td>\n",
       "      <td>BT_India</td>\n",
       "      <td>en</td>\n",
       "      <td>False</td>\n",
       "      <td>False</td>\n",
       "      <td>listen india news podcast</td>\n",
       "      <td></td>\n",
       "    </tr>\n",
       "    <tr>\n",
       "      <th>619</th>\n",
       "      <td>2020-05-15 07:13:55</td>\n",
       "      <td>1261193076124651522</td>\n",
       "      <td>chiamaluca</td>\n",
       "      <td>en</td>\n",
       "      <td>False</td>\n",
       "      <td>False</td>\n",
       "      <td>dumb portion us population could convince peop...</td>\n",
       "      <td></td>\n",
       "    </tr>\n",
       "    <tr>\n",
       "      <th>116</th>\n",
       "      <td>2020-05-15 06:54:43</td>\n",
       "      <td>1261188241212026880</td>\n",
       "      <td>PaintTheCityBl1</td>\n",
       "      <td>en</td>\n",
       "      <td>False</td>\n",
       "      <td>True</td>\n",
       "      <td>one president united states guess one</td>\n",
       "      <td></td>\n",
       "    </tr>\n",
       "    <tr>\n",
       "      <th>169</th>\n",
       "      <td>2020-05-15 06:57:00</td>\n",
       "      <td>1261188817517776896</td>\n",
       "      <td>nancy18097436</td>\n",
       "      <td>en</td>\n",
       "      <td>False</td>\n",
       "      <td>True</td>\n",
       "      <td>president calls former president questioned oa...</td>\n",
       "      <td></td>\n",
       "    </tr>\n",
       "    <tr>\n",
       "      <th>820</th>\n",
       "      <td>2020-05-15 07:24:09</td>\n",
       "      <td>1261195648805658624</td>\n",
       "      <td>yojudenz</td>\n",
       "      <td>en</td>\n",
       "      <td>True</td>\n",
       "      <td>True</td>\n",
       "      <td>needs investigated asap people losing lives vi...</td>\n",
       "      <td>kube fkennnedy et rush look</td>\n",
       "    </tr>\n",
       "    <tr>\n",
       "      <th>39</th>\n",
       "      <td>2020-05-15 06:52:06</td>\n",
       "      <td>1261187586451746816</td>\n",
       "      <td>bitcoinconnect</td>\n",
       "      <td>en</td>\n",
       "      <td>False</td>\n",
       "      <td>False</td>\n",
       "      <td>guardian life names margherita l dimanni deput...</td>\n",
       "      <td></td>\n",
       "    </tr>\n",
       "  </tbody>\n",
       "</table>\n",
       "</div>"
      ],
      "text/plain": [
       "              created_at              user_id         username language  \\\n",
       "1168 2020-05-15 07:38:36  1261199288069058560         jeeennze       en   \n",
       "470  2020-05-15 07:08:06  1261191610777440256      Jamal_Engel       en   \n",
       "1300 2020-05-15 07:45:23  1261200993171025921     calendarking       en   \n",
       "163  2020-05-15 06:56:53  1261188788287496192         rich5819       en   \n",
       "10   2020-05-15 06:51:09  1261187344499179521         BT_India       en   \n",
       "619  2020-05-15 07:13:55  1261193076124651522       chiamaluca       en   \n",
       "116  2020-05-15 06:54:43  1261188241212026880  PaintTheCityBl1       en   \n",
       "169  2020-05-15 06:57:00  1261188817517776896    nancy18097436       en   \n",
       "820  2020-05-15 07:24:09  1261195648805658624         yojudenz       en   \n",
       "39   2020-05-15 06:52:06  1261187586451746816   bitcoinconnect       en   \n",
       "\n",
       "      is_quote_status  is_retweet_status  \\\n",
       "1168            False               True   \n",
       "470              True              False   \n",
       "1300             True              False   \n",
       "163             False               True   \n",
       "10              False              False   \n",
       "619             False              False   \n",
       "116             False               True   \n",
       "169             False               True   \n",
       "820              True               True   \n",
       "39              False              False   \n",
       "\n",
       "                                              full_text  \\\n",
       "1168  make mistake apologistoperative temporarily ma...   \n",
       "470                                      justice coming   \n",
       "1300                                       huge concern   \n",
       "163                                                       \n",
       "10                            listen india news podcast   \n",
       "619   dumb portion us population could convince peop...   \n",
       "116               one president united states guess one   \n",
       "169   president calls former president questioned oa...   \n",
       "820   needs investigated asap people losing lives vi...   \n",
       "39    guardian life names margherita l dimanni deput...   \n",
       "\n",
       "                                             quote_text  \n",
       "1168                                                     \n",
       "470                                                      \n",
       "1300  scares crushes november rd much damage cause d...  \n",
       "163                                                      \n",
       "10                                                       \n",
       "619                                                      \n",
       "116                                                      \n",
       "169                                                      \n",
       "820                         kube fkennnedy et rush look  \n",
       "39                                                       "
      ]
     },
     "execution_count": 25,
     "metadata": {},
     "output_type": "execute_result"
    }
   ],
   "source": [
    "df_clean.sample(10)"
   ]
  },
  {
   "cell_type": "code",
   "execution_count": 26,
   "metadata": {},
   "outputs": [],
   "source": [
    "# Save cleaned dataset\n",
    "df_clean.to_csv('dataset/data_clean_0515.csv', index = False)"
   ]
  }
 ],
 "metadata": {
  "kernelspec": {
   "display_name": "Python 3",
   "language": "python",
   "name": "python3"
  },
  "language_info": {
   "codemirror_mode": {
    "name": "ipython",
    "version": 3
   },
   "file_extension": ".py",
   "mimetype": "text/x-python",
   "name": "python",
   "nbconvert_exporter": "python",
   "pygments_lexer": "ipython3",
   "version": "3.7.5"
  }
 },
 "nbformat": 4,
 "nbformat_minor": 4
}
