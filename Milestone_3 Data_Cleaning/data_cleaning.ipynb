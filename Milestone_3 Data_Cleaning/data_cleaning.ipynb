{
 "cells": [
  {
   "cell_type": "code",
   "execution_count": 203,
   "metadata": {},
   "outputs": [],
   "source": [
    "# Import library\n",
    "import pandas as pd\n",
    "import numpy as np\n",
    "import json\n",
    "import datetime\n",
    "import nltk\n",
    "from nltk.corpus import stopwords\n",
    "from nltk.tokenize import word_tokenize\n",
    "import string\n",
    "import re"
   ]
  },
  {
   "cell_type": "code",
   "execution_count": 21,
   "metadata": {},
   "outputs": [],
   "source": [
    "# Load json data from file\n",
    "data = []\n",
    "with open('dataset/sgcircuitbreaker.json', encoding=\"utf8\") as f:\n",
    "    for line in f:\n",
    "        data.append(json.loads(line))"
   ]
  },
  {
   "cell_type": "code",
   "execution_count": 163,
   "metadata": {
    "scrolled": true
   },
   "outputs": [
    {
     "data": {
      "text/html": [
       "<div>\n",
       "<style scoped>\n",
       "    .dataframe tbody tr th:only-of-type {\n",
       "        vertical-align: middle;\n",
       "    }\n",
       "\n",
       "    .dataframe tbody tr th {\n",
       "        vertical-align: top;\n",
       "    }\n",
       "\n",
       "    .dataframe thead th {\n",
       "        text-align: right;\n",
       "    }\n",
       "</style>\n",
       "<table border=\"1\" class=\"dataframe\">\n",
       "  <thead>\n",
       "    <tr style=\"text-align: right;\">\n",
       "      <th></th>\n",
       "      <th>_id</th>\n",
       "      <th>created_at</th>\n",
       "      <th>id</th>\n",
       "      <th>screen_name:</th>\n",
       "      <th>lang</th>\n",
       "      <th>is_quote_status</th>\n",
       "      <th>is_retweet_status</th>\n",
       "      <th>full_text</th>\n",
       "      <th>quote_text</th>\n",
       "    </tr>\n",
       "  </thead>\n",
       "  <tbody>\n",
       "    <tr>\n",
       "      <th>0</th>\n",
       "      <td>{'$oid': '5eae613c65da26ed42446310'}</td>\n",
       "      <td>{'$date': {'$numberLong': '1588486453000'}}</td>\n",
       "      <td>{'$numberLong': '1256829397778132992'}</td>\n",
       "      <td>Ashy_roz</td>\n",
       "      <td>en</td>\n",
       "      <td>True</td>\n",
       "      <td>False</td>\n",
       "      <td>Morning Peepos @MdAnde1 @SyiqinKmz</td>\n",
       "      <td>Good morning...\\n#Singapore \\n#circuitbreaker ...</td>\n",
       "    </tr>\n",
       "    <tr>\n",
       "      <th>1</th>\n",
       "      <td>{'$oid': '5eae614b65da26ed42446311'}</td>\n",
       "      <td>{'$date': {'$numberLong': '1588486468000'}}</td>\n",
       "      <td>{'$numberLong': '1256829460193689601'}</td>\n",
       "      <td>harshdass11</td>\n",
       "      <td>en</td>\n",
       "      <td>False</td>\n",
       "      <td>False</td>\n",
       "      <td>There is proof in📗 quraan sharif, who has comp...</td>\n",
       "      <td></td>\n",
       "    </tr>\n",
       "    <tr>\n",
       "      <th>2</th>\n",
       "      <td>{'$oid': '5eae616665da26ed42446312'}</td>\n",
       "      <td>{'$date': {'$numberLong': '1588486496000'}}</td>\n",
       "      <td>{'$numberLong': '1256829574723383296'}</td>\n",
       "      <td>harshdass11</td>\n",
       "      <td>en</td>\n",
       "      <td>False</td>\n",
       "      <td>True</td>\n",
       "      <td>Is creator🤴 of all the universe🌍\\nAlmighty God...</td>\n",
       "      <td></td>\n",
       "    </tr>\n",
       "    <tr>\n",
       "      <th>3</th>\n",
       "      <td>{'$oid': '5eae616a65da26ed42446313'}</td>\n",
       "      <td>{'$date': {'$numberLong': '1588486500000'}}</td>\n",
       "      <td>{'$numberLong': '1256829592066801665'}</td>\n",
       "      <td>staciechan</td>\n",
       "      <td>en</td>\n",
       "      <td>False</td>\n",
       "      <td>False</td>\n",
       "      <td>Day 26 #Covid19 #circuitbreakersg: unleashing ...</td>\n",
       "      <td></td>\n",
       "    </tr>\n",
       "    <tr>\n",
       "      <th>4</th>\n",
       "      <td>{'$oid': '5eae618465da26ed42446314'}</td>\n",
       "      <td>{'$date': {'$numberLong': '1588486525000'}}</td>\n",
       "      <td>{'$numberLong': '1256829698048274434'}</td>\n",
       "      <td>SStretchsg</td>\n",
       "      <td>en</td>\n",
       "      <td>False</td>\n",
       "      <td>False</td>\n",
       "      <td>#𝘿𝙚𝙡𝙞𝙫𝙚𝙧𝙮𝙍𝙞𝙙𝙚𝙧𝙨 are your shoulder stiff from a...</td>\n",
       "      <td></td>\n",
       "    </tr>\n",
       "  </tbody>\n",
       "</table>\n",
       "</div>"
      ],
      "text/plain": [
       "                                    _id  \\\n",
       "0  {'$oid': '5eae613c65da26ed42446310'}   \n",
       "1  {'$oid': '5eae614b65da26ed42446311'}   \n",
       "2  {'$oid': '5eae616665da26ed42446312'}   \n",
       "3  {'$oid': '5eae616a65da26ed42446313'}   \n",
       "4  {'$oid': '5eae618465da26ed42446314'}   \n",
       "\n",
       "                                    created_at  \\\n",
       "0  {'$date': {'$numberLong': '1588486453000'}}   \n",
       "1  {'$date': {'$numberLong': '1588486468000'}}   \n",
       "2  {'$date': {'$numberLong': '1588486496000'}}   \n",
       "3  {'$date': {'$numberLong': '1588486500000'}}   \n",
       "4  {'$date': {'$numberLong': '1588486525000'}}   \n",
       "\n",
       "                                       id screen_name: lang  is_quote_status  \\\n",
       "0  {'$numberLong': '1256829397778132992'}     Ashy_roz   en             True   \n",
       "1  {'$numberLong': '1256829460193689601'}  harshdass11   en            False   \n",
       "2  {'$numberLong': '1256829574723383296'}  harshdass11   en            False   \n",
       "3  {'$numberLong': '1256829592066801665'}   staciechan   en            False   \n",
       "4  {'$numberLong': '1256829698048274434'}   SStretchsg   en            False   \n",
       "\n",
       "   is_retweet_status                                          full_text  \\\n",
       "0              False                 Morning Peepos @MdAnde1 @SyiqinKmz   \n",
       "1              False  There is proof in📗 quraan sharif, who has comp...   \n",
       "2               True  Is creator🤴 of all the universe🌍\\nAlmighty God...   \n",
       "3              False  Day 26 #Covid19 #circuitbreakersg: unleashing ...   \n",
       "4              False  #𝘿𝙚𝙡𝙞𝙫𝙚𝙧𝙮𝙍𝙞𝙙𝙚𝙧𝙨 are your shoulder stiff from a...   \n",
       "\n",
       "                                          quote_text  \n",
       "0  Good morning...\\n#Singapore \\n#circuitbreaker ...  \n",
       "1                                                     \n",
       "2                                                     \n",
       "3                                                     \n",
       "4                                                     "
      ]
     },
     "execution_count": 163,
     "metadata": {},
     "output_type": "execute_result"
    }
   ],
   "source": [
    "# Import json data into dataframe\n",
    "df = pd.DataFrame(data)\n",
    "df.head()"
   ]
  },
  {
   "cell_type": "markdown",
   "metadata": {},
   "source": [
    "### Things to clean:\n",
    "- Checking any missing/ duplicated value\n",
    "- Extract data from json object inside cell for columns `_id`, `created_at`, `id`\n",
    "- Rename columns\n",
    "\n",
    "### Text cleaning:\n",
    "- For `full_text`, `quote_text` column, text preprocessing is required for sentiment analysis\n",
    "- Convert to lowercase, remove noise and stopword, tokenization"
   ]
  },
  {
   "cell_type": "markdown",
   "metadata": {},
   "source": [
    "#### Checking missing value"
   ]
  },
  {
   "cell_type": "code",
   "execution_count": 164,
   "metadata": {},
   "outputs": [
    {
     "data": {
      "text/plain": [
       "_id                  0\n",
       "created_at           0\n",
       "id                   0\n",
       "screen_name:         0\n",
       "lang                 0\n",
       "is_quote_status      0\n",
       "is_retweet_status    0\n",
       "full_text            0\n",
       "quote_text           0\n",
       "dtype: int64"
      ]
     },
     "execution_count": 164,
     "metadata": {},
     "output_type": "execute_result"
    }
   ],
   "source": [
    "# Checking missing value\n",
    "df.isnull().sum()"
   ]
  },
  {
   "cell_type": "markdown",
   "metadata": {},
   "source": [
    "No missing value is found."
   ]
  },
  {
   "cell_type": "markdown",
   "metadata": {},
   "source": [
    "#### Extract json data"
   ]
  },
  {
   "cell_type": "markdown",
   "metadata": {},
   "source": [
    "May Refer these links to see how to extract json data\n",
    "- [w3school](https://www.w3schools.com/python/python_json.asp)\n",
    "- [Stack Overflow](https://stackoverflow.com/questions/42354001/python-json-object-must-be-str-bytes-or-bytearray-not-dict/42354033)"
   ]
  },
  {
   "cell_type": "code",
   "execution_count": 165,
   "metadata": {},
   "outputs": [],
   "source": [
    "# Extract json object from _id column\n",
    "df['_id'] = df['_id'].apply(lambda x: json.loads(json.dumps(x))['$oid'])"
   ]
  },
  {
   "cell_type": "code",
   "execution_count": 166,
   "metadata": {},
   "outputs": [],
   "source": [
    "# Extract json object from id column\n",
    "df['id'] = df['id'].apply(lambda x: json.loads(json.dumps(x))['$numberLong'])"
   ]
  },
  {
   "cell_type": "code",
   "execution_count": 167,
   "metadata": {},
   "outputs": [],
   "source": [
    "# Extract json object from id column\n",
    "df['created_at'] = df['created_at'].apply(lambda x: json.loads(json.dumps(x))['$date']['$numberLong'])"
   ]
  },
  {
   "cell_type": "code",
   "execution_count": 168,
   "metadata": {
    "scrolled": false
   },
   "outputs": [
    {
     "data": {
      "text/html": [
       "<div>\n",
       "<style scoped>\n",
       "    .dataframe tbody tr th:only-of-type {\n",
       "        vertical-align: middle;\n",
       "    }\n",
       "\n",
       "    .dataframe tbody tr th {\n",
       "        vertical-align: top;\n",
       "    }\n",
       "\n",
       "    .dataframe thead th {\n",
       "        text-align: right;\n",
       "    }\n",
       "</style>\n",
       "<table border=\"1\" class=\"dataframe\">\n",
       "  <thead>\n",
       "    <tr style=\"text-align: right;\">\n",
       "      <th></th>\n",
       "      <th>_id</th>\n",
       "      <th>created_at</th>\n",
       "      <th>id</th>\n",
       "      <th>screen_name:</th>\n",
       "      <th>lang</th>\n",
       "      <th>is_quote_status</th>\n",
       "      <th>is_retweet_status</th>\n",
       "      <th>full_text</th>\n",
       "      <th>quote_text</th>\n",
       "    </tr>\n",
       "  </thead>\n",
       "  <tbody>\n",
       "    <tr>\n",
       "      <th>1991</th>\n",
       "      <td>5eaf7a92b194fb305583216d</td>\n",
       "      <td>1588558476000</td>\n",
       "      <td>1257131481358454785</td>\n",
       "      <td>mimicrassy</td>\n",
       "      <td>en</td>\n",
       "      <td>False</td>\n",
       "      <td>True</td>\n",
       "      <td>What were these 7 people thinking?? #Stayhomef...</td>\n",
       "      <td></td>\n",
       "    </tr>\n",
       "    <tr>\n",
       "      <th>4460</th>\n",
       "      <td>5eb0b53cb194fb3055832b12</td>\n",
       "      <td>1588639030000</td>\n",
       "      <td>1257469350069645312</td>\n",
       "      <td>Samira3787</td>\n",
       "      <td>ar</td>\n",
       "      <td>False</td>\n",
       "      <td>False</td>\n",
       "      <td>@AkasdMabdah فوغا مسويه عروض جدا رهيبه واستخدم...</td>\n",
       "      <td></td>\n",
       "    </tr>\n",
       "    <tr>\n",
       "      <th>5202</th>\n",
       "      <td>5eb14ea0b194fb3055832df8</td>\n",
       "      <td>1588678298000</td>\n",
       "      <td>1257634051902418945</td>\n",
       "      <td>ChoLiu92</td>\n",
       "      <td>und</td>\n",
       "      <td>False</td>\n",
       "      <td>True</td>\n",
       "      <td>200505 #CB\\n🐶🐶 https://t.co/ZK8j8fcL2U</td>\n",
       "      <td></td>\n",
       "    </tr>\n",
       "    <tr>\n",
       "      <th>3743</th>\n",
       "      <td>5eb03e73b194fb3055832845</td>\n",
       "      <td>1588608620000</td>\n",
       "      <td>1257341802769797121</td>\n",
       "      <td>dassi_aarti</td>\n",
       "      <td>en</td>\n",
       "      <td>False</td>\n",
       "      <td>True</td>\n",
       "      <td>It is very rare to find 🔍an tatv darshi saint....</td>\n",
       "      <td></td>\n",
       "    </tr>\n",
       "    <tr>\n",
       "      <th>666</th>\n",
       "      <td>5eae957f65da26ed424465aa</td>\n",
       "      <td>1588499833000</td>\n",
       "      <td>1256885515439104000</td>\n",
       "      <td>jessie_36milk</td>\n",
       "      <td>ja</td>\n",
       "      <td>False</td>\n",
       "      <td>True</td>\n",
       "      <td>⚽️Ｊリーグ⚽️\\n\\n【横浜】再開後の過密日程で存在感を発揮できるか？ ニューカマー山本義...</td>\n",
       "      <td></td>\n",
       "    </tr>\n",
       "    <tr>\n",
       "      <th>6498</th>\n",
       "      <td>5eb194a7b194fb3055833308</td>\n",
       "      <td>1588696224000</td>\n",
       "      <td>1257709240241831936</td>\n",
       "      <td>Manohar37840440</td>\n",
       "      <td>en</td>\n",
       "      <td>False</td>\n",
       "      <td>True</td>\n",
       "      <td>#Say_No_To_Alcohol\\nAccording to the constitut...</td>\n",
       "      <td></td>\n",
       "    </tr>\n",
       "    <tr>\n",
       "      <th>1890</th>\n",
       "      <td>5eaf68eeb194fb3055832108</td>\n",
       "      <td>1588553960000</td>\n",
       "      <td>1257112541580324864</td>\n",
       "      <td>cafe_rosemary</td>\n",
       "      <td>ko</td>\n",
       "      <td>False</td>\n",
       "      <td>True</td>\n",
       "      <td>“논문을 미리 읽은 같은 학교에 다니는 지인이 말없이 최씨를 끌어안고 “언니, 여태...</td>\n",
       "      <td></td>\n",
       "    </tr>\n",
       "    <tr>\n",
       "      <th>869</th>\n",
       "      <td>5eaeb617b194fb3055831d0b</td>\n",
       "      <td>1588508176000</td>\n",
       "      <td>1256920510392201220</td>\n",
       "      <td>syfeka</td>\n",
       "      <td>in</td>\n",
       "      <td>True</td>\n",
       "      <td>True</td>\n",
       "      <td>Sometimes, you genuinely forgot. Mak aku gi pa...</td>\n",
       "      <td>How come the mall security outside the bakery ...</td>\n",
       "    </tr>\n",
       "    <tr>\n",
       "      <th>3444</th>\n",
       "      <td>5eb03800b194fb305583271a</td>\n",
       "      <td>1588606969000</td>\n",
       "      <td>1257334877764149251</td>\n",
       "      <td>bhawnamadam</td>\n",
       "      <td>en</td>\n",
       "      <td>False</td>\n",
       "      <td>True</td>\n",
       "      <td>Brahma🤴 Vishnu Mahesh is not immortal. They al...</td>\n",
       "      <td></td>\n",
       "    </tr>\n",
       "    <tr>\n",
       "      <th>8860</th>\n",
       "      <td>5eb40177d16fd09c375d5e5f</td>\n",
       "      <td>1588855153000</td>\n",
       "      <td>1258375836836618240</td>\n",
       "      <td>kevin_0j0</td>\n",
       "      <td>zh</td>\n",
       "      <td>False</td>\n",
       "      <td>True</td>\n",
       "      <td>#凱文的鎖屌計畫 #Day7\\n\\n統計結果出來啦～\\n第一次鎖屌就要被鎖 #123天🔒😰\\...</td>\n",
       "      <td></td>\n",
       "    </tr>\n",
       "  </tbody>\n",
       "</table>\n",
       "</div>"
      ],
      "text/plain": [
       "                           _id     created_at                   id  \\\n",
       "1991  5eaf7a92b194fb305583216d  1588558476000  1257131481358454785   \n",
       "4460  5eb0b53cb194fb3055832b12  1588639030000  1257469350069645312   \n",
       "5202  5eb14ea0b194fb3055832df8  1588678298000  1257634051902418945   \n",
       "3743  5eb03e73b194fb3055832845  1588608620000  1257341802769797121   \n",
       "666   5eae957f65da26ed424465aa  1588499833000  1256885515439104000   \n",
       "6498  5eb194a7b194fb3055833308  1588696224000  1257709240241831936   \n",
       "1890  5eaf68eeb194fb3055832108  1588553960000  1257112541580324864   \n",
       "869   5eaeb617b194fb3055831d0b  1588508176000  1256920510392201220   \n",
       "3444  5eb03800b194fb305583271a  1588606969000  1257334877764149251   \n",
       "8860  5eb40177d16fd09c375d5e5f  1588855153000  1258375836836618240   \n",
       "\n",
       "         screen_name: lang  is_quote_status  is_retweet_status  \\\n",
       "1991       mimicrassy   en            False               True   \n",
       "4460       Samira3787   ar            False              False   \n",
       "5202         ChoLiu92  und            False               True   \n",
       "3743      dassi_aarti   en            False               True   \n",
       "666     jessie_36milk   ja            False               True   \n",
       "6498  Manohar37840440   en            False               True   \n",
       "1890    cafe_rosemary   ko            False               True   \n",
       "869            syfeka   in             True               True   \n",
       "3444      bhawnamadam   en            False               True   \n",
       "8860        kevin_0j0   zh            False               True   \n",
       "\n",
       "                                              full_text  \\\n",
       "1991  What were these 7 people thinking?? #Stayhomef...   \n",
       "4460  @AkasdMabdah فوغا مسويه عروض جدا رهيبه واستخدم...   \n",
       "5202             200505 #CB\\n🐶🐶 https://t.co/ZK8j8fcL2U   \n",
       "3743  It is very rare to find 🔍an tatv darshi saint....   \n",
       "666   ⚽️Ｊリーグ⚽️\\n\\n【横浜】再開後の過密日程で存在感を発揮できるか？ ニューカマー山本義...   \n",
       "6498  #Say_No_To_Alcohol\\nAccording to the constitut...   \n",
       "1890  “논문을 미리 읽은 같은 학교에 다니는 지인이 말없이 최씨를 끌어안고 “언니, 여태...   \n",
       "869   Sometimes, you genuinely forgot. Mak aku gi pa...   \n",
       "3444  Brahma🤴 Vishnu Mahesh is not immortal. They al...   \n",
       "8860  #凱文的鎖屌計畫 #Day7\\n\\n統計結果出來啦～\\n第一次鎖屌就要被鎖 #123天🔒😰\\...   \n",
       "\n",
       "                                             quote_text  \n",
       "1991                                                     \n",
       "4460                                                     \n",
       "5202                                                     \n",
       "3743                                                     \n",
       "666                                                      \n",
       "6498                                                     \n",
       "1890                                                     \n",
       "869   How come the mall security outside the bakery ...  \n",
       "3444                                                     \n",
       "8860                                                     "
      ]
     },
     "execution_count": 168,
     "metadata": {},
     "output_type": "execute_result"
    }
   ],
   "source": [
    "# Check value\n",
    "df.sample(10)"
   ]
  },
  {
   "cell_type": "markdown",
   "metadata": {},
   "source": [
    "#### Checking duplicated value"
   ]
  },
  {
   "cell_type": "code",
   "execution_count": 169,
   "metadata": {},
   "outputs": [
    {
     "data": {
      "text/plain": [
       "0"
      ]
     },
     "execution_count": 169,
     "metadata": {},
     "output_type": "execute_result"
    }
   ],
   "source": [
    "# Checking duplicated value\n",
    "df.duplicated().sum()"
   ]
  },
  {
   "cell_type": "markdown",
   "metadata": {},
   "source": [
    "No duplicate row is found."
   ]
  },
  {
   "cell_type": "markdown",
   "metadata": {},
   "source": [
    "#### Convert Unix timestamp to datetime"
   ]
  },
  {
   "cell_type": "code",
   "execution_count": 173,
   "metadata": {},
   "outputs": [],
   "source": [
    "# Remove last 3 characters '000' from unix string (Should be 10 digits only)\n",
    "# Convert created_at values from object to string first before it can convert to timestamp format\n",
    "df['created_at'] = df['created_at'].apply(lambda x: x[:-3])\n",
    "df['created_at'] = df['created_at'].astype(np.int64)"
   ]
  },
  {
   "cell_type": "code",
   "execution_count": 178,
   "metadata": {},
   "outputs": [],
   "source": [
    "# Convert unix timestamp to datetime format\n",
    "df['created_at'] = df['created_at'].apply(lambda x: datetime.datetime.utcfromtimestamp(x).strftime('%Y-%m-%dT%H:%M:%SZ'))"
   ]
  },
  {
   "cell_type": "code",
   "execution_count": 184,
   "metadata": {},
   "outputs": [],
   "source": [
    "df['created_at'] = pd.to_datetime(df['created_at'])"
   ]
  },
  {
   "cell_type": "markdown",
   "metadata": {},
   "source": [
    "#### Drop Columns\n",
    "`_id` is id from mongo database, thus, it is not required in this project and could be dropped."
   ]
  },
  {
   "cell_type": "code",
   "execution_count": 181,
   "metadata": {},
   "outputs": [],
   "source": [
    "df.drop('_id', axis =1, inplace =True)"
   ]
  },
  {
   "cell_type": "markdown",
   "metadata": {},
   "source": [
    "#### Rename Columns\n",
    "- Change `id` to `user_id`  \n",
    "- Change `screen_name:` to `username`\n",
    "- Change `lang` to `language`"
   ]
  },
  {
   "cell_type": "code",
   "execution_count": 183,
   "metadata": {},
   "outputs": [],
   "source": [
    "df.rename(columns = {'id':'user_id', 'screen_name:':'username', 'lang':'language'}, inplace = True)"
   ]
  },
  {
   "cell_type": "markdown",
   "metadata": {},
   "source": [
    "#### Define Data Cleaning Functions\n",
    "For tweet cleaning, may refer [here](https://towardsdatascience.com/extracting-twitter-data-pre-processing-and-sentiment-analysis-using-python-3-0-7192bd8b47cf)."
   ]
  },
  {
   "cell_type": "code",
   "execution_count": 235,
   "metadata": {},
   "outputs": [],
   "source": [
    "# Convert all characters to lowercase\n",
    "def to_lowercase(text):\n",
    "    text  = text.lower()\n",
    "    \n",
    "    return text"
   ]
  },
  {
   "cell_type": "code",
   "execution_count": 242,
   "metadata": {},
   "outputs": [],
   "source": [
    "#Emoji patterns\n",
    "emoji_pattern = re.compile(\"[\"\n",
    "         u\"\\U0001F600-\\U0001F64F\"  # emoticons\n",
    "         u\"\\U0001F300-\\U0001F5FF\"  # symbols & pictographs\n",
    "         u\"\\U0001F680-\\U0001F6FF\"  # transport & map symbols\n",
    "         u\"\\U0001F1E0-\\U0001F1FF\"  # flags (iOS)\n",
    "         u\"\\U00002702-\\U000027B0\"\n",
    "         u\"\\U000024C2-\\U0001F251\"\n",
    "         \"]+\", flags=re.UNICODE)"
   ]
  },
  {
   "cell_type": "code",
   "execution_count": 249,
   "metadata": {},
   "outputs": [],
   "source": [
    "# Remove Emoji\n",
    "def remove_emoji(text):\n",
    "    text = emoji_pattern.sub(r'', text)\n",
    "    return text"
   ]
  },
  {
   "cell_type": "code",
   "execution_count": 244,
   "metadata": {},
   "outputs": [],
   "source": [
    "# Remove Mentions\n",
    "def remove_mention(text):\n",
    "    text = re.sub(r':', '', text)\n",
    "    text = re.sub(r'‚Ä¶', '', text) \n",
    "    return text"
   ]
  },
  {
   "cell_type": "code",
   "execution_count": 245,
   "metadata": {},
   "outputs": [],
   "source": [
    "# Replace consecutive non-ASCII characters with a space\n",
    "def replace_nonASCII(text):\n",
    "    text = re.sub(r'[^\\x00-\\x7F]+',' ', text)\n",
    "    return text"
   ]
  },
  {
   "cell_type": "code",
   "execution_count": 246,
   "metadata": {},
   "outputs": [],
   "source": [
    "# Remove punctuation\n",
    "def remove_punct(text):\n",
    "    text  = \"\".join([char for char in text if char not in string.punctuation])\n",
    "    text = re.sub('[0-9]+', '', text)\n",
    "    return text"
   ]
  },
  {
   "cell_type": "code",
   "execution_count": 247,
   "metadata": {},
   "outputs": [],
   "source": [
    "# Remove stopwords\n",
    "stopwordsList = set(stopwords.words('english')) \n",
    "def remove_stopwords(text):\n",
    "    text = [word for word in text if word not in stopwordsList]\n",
    "    return text"
   ]
  },
  {
   "cell_type": "code",
   "execution_count": 200,
   "metadata": {},
   "outputs": [],
   "source": [
    "# Tokenize words\n",
    "def tokenize(text):\n",
    "    word_tokens = word_tokenize(text)\n",
    "    return word_tokens"
   ]
  },
  {
   "cell_type": "code",
   "execution_count": 251,
   "metadata": {},
   "outputs": [],
   "source": [
    "# Combine all the functions\n",
    "def datapreprocessing(review):\n",
    "    \n",
    "    # Convert the text into lowercase\n",
    "    review = to_lowercase(review)\n",
    "    \n",
    "    # Clean tweet\n",
    "    review = remove_emoji(review)\n",
    "    review = remove_mention(review)\n",
    "    review = replace_nonASCII(review)\n",
    "        \n",
    "    # Remove punctuation\n",
    "    review = remove_punct(review)\n",
    "    \n",
    "    # Tokenization\n",
    "    review = word_tokenize(review)\n",
    "    \n",
    "    # Remove stopwords\n",
    "    review = remove_stopwords(review)\n",
    "    \n",
    "    #return review\n",
    "    return \" \".join(review)"
   ]
  },
  {
   "cell_type": "markdown",
   "metadata": {},
   "source": [
    "- Remove Hasttag\n",
    "- Remove HTML"
   ]
  },
  {
   "cell_type": "code",
   "execution_count": 253,
   "metadata": {},
   "outputs": [],
   "source": [
    "cols = ['full_text', 'quote_text']\n",
    "\n",
    "for c in cols:\n",
    "    df[c] = df[c].apply(lambda x: datapreprocessing(x))"
   ]
  },
  {
   "cell_type": "code",
   "execution_count": 254,
   "metadata": {},
   "outputs": [
    {
     "data": {
      "text/html": [
       "<div>\n",
       "<style scoped>\n",
       "    .dataframe tbody tr th:only-of-type {\n",
       "        vertical-align: middle;\n",
       "    }\n",
       "\n",
       "    .dataframe tbody tr th {\n",
       "        vertical-align: top;\n",
       "    }\n",
       "\n",
       "    .dataframe thead th {\n",
       "        text-align: right;\n",
       "    }\n",
       "</style>\n",
       "<table border=\"1\" class=\"dataframe\">\n",
       "  <thead>\n",
       "    <tr style=\"text-align: right;\">\n",
       "      <th></th>\n",
       "      <th>created_at</th>\n",
       "      <th>user_id</th>\n",
       "      <th>username</th>\n",
       "      <th>language</th>\n",
       "      <th>is_quote_status</th>\n",
       "      <th>is_retweet_status</th>\n",
       "      <th>full_text</th>\n",
       "      <th>quote_text</th>\n",
       "    </tr>\n",
       "  </thead>\n",
       "  <tbody>\n",
       "    <tr>\n",
       "      <th>0</th>\n",
       "      <td>2020-05-03 06:14:13+00:00</td>\n",
       "      <td>1256829397778132992</td>\n",
       "      <td>Ashy_roz</td>\n",
       "      <td>en</td>\n",
       "      <td>True</td>\n",
       "      <td>False</td>\n",
       "      <td>morning peepos mdande syiqinkmz</td>\n",
       "      <td>good morning singapore circuitbreaker httpstco...</td>\n",
       "    </tr>\n",
       "    <tr>\n",
       "      <th>1</th>\n",
       "      <td>2020-05-03 06:14:28+00:00</td>\n",
       "      <td>1256829460193689601</td>\n",
       "      <td>harshdass11</td>\n",
       "      <td>en</td>\n",
       "      <td>False</td>\n",
       "      <td>False</td>\n",
       "      <td>proof quraan sharif composed shrasti six days ...</td>\n",
       "      <td></td>\n",
       "    </tr>\n",
       "    <tr>\n",
       "      <th>2</th>\n",
       "      <td>2020-05-03 06:14:56+00:00</td>\n",
       "      <td>1256829574723383296</td>\n",
       "      <td>harshdass11</td>\n",
       "      <td>en</td>\n",
       "      <td>False</td>\n",
       "      <td>True</td>\n",
       "      <td>creator universe almighty god kabir informatio...</td>\n",
       "      <td></td>\n",
       "    </tr>\n",
       "    <tr>\n",
       "      <th>3</th>\n",
       "      <td>2020-05-03 06:15:00+00:00</td>\n",
       "      <td>1256829592066801665</td>\n",
       "      <td>staciechan</td>\n",
       "      <td>en</td>\n",
       "      <td>False</td>\n",
       "      <td>False</td>\n",
       "      <td>day covid circuitbreakersg unleashing creative...</td>\n",
       "      <td></td>\n",
       "    </tr>\n",
       "    <tr>\n",
       "      <th>4</th>\n",
       "      <td>2020-05-03 06:15:25+00:00</td>\n",
       "      <td>1256829698048274434</td>\n",
       "      <td>SStretchsg</td>\n",
       "      <td>en</td>\n",
       "      <td>False</td>\n",
       "      <td>False</td>\n",
       "      <td>shoulder stiff carrying riding delivery hands ...</td>\n",
       "      <td></td>\n",
       "    </tr>\n",
       "    <tr>\n",
       "      <th>...</th>\n",
       "      <td>...</td>\n",
       "      <td>...</td>\n",
       "      <td>...</td>\n",
       "      <td>...</td>\n",
       "      <td>...</td>\n",
       "      <td>...</td>\n",
       "      <td>...</td>\n",
       "      <td>...</td>\n",
       "    </tr>\n",
       "    <tr>\n",
       "      <th>9467</th>\n",
       "      <td>2020-05-08 08:11:05+00:00</td>\n",
       "      <td>1258670745820880896</td>\n",
       "      <td>mariozaharah</td>\n",
       "      <td>en</td>\n",
       "      <td>True</td>\n",
       "      <td>False</td>\n",
       "      <td>hope sporemoh lawrencewongst govsingapore seei...</td>\n",
       "      <td>jjangelus homemigrantssg yes studies backed vi...</td>\n",
       "    </tr>\n",
       "    <tr>\n",
       "      <th>9468</th>\n",
       "      <td>2020-05-08 08:11:10+00:00</td>\n",
       "      <td>1258670767115431936</td>\n",
       "      <td>_j3zd</td>\n",
       "      <td>en</td>\n",
       "      <td>True</td>\n",
       "      <td>False</td>\n",
       "      <td>yes sir dont back idiots</td>\n",
       "      <td>cb one month already still got people dont wan...</td>\n",
       "    </tr>\n",
       "    <tr>\n",
       "      <th>9469</th>\n",
       "      <td>2020-05-08 08:12:39+00:00</td>\n",
       "      <td>1258671141511589888</td>\n",
       "      <td>ashley_ow</td>\n",
       "      <td>en</td>\n",
       "      <td>False</td>\n",
       "      <td>True</td>\n",
       "      <td>school holidays start youths already planning ...</td>\n",
       "      <td></td>\n",
       "    </tr>\n",
       "    <tr>\n",
       "      <th>9470</th>\n",
       "      <td>2020-05-08 08:12:42+00:00</td>\n",
       "      <td>1258671152215384065</td>\n",
       "      <td>JR53719650</td>\n",
       "      <td>ja</td>\n",
       "      <td>False</td>\n",
       "      <td>True</td>\n",
       "      <td>bs box cbamprt cb httpstcovalewasmq</td>\n",
       "      <td></td>\n",
       "    </tr>\n",
       "    <tr>\n",
       "      <th>9471</th>\n",
       "      <td>2020-05-08 08:13:11+00:00</td>\n",
       "      <td>1258671274752045057</td>\n",
       "      <td>ashley_ow</td>\n",
       "      <td>en</td>\n",
       "      <td>True</td>\n",
       "      <td>True</td>\n",
       "      <td>continue see double digits community cases pre...</td>\n",
       "      <td>breaking covid new cases spore sporeansprs htt...</td>\n",
       "    </tr>\n",
       "  </tbody>\n",
       "</table>\n",
       "<p>9472 rows × 8 columns</p>\n",
       "</div>"
      ],
      "text/plain": [
       "                    created_at              user_id      username language  \\\n",
       "0    2020-05-03 06:14:13+00:00  1256829397778132992      Ashy_roz       en   \n",
       "1    2020-05-03 06:14:28+00:00  1256829460193689601   harshdass11       en   \n",
       "2    2020-05-03 06:14:56+00:00  1256829574723383296   harshdass11       en   \n",
       "3    2020-05-03 06:15:00+00:00  1256829592066801665    staciechan       en   \n",
       "4    2020-05-03 06:15:25+00:00  1256829698048274434    SStretchsg       en   \n",
       "...                        ...                  ...           ...      ...   \n",
       "9467 2020-05-08 08:11:05+00:00  1258670745820880896  mariozaharah       en   \n",
       "9468 2020-05-08 08:11:10+00:00  1258670767115431936         _j3zd       en   \n",
       "9469 2020-05-08 08:12:39+00:00  1258671141511589888     ashley_ow       en   \n",
       "9470 2020-05-08 08:12:42+00:00  1258671152215384065    JR53719650       ja   \n",
       "9471 2020-05-08 08:13:11+00:00  1258671274752045057     ashley_ow       en   \n",
       "\n",
       "      is_quote_status  is_retweet_status  \\\n",
       "0                True              False   \n",
       "1               False              False   \n",
       "2               False               True   \n",
       "3               False              False   \n",
       "4               False              False   \n",
       "...               ...                ...   \n",
       "9467             True              False   \n",
       "9468             True              False   \n",
       "9469            False               True   \n",
       "9470            False               True   \n",
       "9471             True               True   \n",
       "\n",
       "                                              full_text  \\\n",
       "0                       morning peepos mdande syiqinkmz   \n",
       "1     proof quraan sharif composed shrasti six days ...   \n",
       "2     creator universe almighty god kabir informatio...   \n",
       "3     day covid circuitbreakersg unleashing creative...   \n",
       "4     shoulder stiff carrying riding delivery hands ...   \n",
       "...                                                 ...   \n",
       "9467  hope sporemoh lawrencewongst govsingapore seei...   \n",
       "9468                           yes sir dont back idiots   \n",
       "9469  school holidays start youths already planning ...   \n",
       "9470                bs box cbamprt cb httpstcovalewasmq   \n",
       "9471  continue see double digits community cases pre...   \n",
       "\n",
       "                                             quote_text  \n",
       "0     good morning singapore circuitbreaker httpstco...  \n",
       "1                                                        \n",
       "2                                                        \n",
       "3                                                        \n",
       "4                                                        \n",
       "...                                                 ...  \n",
       "9467  jjangelus homemigrantssg yes studies backed vi...  \n",
       "9468  cb one month already still got people dont wan...  \n",
       "9469                                                     \n",
       "9470                                                     \n",
       "9471  breaking covid new cases spore sporeansprs htt...  \n",
       "\n",
       "[9472 rows x 8 columns]"
      ]
     },
     "execution_count": 254,
     "metadata": {},
     "output_type": "execute_result"
    }
   ],
   "source": [
    "df"
   ]
  }
 ],
 "metadata": {
  "kernelspec": {
   "display_name": "Python 3",
   "language": "python",
   "name": "python3"
  },
  "language_info": {
   "codemirror_mode": {
    "name": "ipython",
    "version": 3
   },
   "file_extension": ".py",
   "mimetype": "text/x-python",
   "name": "python",
   "nbconvert_exporter": "python",
   "pygments_lexer": "ipython3",
   "version": "3.7.5"
  }
 },
 "nbformat": 4,
 "nbformat_minor": 4
}
