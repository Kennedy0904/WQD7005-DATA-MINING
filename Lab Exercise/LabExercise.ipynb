{
 "cells": [
  {
   "cell_type": "markdown",
   "metadata": {},
   "source": [
    "# Lab Exercise\n",
    "\n",
    "Tan Bing Shien WQD180104"
   ]
  },
  {
   "cell_type": "markdown",
   "metadata": {},
   "source": [
    "## 1. Introduction"
   ]
  },
  {
   "cell_type": "markdown",
   "metadata": {},
   "source": [
    "Data preparation is the most important step in any data mining project. It determines the \"make or break\" of a data mining project and, it is estimated about 60% of your time will be spent on this stage. There are many processes that can be performed in data preparation, depending on the data type and algorithm of choice for modelling. In this practical, we will focus on the following steps:\n",
    "\n",
    "\n",
    "1. Understanding data: exploring and visualising data to gain initial insights and understanding.\n",
    "2. Dealing with missing values: missing values are detrimental to performance of data mining models.\n",
    "3. Noise and errorneous data cleaning: similar to missing values, they can also negatively impact data mining models and analysis.\n",
    "4. Data formatting: formatting data into a format suitable for the underlying algorithm and framework to be used.\n",
    "\n",
    "This includes setting correct roles and data types for variables based on their analytics purpose.\n"
   ]
  },
  {
   "cell_type": "markdown",
   "metadata": {},
   "source": [
    "In predictive data mining process, there must be a target variable whose value is to be predicted. In this dataset, we aim to classify whether a person is a lapsing donor or not, corresponding to TargetB.  We are focusing on **classification** prediction mining. We are not interested in knowing the exact amount of donation that  a person will make. In other words, we will not treat this problem as regression prediction problem. Therefore, we will not need `TargetD` and it will be dropped from the dataset."
   ]
  },
  {
   "cell_type": "markdown",
   "metadata": {},
   "source": [
    "## 2. Explore dataset"
   ]
  },
  {
   "cell_type": "markdown",
   "metadata": {},
   "source": [
    "Exploring and validating content of your data is a vital part of the data preparation process. By assaying the prepared data, you substantially reduce the chances of errorneous results in your analysis and gain visual insights into associations between variables. This section will guide you to find these vital insights."
   ]
  },
  {
   "cell_type": "code",
   "execution_count": 1,
   "metadata": {
    "scrolled": true
   },
   "outputs": [],
   "source": [
    "# Import library\n",
    "import pandas as pd\n",
    "import numpy as np\n",
    "import matplotlib.pyplot as plt\n",
    "%matplotlib inline\n",
    "import seaborn as sns"
   ]
  },
  {
   "cell_type": "code",
   "execution_count": 2,
   "metadata": {},
   "outputs": [],
   "source": [
    "# Import dataset\n",
    "df = pd.read_csv('lab1.csv')"
   ]
  },
  {
   "cell_type": "code",
   "execution_count": 3,
   "metadata": {
    "scrolled": true
   },
   "outputs": [
    {
     "data": {
      "text/html": [
       "<div>\n",
       "<style scoped>\n",
       "    .dataframe tbody tr th:only-of-type {\n",
       "        vertical-align: middle;\n",
       "    }\n",
       "\n",
       "    .dataframe tbody tr th {\n",
       "        vertical-align: top;\n",
       "    }\n",
       "\n",
       "    .dataframe thead th {\n",
       "        text-align: right;\n",
       "    }\n",
       "</style>\n",
       "<table border=\"1\" class=\"dataframe\">\n",
       "  <thead>\n",
       "    <tr style=\"text-align: right;\">\n",
       "      <th></th>\n",
       "      <th>TargetB</th>\n",
       "      <th>ID</th>\n",
       "      <th>TargetD</th>\n",
       "      <th>GiftCnt36</th>\n",
       "      <th>GiftCntAll</th>\n",
       "      <th>GiftCntCard36</th>\n",
       "      <th>GiftCntCardAll</th>\n",
       "      <th>GiftAvgLast</th>\n",
       "      <th>GiftAvg36</th>\n",
       "      <th>GiftAvgAll</th>\n",
       "      <th>...</th>\n",
       "      <th>PromCntCardAll</th>\n",
       "      <th>StatusCat96NK</th>\n",
       "      <th>StatusCatStarAll</th>\n",
       "      <th>DemCluster</th>\n",
       "      <th>DemAge</th>\n",
       "      <th>DemGender</th>\n",
       "      <th>DemHomeOwner</th>\n",
       "      <th>DemMedHomeValue</th>\n",
       "      <th>DemPctVeterans</th>\n",
       "      <th>DemMedIncome</th>\n",
       "    </tr>\n",
       "  </thead>\n",
       "  <tbody>\n",
       "    <tr>\n",
       "      <th>0</th>\n",
       "      <td>0</td>\n",
       "      <td>14974</td>\n",
       "      <td>NaN</td>\n",
       "      <td>2</td>\n",
       "      <td>4</td>\n",
       "      <td>1</td>\n",
       "      <td>3</td>\n",
       "      <td>17.0</td>\n",
       "      <td>13.50</td>\n",
       "      <td>9.25</td>\n",
       "      <td>...</td>\n",
       "      <td>13</td>\n",
       "      <td>A</td>\n",
       "      <td>0</td>\n",
       "      <td>0</td>\n",
       "      <td>NaN</td>\n",
       "      <td>F</td>\n",
       "      <td>U</td>\n",
       "      <td>0</td>\n",
       "      <td>0</td>\n",
       "      <td>0</td>\n",
       "    </tr>\n",
       "    <tr>\n",
       "      <th>1</th>\n",
       "      <td>0</td>\n",
       "      <td>6294</td>\n",
       "      <td>NaN</td>\n",
       "      <td>1</td>\n",
       "      <td>8</td>\n",
       "      <td>0</td>\n",
       "      <td>3</td>\n",
       "      <td>20.0</td>\n",
       "      <td>20.00</td>\n",
       "      <td>15.88</td>\n",
       "      <td>...</td>\n",
       "      <td>24</td>\n",
       "      <td>A</td>\n",
       "      <td>0</td>\n",
       "      <td>23</td>\n",
       "      <td>67.0</td>\n",
       "      <td>F</td>\n",
       "      <td>U</td>\n",
       "      <td>186800</td>\n",
       "      <td>85</td>\n",
       "      <td>0</td>\n",
       "    </tr>\n",
       "    <tr>\n",
       "      <th>2</th>\n",
       "      <td>1</td>\n",
       "      <td>46110</td>\n",
       "      <td>4.0</td>\n",
       "      <td>6</td>\n",
       "      <td>41</td>\n",
       "      <td>3</td>\n",
       "      <td>20</td>\n",
       "      <td>6.0</td>\n",
       "      <td>5.17</td>\n",
       "      <td>3.73</td>\n",
       "      <td>...</td>\n",
       "      <td>22</td>\n",
       "      <td>S</td>\n",
       "      <td>1</td>\n",
       "      <td>0</td>\n",
       "      <td>NaN</td>\n",
       "      <td>M</td>\n",
       "      <td>U</td>\n",
       "      <td>87600</td>\n",
       "      <td>36</td>\n",
       "      <td>38750</td>\n",
       "    </tr>\n",
       "    <tr>\n",
       "      <th>3</th>\n",
       "      <td>1</td>\n",
       "      <td>185937</td>\n",
       "      <td>10.0</td>\n",
       "      <td>3</td>\n",
       "      <td>12</td>\n",
       "      <td>3</td>\n",
       "      <td>8</td>\n",
       "      <td>10.0</td>\n",
       "      <td>8.67</td>\n",
       "      <td>8.50</td>\n",
       "      <td>...</td>\n",
       "      <td>16</td>\n",
       "      <td>E</td>\n",
       "      <td>1</td>\n",
       "      <td>0</td>\n",
       "      <td>NaN</td>\n",
       "      <td>M</td>\n",
       "      <td>U</td>\n",
       "      <td>139200</td>\n",
       "      <td>27</td>\n",
       "      <td>38942</td>\n",
       "    </tr>\n",
       "    <tr>\n",
       "      <th>4</th>\n",
       "      <td>0</td>\n",
       "      <td>29637</td>\n",
       "      <td>NaN</td>\n",
       "      <td>1</td>\n",
       "      <td>1</td>\n",
       "      <td>1</td>\n",
       "      <td>1</td>\n",
       "      <td>20.0</td>\n",
       "      <td>20.00</td>\n",
       "      <td>20.00</td>\n",
       "      <td>...</td>\n",
       "      <td>6</td>\n",
       "      <td>F</td>\n",
       "      <td>0</td>\n",
       "      <td>35</td>\n",
       "      <td>53.0</td>\n",
       "      <td>M</td>\n",
       "      <td>U</td>\n",
       "      <td>168100</td>\n",
       "      <td>37</td>\n",
       "      <td>71509</td>\n",
       "    </tr>\n",
       "  </tbody>\n",
       "</table>\n",
       "<p>5 rows × 28 columns</p>\n",
       "</div>"
      ],
      "text/plain": [
       "   TargetB      ID  TargetD  GiftCnt36  GiftCntAll  GiftCntCard36  \\\n",
       "0        0   14974      NaN          2           4              1   \n",
       "1        0    6294      NaN          1           8              0   \n",
       "2        1   46110      4.0          6          41              3   \n",
       "3        1  185937     10.0          3          12              3   \n",
       "4        0   29637      NaN          1           1              1   \n",
       "\n",
       "   GiftCntCardAll  GiftAvgLast  GiftAvg36  GiftAvgAll  ...  PromCntCardAll  \\\n",
       "0               3         17.0      13.50        9.25  ...              13   \n",
       "1               3         20.0      20.00       15.88  ...              24   \n",
       "2              20          6.0       5.17        3.73  ...              22   \n",
       "3               8         10.0       8.67        8.50  ...              16   \n",
       "4               1         20.0      20.00       20.00  ...               6   \n",
       "\n",
       "   StatusCat96NK  StatusCatStarAll  DemCluster  DemAge  DemGender  \\\n",
       "0              A                 0           0     NaN          F   \n",
       "1              A                 0          23    67.0          F   \n",
       "2              S                 1           0     NaN          M   \n",
       "3              E                 1           0     NaN          M   \n",
       "4              F                 0          35    53.0          M   \n",
       "\n",
       "   DemHomeOwner  DemMedHomeValue  DemPctVeterans DemMedIncome  \n",
       "0             U                0               0            0  \n",
       "1             U           186800              85            0  \n",
       "2             U            87600              36        38750  \n",
       "3             U           139200              27        38942  \n",
       "4             U           168100              37        71509  \n",
       "\n",
       "[5 rows x 28 columns]"
      ]
     },
     "execution_count": 3,
     "metadata": {},
     "output_type": "execute_result"
    }
   ],
   "source": [
    "df.head()"
   ]
  },
  {
   "cell_type": "code",
   "execution_count": 4,
   "metadata": {
    "scrolled": false
   },
   "outputs": [
    {
     "name": "stdout",
     "output_type": "stream",
     "text": [
      "<class 'pandas.core.frame.DataFrame'>\n",
      "RangeIndex: 9686 entries, 0 to 9685\n",
      "Data columns (total 28 columns):\n",
      " #   Column            Non-Null Count  Dtype  \n",
      "---  ------            --------------  -----  \n",
      " 0   TargetB           9686 non-null   int64  \n",
      " 1   ID                9686 non-null   int64  \n",
      " 2   TargetD           4843 non-null   float64\n",
      " 3   GiftCnt36         9686 non-null   int64  \n",
      " 4   GiftCntAll        9686 non-null   int64  \n",
      " 5   GiftCntCard36     9686 non-null   int64  \n",
      " 6   GiftCntCardAll    9686 non-null   int64  \n",
      " 7   GiftAvgLast       9686 non-null   float64\n",
      " 8   GiftAvg36         9686 non-null   float64\n",
      " 9   GiftAvgAll        9686 non-null   float64\n",
      " 10  GiftAvgCard36     7906 non-null   float64\n",
      " 11  GiftTimeLast      9686 non-null   int64  \n",
      " 12  GiftTimeFirst     9686 non-null   int64  \n",
      " 13  PromCnt12         9686 non-null   int64  \n",
      " 14  PromCnt36         9686 non-null   int64  \n",
      " 15  PromCntAll        9686 non-null   int64  \n",
      " 16  PromCntCard12     9686 non-null   int64  \n",
      " 17  PromCntCard36     9686 non-null   int64  \n",
      " 18  PromCntCardAll    9686 non-null   int64  \n",
      " 19  StatusCat96NK     9686 non-null   object \n",
      " 20  StatusCatStarAll  9686 non-null   int64  \n",
      " 21  DemCluster        9686 non-null   int64  \n",
      " 22  DemAge            7279 non-null   float64\n",
      " 23  DemGender         9686 non-null   object \n",
      " 24  DemHomeOwner      9686 non-null   object \n",
      " 25  DemMedHomeValue   9686 non-null   int64  \n",
      " 26  DemPctVeterans    9686 non-null   int64  \n",
      " 27  DemMedIncome      9686 non-null   int64  \n",
      "dtypes: float64(6), int64(19), object(3)\n",
      "memory usage: 2.1+ MB\n"
     ]
    }
   ],
   "source": [
    "# Dataset info\n",
    "df.info()"
   ]
  },
  {
   "cell_type": "markdown",
   "metadata": {},
   "source": [
    "This dataset consists of 28 columns."
   ]
  },
  {
   "cell_type": "code",
   "execution_count": 5,
   "metadata": {
    "scrolled": false
   },
   "outputs": [
    {
     "data": {
      "text/plain": [
       "(9686, 28)"
      ]
     },
     "execution_count": 5,
     "metadata": {},
     "output_type": "execute_result"
    }
   ],
   "source": [
    "# Shape of dataset\n",
    "df.shape"
   ]
  },
  {
   "cell_type": "markdown",
   "metadata": {},
   "source": [
    "This dataset consists of 9686 rows of record and 28 columns."
   ]
  },
  {
   "cell_type": "markdown",
   "metadata": {},
   "source": [
    "Firstly, let's take a closer look on the dataset. The dataframe .info() output revealed a number of important information from the dataset:\n",
    "\n",
    "> - Number of rows (or entries): **9686**\n",
    "- Number of fields (or columns): **28**\n",
    "- Number of entries and data type for each column: e.g. **9686** entries and integer number for `Target B`; \n",
    "- **7906** entries and floating point for `GiftAvgCard36`.\n",
    "\n",
    "From point three, we learned there are irregularities in some columns. For example, with **9686** rows in the whole dataset, there are only **7906** data points in `GiftAvgCard36`. \n",
    "\n",
    "This requires a deeper investigation of each column."
   ]
  },
  {
   "cell_type": "markdown",
   "metadata": {},
   "source": [
    "### 2.1. Explore column data"
   ]
  },
  {
   "cell_type": "markdown",
   "metadata": {},
   "source": [
    "Assume we would like to investigate the `DemAge` column of this dataset in depth. Recall, a column in Pandas is called a Series, and there are many functions providing insights on the characteristic and distribution of the data."
   ]
  },
  {
   "cell_type": "markdown",
   "metadata": {},
   "source": [
    "Function pandas.Series.describe() prints key statistics of a series, including count (number of non-missing values), mean (average), std (standard deviation), min, max, and quantiles (typically at 25%, 50%, 75%. 50% quantile is also called as median)."
   ]
  },
  {
   "cell_type": "code",
   "execution_count": 6,
   "metadata": {},
   "outputs": [
    {
     "data": {
      "text/html": [
       "<div>\n",
       "<style scoped>\n",
       "    .dataframe tbody tr th:only-of-type {\n",
       "        vertical-align: middle;\n",
       "    }\n",
       "\n",
       "    .dataframe tbody tr th {\n",
       "        vertical-align: top;\n",
       "    }\n",
       "\n",
       "    .dataframe thead th {\n",
       "        text-align: right;\n",
       "    }\n",
       "</style>\n",
       "<table border=\"1\" class=\"dataframe\">\n",
       "  <thead>\n",
       "    <tr style=\"text-align: right;\">\n",
       "      <th></th>\n",
       "      <th>TargetB</th>\n",
       "      <th>ID</th>\n",
       "      <th>TargetD</th>\n",
       "      <th>GiftCnt36</th>\n",
       "      <th>GiftCntAll</th>\n",
       "      <th>GiftCntCard36</th>\n",
       "      <th>GiftCntCardAll</th>\n",
       "      <th>GiftAvgLast</th>\n",
       "      <th>GiftAvg36</th>\n",
       "      <th>GiftAvgAll</th>\n",
       "      <th>...</th>\n",
       "      <th>PromCntAll</th>\n",
       "      <th>PromCntCard12</th>\n",
       "      <th>PromCntCard36</th>\n",
       "      <th>PromCntCardAll</th>\n",
       "      <th>StatusCatStarAll</th>\n",
       "      <th>DemCluster</th>\n",
       "      <th>DemAge</th>\n",
       "      <th>DemMedHomeValue</th>\n",
       "      <th>DemPctVeterans</th>\n",
       "      <th>DemMedIncome</th>\n",
       "    </tr>\n",
       "  </thead>\n",
       "  <tbody>\n",
       "    <tr>\n",
       "      <th>count</th>\n",
       "      <td>9686.000000</td>\n",
       "      <td>9686.000000</td>\n",
       "      <td>4843.000000</td>\n",
       "      <td>9686.000000</td>\n",
       "      <td>9686.000000</td>\n",
       "      <td>9686.000000</td>\n",
       "      <td>9686.000000</td>\n",
       "      <td>9686.000000</td>\n",
       "      <td>9686.000000</td>\n",
       "      <td>9686.000000</td>\n",
       "      <td>...</td>\n",
       "      <td>9686.000000</td>\n",
       "      <td>9686.000000</td>\n",
       "      <td>9686.000000</td>\n",
       "      <td>9686.000000</td>\n",
       "      <td>9686.000000</td>\n",
       "      <td>9686.000000</td>\n",
       "      <td>7279.000000</td>\n",
       "      <td>9686.000000</td>\n",
       "      <td>9686.000000</td>\n",
       "      <td>9686.000000</td>\n",
       "    </tr>\n",
       "    <tr>\n",
       "      <th>mean</th>\n",
       "      <td>0.500000</td>\n",
       "      <td>97975.474086</td>\n",
       "      <td>15.624344</td>\n",
       "      <td>3.205451</td>\n",
       "      <td>10.507640</td>\n",
       "      <td>1.856597</td>\n",
       "      <td>5.582490</td>\n",
       "      <td>16.017739</td>\n",
       "      <td>14.876203</td>\n",
       "      <td>12.489325</td>\n",
       "      <td>...</td>\n",
       "      <td>48.483481</td>\n",
       "      <td>5.392009</td>\n",
       "      <td>11.954677</td>\n",
       "      <td>19.007124</td>\n",
       "      <td>0.540574</td>\n",
       "      <td>27.150320</td>\n",
       "      <td>59.150845</td>\n",
       "      <td>110986.299814</td>\n",
       "      <td>30.604274</td>\n",
       "      <td>40491.444249</td>\n",
       "    </tr>\n",
       "    <tr>\n",
       "      <th>std</th>\n",
       "      <td>0.500026</td>\n",
       "      <td>56550.171120</td>\n",
       "      <td>12.445137</td>\n",
       "      <td>2.133421</td>\n",
       "      <td>8.993401</td>\n",
       "      <td>1.595419</td>\n",
       "      <td>4.736894</td>\n",
       "      <td>12.041805</td>\n",
       "      <td>10.057007</td>\n",
       "      <td>9.209297</td>\n",
       "      <td>...</td>\n",
       "      <td>23.061483</td>\n",
       "      <td>1.323648</td>\n",
       "      <td>4.571568</td>\n",
       "      <td>8.562193</td>\n",
       "      <td>0.498377</td>\n",
       "      <td>14.832665</td>\n",
       "      <td>16.516400</td>\n",
       "      <td>98670.855450</td>\n",
       "      <td>11.394988</td>\n",
       "      <td>28707.494146</td>\n",
       "    </tr>\n",
       "    <tr>\n",
       "      <th>min</th>\n",
       "      <td>0.000000</td>\n",
       "      <td>12.000000</td>\n",
       "      <td>1.000000</td>\n",
       "      <td>0.000000</td>\n",
       "      <td>1.000000</td>\n",
       "      <td>0.000000</td>\n",
       "      <td>0.000000</td>\n",
       "      <td>0.000000</td>\n",
       "      <td>0.000000</td>\n",
       "      <td>1.500000</td>\n",
       "      <td>...</td>\n",
       "      <td>5.000000</td>\n",
       "      <td>0.000000</td>\n",
       "      <td>2.000000</td>\n",
       "      <td>2.000000</td>\n",
       "      <td>0.000000</td>\n",
       "      <td>0.000000</td>\n",
       "      <td>0.000000</td>\n",
       "      <td>0.000000</td>\n",
       "      <td>0.000000</td>\n",
       "      <td>0.000000</td>\n",
       "    </tr>\n",
       "    <tr>\n",
       "      <th>25%</th>\n",
       "      <td>0.000000</td>\n",
       "      <td>48835.500000</td>\n",
       "      <td>10.000000</td>\n",
       "      <td>2.000000</td>\n",
       "      <td>4.000000</td>\n",
       "      <td>1.000000</td>\n",
       "      <td>2.000000</td>\n",
       "      <td>10.000000</td>\n",
       "      <td>9.600000</td>\n",
       "      <td>7.750000</td>\n",
       "      <td>...</td>\n",
       "      <td>29.000000</td>\n",
       "      <td>5.000000</td>\n",
       "      <td>7.000000</td>\n",
       "      <td>12.000000</td>\n",
       "      <td>0.000000</td>\n",
       "      <td>14.000000</td>\n",
       "      <td>47.000000</td>\n",
       "      <td>52300.000000</td>\n",
       "      <td>25.000000</td>\n",
       "      <td>24464.000000</td>\n",
       "    </tr>\n",
       "    <tr>\n",
       "      <th>50%</th>\n",
       "      <td>0.500000</td>\n",
       "      <td>99106.000000</td>\n",
       "      <td>13.000000</td>\n",
       "      <td>3.000000</td>\n",
       "      <td>8.000000</td>\n",
       "      <td>1.000000</td>\n",
       "      <td>4.000000</td>\n",
       "      <td>15.000000</td>\n",
       "      <td>13.500000</td>\n",
       "      <td>10.710000</td>\n",
       "      <td>...</td>\n",
       "      <td>48.000000</td>\n",
       "      <td>6.000000</td>\n",
       "      <td>13.000000</td>\n",
       "      <td>19.000000</td>\n",
       "      <td>1.000000</td>\n",
       "      <td>27.000000</td>\n",
       "      <td>60.000000</td>\n",
       "      <td>76900.000000</td>\n",
       "      <td>31.000000</td>\n",
       "      <td>43100.000000</td>\n",
       "    </tr>\n",
       "    <tr>\n",
       "      <th>75%</th>\n",
       "      <td>1.000000</td>\n",
       "      <td>148538.750000</td>\n",
       "      <td>20.000000</td>\n",
       "      <td>4.000000</td>\n",
       "      <td>15.000000</td>\n",
       "      <td>3.000000</td>\n",
       "      <td>8.000000</td>\n",
       "      <td>20.000000</td>\n",
       "      <td>18.500000</td>\n",
       "      <td>15.000000</td>\n",
       "      <td>...</td>\n",
       "      <td>65.000000</td>\n",
       "      <td>6.000000</td>\n",
       "      <td>16.000000</td>\n",
       "      <td>26.000000</td>\n",
       "      <td>1.000000</td>\n",
       "      <td>40.000000</td>\n",
       "      <td>73.000000</td>\n",
       "      <td>128175.000000</td>\n",
       "      <td>37.000000</td>\n",
       "      <td>56876.000000</td>\n",
       "    </tr>\n",
       "    <tr>\n",
       "      <th>max</th>\n",
       "      <td>1.000000</td>\n",
       "      <td>191779.000000</td>\n",
       "      <td>200.000000</td>\n",
       "      <td>16.000000</td>\n",
       "      <td>91.000000</td>\n",
       "      <td>9.000000</td>\n",
       "      <td>41.000000</td>\n",
       "      <td>450.000000</td>\n",
       "      <td>260.000000</td>\n",
       "      <td>450.000000</td>\n",
       "      <td>...</td>\n",
       "      <td>174.000000</td>\n",
       "      <td>17.000000</td>\n",
       "      <td>28.000000</td>\n",
       "      <td>56.000000</td>\n",
       "      <td>1.000000</td>\n",
       "      <td>53.000000</td>\n",
       "      <td>87.000000</td>\n",
       "      <td>600000.000000</td>\n",
       "      <td>85.000000</td>\n",
       "      <td>200001.000000</td>\n",
       "    </tr>\n",
       "  </tbody>\n",
       "</table>\n",
       "<p>8 rows × 25 columns</p>\n",
       "</div>"
      ],
      "text/plain": [
       "           TargetB             ID      TargetD    GiftCnt36   GiftCntAll  \\\n",
       "count  9686.000000    9686.000000  4843.000000  9686.000000  9686.000000   \n",
       "mean      0.500000   97975.474086    15.624344     3.205451    10.507640   \n",
       "std       0.500026   56550.171120    12.445137     2.133421     8.993401   \n",
       "min       0.000000      12.000000     1.000000     0.000000     1.000000   \n",
       "25%       0.000000   48835.500000    10.000000     2.000000     4.000000   \n",
       "50%       0.500000   99106.000000    13.000000     3.000000     8.000000   \n",
       "75%       1.000000  148538.750000    20.000000     4.000000    15.000000   \n",
       "max       1.000000  191779.000000   200.000000    16.000000    91.000000   \n",
       "\n",
       "       GiftCntCard36  GiftCntCardAll  GiftAvgLast    GiftAvg36   GiftAvgAll  \\\n",
       "count    9686.000000     9686.000000  9686.000000  9686.000000  9686.000000   \n",
       "mean        1.856597        5.582490    16.017739    14.876203    12.489325   \n",
       "std         1.595419        4.736894    12.041805    10.057007     9.209297   \n",
       "min         0.000000        0.000000     0.000000     0.000000     1.500000   \n",
       "25%         1.000000        2.000000    10.000000     9.600000     7.750000   \n",
       "50%         1.000000        4.000000    15.000000    13.500000    10.710000   \n",
       "75%         3.000000        8.000000    20.000000    18.500000    15.000000   \n",
       "max         9.000000       41.000000   450.000000   260.000000   450.000000   \n",
       "\n",
       "       ...   PromCntAll  PromCntCard12  PromCntCard36  PromCntCardAll  \\\n",
       "count  ...  9686.000000    9686.000000    9686.000000     9686.000000   \n",
       "mean   ...    48.483481       5.392009      11.954677       19.007124   \n",
       "std    ...    23.061483       1.323648       4.571568        8.562193   \n",
       "min    ...     5.000000       0.000000       2.000000        2.000000   \n",
       "25%    ...    29.000000       5.000000       7.000000       12.000000   \n",
       "50%    ...    48.000000       6.000000      13.000000       19.000000   \n",
       "75%    ...    65.000000       6.000000      16.000000       26.000000   \n",
       "max    ...   174.000000      17.000000      28.000000       56.000000   \n",
       "\n",
       "       StatusCatStarAll   DemCluster       DemAge  DemMedHomeValue  \\\n",
       "count       9686.000000  9686.000000  7279.000000      9686.000000   \n",
       "mean           0.540574    27.150320    59.150845    110986.299814   \n",
       "std            0.498377    14.832665    16.516400     98670.855450   \n",
       "min            0.000000     0.000000     0.000000         0.000000   \n",
       "25%            0.000000    14.000000    47.000000     52300.000000   \n",
       "50%            1.000000    27.000000    60.000000     76900.000000   \n",
       "75%            1.000000    40.000000    73.000000    128175.000000   \n",
       "max            1.000000    53.000000    87.000000    600000.000000   \n",
       "\n",
       "       DemPctVeterans   DemMedIncome  \n",
       "count     9686.000000    9686.000000  \n",
       "mean        30.604274   40491.444249  \n",
       "std         11.394988   28707.494146  \n",
       "min          0.000000       0.000000  \n",
       "25%         25.000000   24464.000000  \n",
       "50%         31.000000   43100.000000  \n",
       "75%         37.000000   56876.000000  \n",
       "max         85.000000  200001.000000  \n",
       "\n",
       "[8 rows x 25 columns]"
      ]
     },
     "execution_count": 6,
     "metadata": {},
     "output_type": "execute_result"
    }
   ],
   "source": [
    "# Describe numeric features\n",
    "df.describe()"
   ]
  },
  {
   "cell_type": "markdown",
   "metadata": {},
   "source": [
    "Function pandas.Series.unique() prints unique values in a Series. Typically used for categorical variables."
   ]
  },
  {
   "cell_type": "code",
   "execution_count": 7,
   "metadata": {},
   "outputs": [
    {
     "data": {
      "text/plain": [
       "array([0, 1], dtype=int64)"
      ]
     },
     "execution_count": 7,
     "metadata": {},
     "output_type": "execute_result"
    }
   ],
   "source": [
    "# Describe unique value\n",
    "df['TargetB'].unique()"
   ]
  },
  {
   "cell_type": "code",
   "execution_count": 8,
   "metadata": {},
   "outputs": [
    {
     "data": {
      "text/plain": [
       "1    4843\n",
       "0    4843\n",
       "Name: TargetB, dtype: int64"
      ]
     },
     "execution_count": 8,
     "metadata": {},
     "output_type": "execute_result"
    }
   ],
   "source": [
    "df['TargetB'].value_counts()"
   ]
  },
  {
   "cell_type": "markdown",
   "metadata": {},
   "source": [
    "There are equal size of lapsing donor and non lapsing donor in dataset."
   ]
  },
  {
   "cell_type": "code",
   "execution_count": 9,
   "metadata": {},
   "outputs": [
    {
     "data": {
      "text/plain": [
       "array([nan, 67., 53., 47., 58., 39., 50., 45., 80., 61., 76., 41., 75.,\n",
       "       59., 51., 31., 54., 70., 42., 65., 81., 38., 56., 69., 52., 33.,\n",
       "       73., 71., 29., 60., 83., 43., 35., 77., 44., 72., 64., 34., 55.,\n",
       "       37., 57., 46., 49., 32., 66., 87., 40., 79., 25., 63., 62., 48.,\n",
       "       68., 86., 23., 27., 74., 78., 85., 26.,  7., 36., 82., 24., 17.,\n",
       "       30., 84., 21., 28., 22., 19., 16., 14.,  6.,  0.,  2., 20., 18.,\n",
       "       15.,  4.])"
      ]
     },
     "execution_count": 9,
     "metadata": {},
     "output_type": "execute_result"
    }
   ],
   "source": [
    "df['DemAge'].unique()"
   ]
  },
  {
   "cell_type": "code",
   "execution_count": 10,
   "metadata": {},
   "outputs": [
    {
     "data": {
      "text/plain": [
       "0.0       1\n",
       "2.0       1\n",
       "4.0       1\n",
       "6.0       3\n",
       "7.0      32\n",
       "       ... \n",
       "83.0    115\n",
       "84.0     70\n",
       "85.0     75\n",
       "86.0     68\n",
       "87.0     74\n",
       "Name: DemAge, Length: 79, dtype: int64"
      ]
     },
     "execution_count": 10,
     "metadata": {},
     "output_type": "execute_result"
    }
   ],
   "source": [
    "df['DemAge'].value_counts().sort_index()"
   ]
  },
  {
   "cell_type": "markdown",
   "metadata": {},
   "source": [
    "When dealing with interval variables, typically binning (categorising values into certain ranges) is very common to allow easier interpretation. In pandas, we can do this by supplying bins parameter into the .value_counts() function."
   ]
  },
  {
   "cell_type": "code",
   "execution_count": 11,
   "metadata": {},
   "outputs": [
    {
     "data": {
      "text/plain": [
       "(69.6, 75.4]     992\n",
       "(46.4, 52.2]     885\n",
       "(63.8, 69.6]     872\n",
       "(75.4, 81.2]     869\n",
       "(52.2, 58.0]     806\n",
       "(40.6, 46.4]     690\n",
       "(58.0, 63.8]     615\n",
       "(34.8, 40.6]     537\n",
       "(81.2, 87.0]     508\n",
       "(29.0, 34.8]     221\n",
       "(23.2, 29.0]     163\n",
       "(11.6, 17.4]      53\n",
       "(5.8, 11.6]       35\n",
       "(17.4, 23.2]      30\n",
       "(-0.088, 5.8]      3\n",
       "Name: DemAge, dtype: int64"
      ]
     },
     "execution_count": 11,
     "metadata": {},
     "output_type": "execute_result"
    }
   ],
   "source": [
    "df['DemAge'].value_counts(bins = 15)"
   ]
  },
  {
   "cell_type": "markdown",
   "metadata": {},
   "source": [
    "The output of these functions revealed a number of data problems with `DemAge` column."
   ]
  },
  {
   "cell_type": "markdown",
   "metadata": {},
   "source": [
    "There are only **7279** records in `DemAge` column (from .describe()'s count output), while the total number of records in this data set is **9686**. This indicates missing values in `DemAge`. This observation is also visible through the NaN printed by .unique() method. One record in `DemAge` has 0 as value (from the .value_counts() output). Logically, someone should not have age of 0. \n",
    "It indicates an errorneous data that needs to be removed from this column.\n",
    "\n",
    "These problems need to be rectified before building data mining models. We will learn the techniques to fix data issues later in section 3."
   ]
  },
  {
   "cell_type": "code",
   "execution_count": 12,
   "metadata": {},
   "outputs": [
    {
     "name": "stdout",
     "output_type": "stream",
     "text": [
      "A    5826\n",
      "S    2365\n",
      "F     660\n",
      "N     574\n",
      "E     227\n",
      "L      34\n",
      "Name: StatusCat96NK, dtype: int64\n",
      "\n",
      "\n",
      "F    5223\n",
      "M    3925\n",
      "U     538\n",
      "Name: DemGender, dtype: int64\n",
      "\n",
      "\n",
      "H    5377\n",
      "U    4309\n",
      "Name: DemHomeOwner, dtype: int64\n",
      "\n",
      "\n"
     ]
    }
   ],
   "source": [
    "# Explore object(category) columns\n",
    "cat_cols = [x for x in df.columns if df[x].dtype == 'object']\n",
    "for col in cat_cols:\n",
    "    print(df[col].value_counts())\n",
    "    print(\"\\n\")"
   ]
  },
  {
   "cell_type": "markdown",
   "metadata": {},
   "source": [
    "The output of these functions revealed a number of data problems:\n",
    "- Missing values in `TargetD`, `GiftAvgCard36`, `DemAge` columns.\n",
    "- `DemAge` has 0 as value where it should not happened logically. It indicates an errorneous data. "
   ]
  },
  {
   "cell_type": "markdown",
   "metadata": {},
   "source": [
    "### 2.2 Grouping and plotting distributions of columns"
   ]
  },
  {
   "cell_type": "markdown",
   "metadata": {},
   "source": [
    "Grouping is commonly used to see whether there is a trend between two or more different fields. For example, we would like to \n",
    "know specific correlations between tendency to be a lapsing donor (TargetB) and age (DemAge), gender (DemGender) or \n",
    "median home value (DemMedHomeValue)."
   ]
  },
  {
   "cell_type": "markdown",
   "metadata": {},
   "source": [
    "#### Average age of lapsing donors vs non-lapsing donors"
   ]
  },
  {
   "cell_type": "code",
   "execution_count": 13,
   "metadata": {
    "scrolled": true
   },
   "outputs": [
    {
     "data": {
      "text/plain": [
       "TargetB\n",
       "0    58.304444\n",
       "1    59.979070\n",
       "Name: DemAge, dtype: float64"
      ]
     },
     "execution_count": 13,
     "metadata": {},
     "output_type": "execute_result"
    }
   ],
   "source": [
    "df.groupby('TargetB').mean()['DemAge']"
   ]
  },
  {
   "cell_type": "markdown",
   "metadata": {},
   "source": [
    "#### Value count of each gender in different donors"
   ]
  },
  {
   "cell_type": "code",
   "execution_count": 14,
   "metadata": {
    "scrolled": true
   },
   "outputs": [
    {
     "data": {
      "text/plain": [
       "TargetB  DemGender\n",
       "0        F            2614\n",
       "         M            1963\n",
       "         U             266\n",
       "1        F            2609\n",
       "         M            1962\n",
       "         U             272\n",
       "Name: DemGender, dtype: int64"
      ]
     },
     "execution_count": 14,
     "metadata": {},
     "output_type": "execute_result"
    }
   ],
   "source": [
    "df.groupby('TargetB')['DemGender'].value_counts()"
   ]
  },
  {
   "cell_type": "markdown",
   "metadata": {},
   "source": [
    "#### Relative frequency of each gender in different donors"
   ]
  },
  {
   "cell_type": "code",
   "execution_count": 15,
   "metadata": {},
   "outputs": [
    {
     "name": "stdout",
     "output_type": "stream",
     "text": [
      "TargetB  DemGender\n",
      "0        F            0.269874\n",
      "         M            0.202664\n",
      "         U            0.027462\n",
      "1        F            0.269358\n",
      "         M            0.202560\n",
      "         U            0.028082\n",
      "Name: DemGender, dtype: float64\n"
     ]
    }
   ],
   "source": [
    "gender_counts = df.groupby('TargetB')['DemGender'].value_counts()\n",
    "print(gender_counts / len(df)) "
   ]
  },
  {
   "cell_type": "markdown",
   "metadata": {},
   "source": [
    "It seems there is an equal proportion of female/male/unknown gender donors in both lapsing and non-lapsing donors."
   ]
  },
  {
   "cell_type": "markdown",
   "metadata": {},
   "source": [
    "While all of the methods we have used so far are very useful in providing information about the data, data mining professionals \n",
    "commonly visualise these information in plots for easier presentation. In Python, there are many libraries to draw great data plots, \n",
    "such as matplotlib, seaborn, ggplot, plotly and bokeh. In this unit, we will use seaborn and matplotlib,\n",
    "two of the most popular visualisation libraries. Import both of them with the following command.\n",
    "\n",
    "Plotting the distribution values in a field/column is a common visualization task. A number options exist in seaborn/matplotlib. \n",
    "For interval/numerical variables, distplot can be used. Let's try that for `DemAge`. **distplot** is sensitive towards missing values \n",
    "(which are present in `DemAge`), thus we have to drop them using **dropna()** method."
   ]
  },
  {
   "cell_type": "code",
   "execution_count": 16,
   "metadata": {},
   "outputs": [
    {
     "data": {
      "image/png": "[encoded data removed]",
      "text/plain": [
       "<Figure size 432x288 with 1 Axes>"
      ]
     },
     "metadata": {
      "needs_background": "light"
     },
     "output_type": "display_data"
    }
   ],
   "source": [
    "# Plot distribution\n",
    "sns.distplot(df['DemAge'].dropna())\n",
    "plt.title(\"Distribution of Age\")\n",
    "plt.xlabel(\"Age\")\n",
    "plt.ylabel(\"Frequency\");"
   ]
  },
  {
   "cell_type": "markdown",
   "metadata": {},
   "source": [
    "From the plot above, we can see most donors are between 40-80 years old, with the data distribution skewed to right."
   ]
  },
  {
   "cell_type": "markdown",
   "metadata": {},
   "source": [
    "Distribution plots are typically use only for interval/numerical variables. For nominal/categorical variables, such as `DemGender`, **countplot** is used to build a bar chart to show distribution of each values."
   ]
  },
  {
   "cell_type": "code",
   "execution_count": 17,
   "metadata": {},
   "outputs": [
    {
     "data": {
      "image/png": "[encoded data removed]",
      "text/plain": [
       "<Figure size 432x288 with 1 Axes>"
      ]
     },
     "metadata": {
      "needs_background": "light"
     },
     "output_type": "display_data"
    }
   ],
   "source": [
    "sns.countplot(data = df, x = 'DemGender');\n",
    "plt.title(\"Distribution of Gender\")\n",
    "plt.xlabel(\"Gender\")\n",
    "plt.ylabel(\"Count\");"
   ]
  },
  {
   "cell_type": "markdown",
   "metadata": {},
   "source": [
    "Lastly, we can explore the distribution of a variable using **boxplot**. Assume we would like to see the difference of home values of the donors vs non-donors. We can build a boxplot with `TargetB` as *X* and `DemMedHomeValue` as *y*."
   ]
  },
  {
   "cell_type": "code",
   "execution_count": 18,
   "metadata": {},
   "outputs": [
    {
     "data": {
      "image/png": "[encoded data removed]",
      "text/plain": [
       "<Figure size 432x288 with 1 Axes>"
      ]
     },
     "metadata": {
      "needs_background": "light"
     },
     "output_type": "display_data"
    }
   ],
   "source": [
    "sns.boxplot(data = df,\n",
    "            x = 'TargetB',\n",
    "            y = 'DemMedHomeValue')\n",
    "plt.title(\"Difference of home values of the donors vs non-donors\")\n",
    "plt.xticks([0, 1], ['non-Donors', 'Donors']);"
   ]
  },
  {
   "cell_type": "markdown",
   "metadata": {},
   "source": [
    "The boxplot shows a slight difference of home values of lapsing and non-lapsing donors. Lapsing donors have slightly higher average and maximum home value, sign of affluence and wealth."
   ]
  },
  {
   "cell_type": "markdown",
   "metadata": {},
   "source": [
    "## 3. Modifying and Correcting Data"
   ]
  },
  {
   "cell_type": "markdown",
   "metadata": {},
   "source": [
    "Data exploration, grouping and plotting that we performed in the previous section reveal the following problems in the dataset:\n",
    "- Incorrect type used for `DemCluster` and `DemHomeOwner`. `DemCluster` should be an categorical/nominal variable and `DemHomeOwner` should be a binary variable.\n",
    "- Errorneous/invalid values (0) in `DemMedIncome` and `DemAge`.\n",
    "- Missing values in `DemAge`, `DemMedIncome`, `GiftAvgCard36`.\n",
    "- Redundant variables in `ID` and `TargetD`."
   ]
  },
  {
   "cell_type": "markdown",
   "metadata": {},
   "source": [
    "### 3.1. Setting correct type to variables"
   ]
  },
  {
   "cell_type": "markdown",
   "metadata": {},
   "source": [
    "#### Convert `DemCluster` to category datetype"
   ]
  },
  {
   "cell_type": "code",
   "execution_count": 19,
   "metadata": {
    "scrolled": true
   },
   "outputs": [],
   "source": [
    "df['DemCluster'] = df['DemCluster'].astype('category')"
   ]
  },
  {
   "cell_type": "markdown",
   "metadata": {},
   "source": [
    "#### Convert `DemCluster` to integer datetype with binary variables "
   ]
  },
  {
   "cell_type": "code",
   "execution_count": 20,
   "metadata": {},
   "outputs": [],
   "source": [
    "df.loc[df['DemHomeOwner'] == 'H', 'DemHomeOwner'] = 1\n",
    "df.loc[df['DemHomeOwner'] == 'U', 'DemHomeOwner'] = 0\n",
    "df['DemCluster'] = df['DemCluster'].astype(int)"
   ]
  },
  {
   "cell_type": "markdown",
   "metadata": {},
   "source": [
    "### 3.2. Correcting invalid values"
   ]
  },
  {
   "cell_type": "markdown",
   "metadata": {},
   "source": [
    "#### Replace invalid values (0) in `DemAge` with median."
   ]
  },
  {
   "cell_type": "markdown",
   "metadata": {},
   "source": [
    "Use [numpy.nanmedian](https://numpy.org/doc/stable/reference/generated/numpy.nanmedian.html) to calculate median with existance of nan."
   ]
  },
  {
   "cell_type": "code",
   "execution_count": 21,
   "metadata": {},
   "outputs": [],
   "source": [
    "df['DemAge'].replace(0, np.nanmedian(df['DemAge']), inplace = True)"
   ]
  },
  {
   "cell_type": "markdown",
   "metadata": {},
   "source": [
    "#### Replace invalid values (0) in  `DemMedIncome`, `GiftAvgCard36` with mean"
   ]
  },
  {
   "cell_type": "code",
   "execution_count": 22,
   "metadata": {},
   "outputs": [],
   "source": [
    "cols = ['DemMedIncome', 'GiftAvgCard36']\n",
    "for c in cols:\n",
    "    df[c].replace(0, df[c].mean(), inplace = True)"
   ]
  },
  {
   "cell_type": "markdown",
   "metadata": {},
   "source": [
    "### 3.3. Imputing Missing Values"
   ]
  },
  {
   "cell_type": "markdown",
   "metadata": {},
   "source": [
    "#### Impute median for missing values in `DemAge`, `DemMedIncome`, `GiftAvgCard36`"
   ]
  },
  {
   "cell_type": "code",
   "execution_count": 23,
   "metadata": {},
   "outputs": [],
   "source": [
    "df['DemAge'].fillna(np.nanmedian(df['DemAge']), inplace = True)"
   ]
  },
  {
   "cell_type": "markdown",
   "metadata": {},
   "source": [
    "#### Impute mean for missing values in  `DemMedIncome`, `GiftAvgCard36`"
   ]
  },
  {
   "cell_type": "code",
   "execution_count": 24,
   "metadata": {},
   "outputs": [],
   "source": [
    "cols = ['DemMedIncome', 'GiftAvgCard36']\n",
    "for c in cols:\n",
    "    df[c].fillna(df[c].mean(), inplace = True)"
   ]
  },
  {
   "cell_type": "markdown",
   "metadata": {},
   "source": [
    "### 3.4. Dropping Unnecessary Variables"
   ]
  },
  {
   "cell_type": "markdown",
   "metadata": {},
   "source": [
    "#### Drop `ID` and `TargetD` columns"
   ]
  },
  {
   "cell_type": "code",
   "execution_count": 25,
   "metadata": {},
   "outputs": [],
   "source": [
    "df.drop(columns = ['ID', 'TargetD'], inplace = True)"
   ]
  },
  {
   "cell_type": "markdown",
   "metadata": {},
   "source": [
    "### 3.5. Dropping Unnecessary Variables"
   ]
  },
  {
   "cell_type": "code",
   "execution_count": 26,
   "metadata": {
    "scrolled": true
   },
   "outputs": [
    {
     "data": {
      "text/plain": [
       "TargetB             0\n",
       "GiftCnt36           0\n",
       "GiftCntAll          0\n",
       "GiftCntCard36       0\n",
       "GiftCntCardAll      0\n",
       "GiftAvgLast         0\n",
       "GiftAvg36           0\n",
       "GiftAvgAll          0\n",
       "GiftAvgCard36       0\n",
       "GiftTimeLast        0\n",
       "GiftTimeFirst       0\n",
       "PromCnt12           0\n",
       "PromCnt36           0\n",
       "PromCntAll          0\n",
       "PromCntCard12       0\n",
       "PromCntCard36       0\n",
       "PromCntCardAll      0\n",
       "StatusCat96NK       0\n",
       "StatusCatStarAll    0\n",
       "DemCluster          0\n",
       "DemAge              0\n",
       "DemGender           0\n",
       "DemHomeOwner        0\n",
       "DemMedHomeValue     0\n",
       "DemPctVeterans      0\n",
       "DemMedIncome        0\n",
       "dtype: int64"
      ]
     },
     "execution_count": 26,
     "metadata": {},
     "output_type": "execute_result"
    }
   ],
   "source": [
    "df.isna().sum()"
   ]
  }
 ],
 "metadata": {
  "kernelspec": {
   "display_name": "Python 3",
   "language": "python",
   "name": "python3"
  },
  "language_info": {
   "codemirror_mode": {
    "name": "ipython",
    "version": 3
   },
   "file_extension": ".py",
   "mimetype": "text/x-python",
   "name": "python",
   "nbconvert_exporter": "python",
   "pygments_lexer": "ipython3",
   "version": "3.7.5"
  }
 },
 "nbformat": 4,
 "nbformat_minor": 4
}
